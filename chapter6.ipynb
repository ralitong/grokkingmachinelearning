{
 "cells": [
  {
   "cell_type": "code",
   "execution_count": 31,
   "metadata": {},
   "outputs": [
    {
     "name": "stdout",
     "output_type": "stream",
     "text": [
      "Requirement already satisfied: numpy in ./.venv/lib/python3.8/site-packages (from -r requirements.txt (line 1)) (1.23.5)\n",
      "Requirement already satisfied: matplotlib in ./.venv/lib/python3.8/site-packages (from -r requirements.txt (line 2)) (3.7.5)\n",
      "Requirement already satisfied: graphviz in ./.venv/lib/python3.8/site-packages (from -r requirements.txt (line 3)) (0.20.3)\n",
      "Requirement already satisfied: turicreate in ./.venv/lib/python3.8/site-packages (from -r requirements.txt (line 4)) (6.4.1)\n",
      "Requirement already satisfied: ipykernel in ./.venv/lib/python3.8/site-packages (from -r requirements.txt (line 5)) (6.29.5)\n",
      "Requirement already satisfied: torch in ./.venv/lib/python3.8/site-packages (from -r requirements.txt (line 6)) (2.4.1)\n",
      "Requirement already satisfied: contourpy>=1.0.1 in ./.venv/lib/python3.8/site-packages (from matplotlib->-r requirements.txt (line 2)) (1.1.1)\n",
      "Requirement already satisfied: cycler>=0.10 in ./.venv/lib/python3.8/site-packages (from matplotlib->-r requirements.txt (line 2)) (0.12.1)\n",
      "Requirement already satisfied: fonttools>=4.22.0 in ./.venv/lib/python3.8/site-packages (from matplotlib->-r requirements.txt (line 2)) (4.55.3)\n",
      "Requirement already satisfied: kiwisolver>=1.0.1 in ./.venv/lib/python3.8/site-packages (from matplotlib->-r requirements.txt (line 2)) (1.4.7)\n",
      "Requirement already satisfied: packaging>=20.0 in ./.venv/lib/python3.8/site-packages (from matplotlib->-r requirements.txt (line 2)) (24.2)\n",
      "Requirement already satisfied: pillow>=6.2.0 in ./.venv/lib/python3.8/site-packages (from matplotlib->-r requirements.txt (line 2)) (10.4.0)\n",
      "Requirement already satisfied: pyparsing>=2.3.1 in ./.venv/lib/python3.8/site-packages (from matplotlib->-r requirements.txt (line 2)) (3.1.4)\n",
      "Requirement already satisfied: python-dateutil>=2.7 in ./.venv/lib/python3.8/site-packages (from matplotlib->-r requirements.txt (line 2)) (2.9.0.post0)\n",
      "Requirement already satisfied: importlib-resources>=3.2.0 in ./.venv/lib/python3.8/site-packages (from matplotlib->-r requirements.txt (line 2)) (6.4.5)\n",
      "Requirement already satisfied: decorator>=4.0.9 in ./.venv/lib/python3.8/site-packages (from turicreate->-r requirements.txt (line 4)) (5.1.1)\n",
      "Requirement already satisfied: pandas>=0.23.2 in ./.venv/lib/python3.8/site-packages (from turicreate->-r requirements.txt (line 4)) (2.0.3)\n",
      "Requirement already satisfied: prettytable==0.7.2 in ./.venv/lib/python3.8/site-packages (from turicreate->-r requirements.txt (line 4)) (0.7.2)\n",
      "Requirement already satisfied: resampy==0.2.1 in ./.venv/lib/python3.8/site-packages (from turicreate->-r requirements.txt (line 4)) (0.2.1)\n",
      "Requirement already satisfied: requests>=2.9.1 in ./.venv/lib/python3.8/site-packages (from turicreate->-r requirements.txt (line 4)) (2.32.3)\n",
      "Requirement already satisfied: scipy>=1.1.0 in ./.venv/lib/python3.8/site-packages (from turicreate->-r requirements.txt (line 4)) (1.10.1)\n",
      "Requirement already satisfied: six>=1.10.0 in ./.venv/lib/python3.8/site-packages (from turicreate->-r requirements.txt (line 4)) (1.17.0)\n",
      "Requirement already satisfied: coremltools==4.0b3 in ./.venv/lib/python3.8/site-packages (from turicreate->-r requirements.txt (line 4)) (4.0b3)\n",
      "Requirement already satisfied: tensorflow>=2.0.0 in ./.venv/lib/python3.8/site-packages (from turicreate->-r requirements.txt (line 4)) (2.12.0)\n",
      "Requirement already satisfied: numba<0.51.0 in ./.venv/lib/python3.8/site-packages (from turicreate->-r requirements.txt (line 4)) (0.50.1)\n",
      "Requirement already satisfied: protobuf>=3.1.0 in ./.venv/lib/python3.8/site-packages (from coremltools==4.0b3->turicreate->-r requirements.txt (line 4)) (4.25.5)\n",
      "Requirement already satisfied: attr in ./.venv/lib/python3.8/site-packages (from coremltools==4.0b3->turicreate->-r requirements.txt (line 4)) (0.3.2)\n",
      "Requirement already satisfied: attrs in ./.venv/lib/python3.8/site-packages (from coremltools==4.0b3->turicreate->-r requirements.txt (line 4)) (24.3.0)\n",
      "Requirement already satisfied: sympy in ./.venv/lib/python3.8/site-packages (from coremltools==4.0b3->turicreate->-r requirements.txt (line 4)) (1.13.3)\n",
      "Requirement already satisfied: tqdm in ./.venv/lib/python3.8/site-packages (from coremltools==4.0b3->turicreate->-r requirements.txt (line 4)) (4.67.1)\n",
      "Requirement already satisfied: comm>=0.1.1 in ./.venv/lib/python3.8/site-packages (from ipykernel->-r requirements.txt (line 5)) (0.2.2)\n",
      "Requirement already satisfied: debugpy>=1.6.5 in ./.venv/lib/python3.8/site-packages (from ipykernel->-r requirements.txt (line 5)) (1.8.11)\n",
      "Requirement already satisfied: ipython>=7.23.1 in ./.venv/lib/python3.8/site-packages (from ipykernel->-r requirements.txt (line 5)) (8.12.3)\n",
      "Requirement already satisfied: jupyter-client>=6.1.12 in ./.venv/lib/python3.8/site-packages (from ipykernel->-r requirements.txt (line 5)) (8.6.3)\n",
      "Requirement already satisfied: jupyter-core!=5.0.*,>=4.12 in ./.venv/lib/python3.8/site-packages (from ipykernel->-r requirements.txt (line 5)) (5.7.2)\n",
      "Requirement already satisfied: matplotlib-inline>=0.1 in ./.venv/lib/python3.8/site-packages (from ipykernel->-r requirements.txt (line 5)) (0.1.7)\n",
      "Requirement already satisfied: nest-asyncio in ./.venv/lib/python3.8/site-packages (from ipykernel->-r requirements.txt (line 5)) (1.6.0)\n",
      "Requirement already satisfied: psutil in ./.venv/lib/python3.8/site-packages (from ipykernel->-r requirements.txt (line 5)) (6.1.1)\n",
      "Requirement already satisfied: pyzmq>=24 in ./.venv/lib/python3.8/site-packages (from ipykernel->-r requirements.txt (line 5)) (26.2.0)\n",
      "Requirement already satisfied: tornado>=6.1 in ./.venv/lib/python3.8/site-packages (from ipykernel->-r requirements.txt (line 5)) (6.4.2)\n",
      "Requirement already satisfied: traitlets>=5.4.0 in ./.venv/lib/python3.8/site-packages (from ipykernel->-r requirements.txt (line 5)) (5.14.3)\n",
      "Requirement already satisfied: filelock in ./.venv/lib/python3.8/site-packages (from torch->-r requirements.txt (line 6)) (3.16.1)\n",
      "Requirement already satisfied: typing-extensions>=4.8.0 in ./.venv/lib/python3.8/site-packages (from torch->-r requirements.txt (line 6)) (4.12.2)\n",
      "Requirement already satisfied: networkx in ./.venv/lib/python3.8/site-packages (from torch->-r requirements.txt (line 6)) (3.1)\n",
      "Requirement already satisfied: jinja2 in ./.venv/lib/python3.8/site-packages (from torch->-r requirements.txt (line 6)) (3.1.5)\n",
      "Requirement already satisfied: fsspec in ./.venv/lib/python3.8/site-packages (from torch->-r requirements.txt (line 6)) (2024.12.0)\n",
      "Requirement already satisfied: nvidia-cuda-nvrtc-cu12==12.1.105 in ./.venv/lib/python3.8/site-packages (from torch->-r requirements.txt (line 6)) (12.1.105)\n",
      "Requirement already satisfied: nvidia-cuda-runtime-cu12==12.1.105 in ./.venv/lib/python3.8/site-packages (from torch->-r requirements.txt (line 6)) (12.1.105)\n",
      "Requirement already satisfied: nvidia-cuda-cupti-cu12==12.1.105 in ./.venv/lib/python3.8/site-packages (from torch->-r requirements.txt (line 6)) (12.1.105)\n",
      "Requirement already satisfied: nvidia-cudnn-cu12==9.1.0.70 in ./.venv/lib/python3.8/site-packages (from torch->-r requirements.txt (line 6)) (9.1.0.70)\n",
      "Requirement already satisfied: nvidia-cublas-cu12==12.1.3.1 in ./.venv/lib/python3.8/site-packages (from torch->-r requirements.txt (line 6)) (12.1.3.1)\n",
      "Requirement already satisfied: nvidia-cufft-cu12==11.0.2.54 in ./.venv/lib/python3.8/site-packages (from torch->-r requirements.txt (line 6)) (11.0.2.54)\n",
      "Requirement already satisfied: nvidia-curand-cu12==10.3.2.106 in ./.venv/lib/python3.8/site-packages (from torch->-r requirements.txt (line 6)) (10.3.2.106)\n",
      "Requirement already satisfied: nvidia-cusolver-cu12==11.4.5.107 in ./.venv/lib/python3.8/site-packages (from torch->-r requirements.txt (line 6)) (11.4.5.107)\n",
      "Requirement already satisfied: nvidia-cusparse-cu12==12.1.0.106 in ./.venv/lib/python3.8/site-packages (from torch->-r requirements.txt (line 6)) (12.1.0.106)\n",
      "Requirement already satisfied: nvidia-nccl-cu12==2.20.5 in ./.venv/lib/python3.8/site-packages (from torch->-r requirements.txt (line 6)) (2.20.5)\n",
      "Requirement already satisfied: nvidia-nvtx-cu12==12.1.105 in ./.venv/lib/python3.8/site-packages (from torch->-r requirements.txt (line 6)) (12.1.105)\n",
      "Requirement already satisfied: triton==3.0.0 in ./.venv/lib/python3.8/site-packages (from torch->-r requirements.txt (line 6)) (3.0.0)\n",
      "Requirement already satisfied: nvidia-nvjitlink-cu12 in ./.venv/lib/python3.8/site-packages (from nvidia-cusolver-cu12==11.4.5.107->torch->-r requirements.txt (line 6)) (12.6.85)\n",
      "Requirement already satisfied: zipp>=3.1.0 in ./.venv/lib/python3.8/site-packages (from importlib-resources>=3.2.0->matplotlib->-r requirements.txt (line 2)) (3.20.2)\n",
      "Requirement already satisfied: backcall in ./.venv/lib/python3.8/site-packages (from ipython>=7.23.1->ipykernel->-r requirements.txt (line 5)) (0.2.0)\n",
      "Requirement already satisfied: jedi>=0.16 in ./.venv/lib/python3.8/site-packages (from ipython>=7.23.1->ipykernel->-r requirements.txt (line 5)) (0.19.2)\n",
      "Requirement already satisfied: pickleshare in ./.venv/lib/python3.8/site-packages (from ipython>=7.23.1->ipykernel->-r requirements.txt (line 5)) (0.7.5)\n",
      "Requirement already satisfied: prompt-toolkit!=3.0.37,<3.1.0,>=3.0.30 in ./.venv/lib/python3.8/site-packages (from ipython>=7.23.1->ipykernel->-r requirements.txt (line 5)) (3.0.48)\n",
      "Requirement already satisfied: pygments>=2.4.0 in ./.venv/lib/python3.8/site-packages (from ipython>=7.23.1->ipykernel->-r requirements.txt (line 5)) (2.18.0)\n",
      "Requirement already satisfied: stack-data in ./.venv/lib/python3.8/site-packages (from ipython>=7.23.1->ipykernel->-r requirements.txt (line 5)) (0.6.3)\n",
      "Requirement already satisfied: pexpect>4.3 in ./.venv/lib/python3.8/site-packages (from ipython>=7.23.1->ipykernel->-r requirements.txt (line 5)) (4.9.0)\n",
      "Requirement already satisfied: importlib-metadata>=4.8.3 in ./.venv/lib/python3.8/site-packages (from jupyter-client>=6.1.12->ipykernel->-r requirements.txt (line 5)) (8.5.0)\n",
      "Requirement already satisfied: platformdirs>=2.5 in ./.venv/lib/python3.8/site-packages (from jupyter-core!=5.0.*,>=4.12->ipykernel->-r requirements.txt (line 5)) (4.3.6)\n",
      "Requirement already satisfied: llvmlite<0.34,>=0.33.0.dev0 in ./.venv/lib/python3.8/site-packages (from numba<0.51.0->turicreate->-r requirements.txt (line 4)) (0.33.0)\n",
      "Requirement already satisfied: setuptools in ./.venv/lib/python3.8/site-packages (from numba<0.51.0->turicreate->-r requirements.txt (line 4)) (75.3.0)\n",
      "Requirement already satisfied: pytz>=2020.1 in ./.venv/lib/python3.8/site-packages (from pandas>=0.23.2->turicreate->-r requirements.txt (line 4)) (2024.2)\n",
      "Requirement already satisfied: tzdata>=2022.1 in ./.venv/lib/python3.8/site-packages (from pandas>=0.23.2->turicreate->-r requirements.txt (line 4)) (2024.2)\n",
      "Requirement already satisfied: charset-normalizer<4,>=2 in ./.venv/lib/python3.8/site-packages (from requests>=2.9.1->turicreate->-r requirements.txt (line 4)) (3.4.0)\n",
      "Requirement already satisfied: idna<4,>=2.5 in ./.venv/lib/python3.8/site-packages (from requests>=2.9.1->turicreate->-r requirements.txt (line 4)) (3.10)\n",
      "Requirement already satisfied: urllib3<3,>=1.21.1 in ./.venv/lib/python3.8/site-packages (from requests>=2.9.1->turicreate->-r requirements.txt (line 4)) (2.2.3)\n",
      "Requirement already satisfied: certifi>=2017.4.17 in ./.venv/lib/python3.8/site-packages (from requests>=2.9.1->turicreate->-r requirements.txt (line 4)) (2024.12.14)\n",
      "Requirement already satisfied: absl-py>=1.0.0 in ./.venv/lib/python3.8/site-packages (from tensorflow>=2.0.0->turicreate->-r requirements.txt (line 4)) (2.1.0)\n",
      "Requirement already satisfied: astunparse>=1.6.0 in ./.venv/lib/python3.8/site-packages (from tensorflow>=2.0.0->turicreate->-r requirements.txt (line 4)) (1.6.3)\n",
      "Requirement already satisfied: flatbuffers>=2.0 in ./.venv/lib/python3.8/site-packages (from tensorflow>=2.0.0->turicreate->-r requirements.txt (line 4)) (24.12.23)\n",
      "Requirement already satisfied: gast<=0.4.0,>=0.2.1 in ./.venv/lib/python3.8/site-packages (from tensorflow>=2.0.0->turicreate->-r requirements.txt (line 4)) (0.4.0)\n",
      "Requirement already satisfied: google-pasta>=0.1.1 in ./.venv/lib/python3.8/site-packages (from tensorflow>=2.0.0->turicreate->-r requirements.txt (line 4)) (0.2.0)\n",
      "Requirement already satisfied: grpcio<2.0,>=1.24.3 in ./.venv/lib/python3.8/site-packages (from tensorflow>=2.0.0->turicreate->-r requirements.txt (line 4)) (1.68.1)\n",
      "Requirement already satisfied: h5py>=2.9.0 in ./.venv/lib/python3.8/site-packages (from tensorflow>=2.0.0->turicreate->-r requirements.txt (line 4)) (3.11.0)\n",
      "Requirement already satisfied: jax>=0.3.15 in ./.venv/lib/python3.8/site-packages (from tensorflow>=2.0.0->turicreate->-r requirements.txt (line 4)) (0.4.13)\n",
      "Requirement already satisfied: keras<2.13,>=2.12.0 in ./.venv/lib/python3.8/site-packages (from tensorflow>=2.0.0->turicreate->-r requirements.txt (line 4)) (2.12.0)\n",
      "Requirement already satisfied: libclang>=13.0.0 in ./.venv/lib/python3.8/site-packages (from tensorflow>=2.0.0->turicreate->-r requirements.txt (line 4)) (18.1.1)\n",
      "Requirement already satisfied: opt-einsum>=2.3.2 in ./.venv/lib/python3.8/site-packages (from tensorflow>=2.0.0->turicreate->-r requirements.txt (line 4)) (3.4.0)\n",
      "Requirement already satisfied: tensorboard<2.13,>=2.12 in ./.venv/lib/python3.8/site-packages (from tensorflow>=2.0.0->turicreate->-r requirements.txt (line 4)) (2.12.3)\n",
      "Requirement already satisfied: tensorflow-estimator<2.13,>=2.12.0 in ./.venv/lib/python3.8/site-packages (from tensorflow>=2.0.0->turicreate->-r requirements.txt (line 4)) (2.12.0)\n",
      "Requirement already satisfied: termcolor>=1.1.0 in ./.venv/lib/python3.8/site-packages (from tensorflow>=2.0.0->turicreate->-r requirements.txt (line 4)) (2.4.0)\n",
      "Requirement already satisfied: wrapt<1.15,>=1.11.0 in ./.venv/lib/python3.8/site-packages (from tensorflow>=2.0.0->turicreate->-r requirements.txt (line 4)) (1.14.1)\n",
      "Requirement already satisfied: tensorflow-io-gcs-filesystem>=0.23.1 in ./.venv/lib/python3.8/site-packages (from tensorflow>=2.0.0->turicreate->-r requirements.txt (line 4)) (0.34.0)\n",
      "Requirement already satisfied: MarkupSafe>=2.0 in ./.venv/lib/python3.8/site-packages (from jinja2->torch->-r requirements.txt (line 6)) (2.1.5)\n",
      "Requirement already satisfied: mpmath<1.4,>=1.1.0 in ./.venv/lib/python3.8/site-packages (from sympy->coremltools==4.0b3->turicreate->-r requirements.txt (line 4)) (1.3.0)\n",
      "Requirement already satisfied: wheel<1.0,>=0.23.0 in ./.venv/lib/python3.8/site-packages (from astunparse>=1.6.0->tensorflow>=2.0.0->turicreate->-r requirements.txt (line 4)) (0.45.1)\n",
      "Requirement already satisfied: ml-dtypes>=0.1.0 in ./.venv/lib/python3.8/site-packages (from jax>=0.3.15->tensorflow>=2.0.0->turicreate->-r requirements.txt (line 4)) (0.2.0)\n",
      "Requirement already satisfied: parso<0.9.0,>=0.8.4 in ./.venv/lib/python3.8/site-packages (from jedi>=0.16->ipython>=7.23.1->ipykernel->-r requirements.txt (line 5)) (0.8.4)\n",
      "Requirement already satisfied: ptyprocess>=0.5 in ./.venv/lib/python3.8/site-packages (from pexpect>4.3->ipython>=7.23.1->ipykernel->-r requirements.txt (line 5)) (0.7.0)\n",
      "Requirement already satisfied: wcwidth in ./.venv/lib/python3.8/site-packages (from prompt-toolkit!=3.0.37,<3.1.0,>=3.0.30->ipython>=7.23.1->ipykernel->-r requirements.txt (line 5)) (0.2.13)\n",
      "Requirement already satisfied: google-auth<3,>=1.6.3 in ./.venv/lib/python3.8/site-packages (from tensorboard<2.13,>=2.12->tensorflow>=2.0.0->turicreate->-r requirements.txt (line 4)) (2.37.0)\n",
      "Requirement already satisfied: google-auth-oauthlib<1.1,>=0.5 in ./.venv/lib/python3.8/site-packages (from tensorboard<2.13,>=2.12->tensorflow>=2.0.0->turicreate->-r requirements.txt (line 4)) (1.0.0)\n",
      "Requirement already satisfied: markdown>=2.6.8 in ./.venv/lib/python3.8/site-packages (from tensorboard<2.13,>=2.12->tensorflow>=2.0.0->turicreate->-r requirements.txt (line 4)) (3.7)\n",
      "Requirement already satisfied: tensorboard-data-server<0.8.0,>=0.7.0 in ./.venv/lib/python3.8/site-packages (from tensorboard<2.13,>=2.12->tensorflow>=2.0.0->turicreate->-r requirements.txt (line 4)) (0.7.2)\n",
      "Requirement already satisfied: werkzeug>=1.0.1 in ./.venv/lib/python3.8/site-packages (from tensorboard<2.13,>=2.12->tensorflow>=2.0.0->turicreate->-r requirements.txt (line 4)) (3.0.6)\n",
      "Requirement already satisfied: executing>=1.2.0 in ./.venv/lib/python3.8/site-packages (from stack-data->ipython>=7.23.1->ipykernel->-r requirements.txt (line 5)) (2.1.0)\n",
      "Requirement already satisfied: asttokens>=2.1.0 in ./.venv/lib/python3.8/site-packages (from stack-data->ipython>=7.23.1->ipykernel->-r requirements.txt (line 5)) (3.0.0)\n",
      "Requirement already satisfied: pure-eval in ./.venv/lib/python3.8/site-packages (from stack-data->ipython>=7.23.1->ipykernel->-r requirements.txt (line 5)) (0.2.3)\n",
      "Requirement already satisfied: cachetools<6.0,>=2.0.0 in ./.venv/lib/python3.8/site-packages (from google-auth<3,>=1.6.3->tensorboard<2.13,>=2.12->tensorflow>=2.0.0->turicreate->-r requirements.txt (line 4)) (5.5.0)\n",
      "Requirement already satisfied: pyasn1-modules>=0.2.1 in ./.venv/lib/python3.8/site-packages (from google-auth<3,>=1.6.3->tensorboard<2.13,>=2.12->tensorflow>=2.0.0->turicreate->-r requirements.txt (line 4)) (0.4.1)\n",
      "Requirement already satisfied: rsa<5,>=3.1.4 in ./.venv/lib/python3.8/site-packages (from google-auth<3,>=1.6.3->tensorboard<2.13,>=2.12->tensorflow>=2.0.0->turicreate->-r requirements.txt (line 4)) (4.9)\n",
      "Requirement already satisfied: requests-oauthlib>=0.7.0 in ./.venv/lib/python3.8/site-packages (from google-auth-oauthlib<1.1,>=0.5->tensorboard<2.13,>=2.12->tensorflow>=2.0.0->turicreate->-r requirements.txt (line 4)) (2.0.0)\n",
      "Requirement already satisfied: pyasn1<0.7.0,>=0.4.6 in ./.venv/lib/python3.8/site-packages (from pyasn1-modules>=0.2.1->google-auth<3,>=1.6.3->tensorboard<2.13,>=2.12->tensorflow>=2.0.0->turicreate->-r requirements.txt (line 4)) (0.6.1)\n",
      "Requirement already satisfied: oauthlib>=3.0.0 in ./.venv/lib/python3.8/site-packages (from requests-oauthlib>=0.7.0->google-auth-oauthlib<1.1,>=0.5->tensorboard<2.13,>=2.12->tensorflow>=2.0.0->turicreate->-r requirements.txt (line 4)) (3.2.2)\n",
      "Note: you may need to restart the kernel to use updated packages.\n"
     ]
    }
   ],
   "source": [
    "%pip install -r requirements.txt"
   ]
  },
  {
   "cell_type": "code",
   "execution_count": 32,
   "metadata": {},
   "outputs": [],
   "source": [
    "import utils"
   ]
  },
  {
   "cell_type": "code",
   "execution_count": 33,
   "metadata": {},
   "outputs": [],
   "source": [
    "import numpy as np\n",
    "import random\n",
    "features = np.array(\n",
    "    [\n",
    "        [1, 0],\n",
    "        [0, 2],\n",
    "        [1, 1],\n",
    "        [1, 2],\n",
    "        [1, 3],\n",
    "        [2, 2],\n",
    "        [2, 3],\n",
    "        [3, 2]\n",
    "    ]\n",
    ")\n",
    "labels = np.array(\n",
    "    [0, 0, 0, 0, 1, 1, 1, 1]\n",
    ")\n",
    "\n",
    "\n",
    "def sigmoid(x):\n",
    "    return np.exp(x)/(1 + np.exp(x))\n",
    "\n",
    "\n",
    "def score(weights, bias, features):\n",
    "    return np.dot(weights, features) + bias\n",
    "\n",
    "\n",
    "def prediction(weights, bias, features):\n",
    "    return sigmoid(score(weights, bias, features))\n",
    "\n",
    "# formula for log loss\n",
    "# log loss = -y * ln(y') - (1 - y) ln(1 - y)\n",
    "\n",
    "\n",
    "def log_loss(weights, bias, features, label):\n",
    "    pred = prediction(weights, bias, features)\n",
    "    return -label * np.log(pred) - (1-label) * np.log(1-pred)\n",
    "\n",
    "\n",
    "def total_log_loss(weights, bias, features, labels):\n",
    "    total_error = 0\n",
    "    for i in range(len(features)):\n",
    "        total_error += log_loss(weights, bias, features[i], labels[i])\n",
    "    return total_error\n",
    "\n",
    "\n",
    "def logistic_trick(weights, bias, features, label, learning_rate=0.01):\n",
    "    pred = prediction(weights, bias, features)\n",
    "    for i in range(len(weights)):\n",
    "        feature_i = features[i]\n",
    "        weights[i] += (label - pred) * feature_i * learning_rate\n",
    "        bias += (label - pred) * learning_rate\n",
    "    return weights, bias\n",
    "\n",
    "\n",
    "def logistic_regression(features, labels, learning_rate=0.01, epochs=1000):\n",
    "    utils.plot_points(features, labels)\n",
    "    weights = [1.0 for i in range(len(features[0]))]\n",
    "    bias = 0.0\n",
    "    errors = []\n",
    "    for i in range(epochs):\n",
    "        errors.append(total_log_loss(weights, bias, features, labels))\n",
    "\n",
    "        # randomly select a label and a feature\n",
    "        random_index = random.randint(0, len(features) - 1)\n",
    "        random_feature = features[random_index]\n",
    "        random_label = labels[random_index]\n",
    "\n",
    "        weights, bias = logistic_trick(\n",
    "            weights, bias, random_feature, random_label, learning_rate)\n",
    "    return weights, bias"
   ]
  },
  {
   "cell_type": "code",
   "execution_count": 44,
   "metadata": {},
   "outputs": [
    {
     "data": {
      "image/png": "[encoded data removed]",
      "text/plain": [
       "<Figure size 640x480 with 1 Axes>"
      ]
     },
     "metadata": {},
     "output_type": "display_data"
    }
   ],
   "source": [
    "weights, bias = logistic_regression(features, labels)\n",
    "a = weights[0]\n",
    "b = weights[1]\n",
    "c = bias\n",
    "utils.draw_line(a, b, c)\n"
   ]
  },
  {
   "cell_type": "code",
   "execution_count": 35,
   "metadata": {},
   "outputs": [
    {
     "data": {
      "text/html": [
       "<pre>Finished parsing file /home/ubuntu/grokkingmachinelearning/IMDB_Dataset.csv</pre>"
      ],
      "text/plain": [
       "Finished parsing file /home/ubuntu/grokkingmachinelearning/IMDB_Dataset.csv"
      ]
     },
     "metadata": {},
     "output_type": "display_data"
    },
    {
     "data": {
      "text/html": [
       "<pre>Parsing completed. Parsed 100 lines in 0.213641 secs.</pre>"
      ],
      "text/plain": [
       "Parsing completed. Parsed 100 lines in 0.213641 secs."
      ]
     },
     "metadata": {},
     "output_type": "display_data"
    },
    {
     "name": "stdout",
     "output_type": "stream",
     "text": [
      "------------------------------------------------------\n",
      "Inferred types from first 100 line(s) of file as \n",
      "column_type_hints=[str,str]\n",
      "If parsing fails due to incorrect types, you can correct\n",
      "the inferred type list above and pass it to read_csv in\n",
      "the column_type_hints argument\n",
      "------------------------------------------------------\n"
     ]
    },
    {
     "data": {
      "text/html": [
       "<pre>Read 39624 lines. Lines per second: 117053</pre>"
      ],
      "text/plain": [
       "Read 39624 lines. Lines per second: 117053"
      ]
     },
     "metadata": {},
     "output_type": "display_data"
    },
    {
     "data": {
      "text/html": [
       "<pre>Finished parsing file /home/ubuntu/grokkingmachinelearning/IMDB_Dataset.csv</pre>"
      ],
      "text/plain": [
       "Finished parsing file /home/ubuntu/grokkingmachinelearning/IMDB_Dataset.csv"
      ]
     },
     "metadata": {},
     "output_type": "display_data"
    },
    {
     "data": {
      "text/html": [
       "<pre>Parsing completed. Parsed 50000 lines in 0.396218 secs.</pre>"
      ],
      "text/plain": [
       "Parsing completed. Parsed 50000 lines in 0.396218 secs."
      ]
     },
     "metadata": {},
     "output_type": "display_data"
    },
    {
     "name": "stdout",
     "output_type": "stream",
     "text": [
      "PROGRESS: Creating a validation set from 5 percent of training data. This may take a while.\n",
      "          You can set ``validation_set=None`` to disable validation tracking.\n",
      "\n"
     ]
    },
    {
     "data": {
      "text/html": [
       "<pre>Logistic regression:</pre>"
      ],
      "text/plain": [
       "Logistic regression:"
      ]
     },
     "metadata": {},
     "output_type": "display_data"
    },
    {
     "data": {
      "text/html": [
       "<pre>--------------------------------------------------------</pre>"
      ],
      "text/plain": [
       "--------------------------------------------------------"
      ]
     },
     "metadata": {},
     "output_type": "display_data"
    },
    {
     "data": {
      "text/html": [
       "<pre>Number of examples          : 47500</pre>"
      ],
      "text/plain": [
       "Number of examples          : 47500"
      ]
     },
     "metadata": {},
     "output_type": "display_data"
    },
    {
     "data": {
      "text/html": [
       "<pre>Number of classes           : 2</pre>"
      ],
      "text/plain": [
       "Number of classes           : 2"
      ]
     },
     "metadata": {},
     "output_type": "display_data"
    },
    {
     "data": {
      "text/html": [
       "<pre>Number of feature columns   : 1</pre>"
      ],
      "text/plain": [
       "Number of feature columns   : 1"
      ]
     },
     "metadata": {},
     "output_type": "display_data"
    },
    {
     "data": {
      "text/html": [
       "<pre>Number of unpacked features : 101843</pre>"
      ],
      "text/plain": [
       "Number of unpacked features : 101843"
      ]
     },
     "metadata": {},
     "output_type": "display_data"
    },
    {
     "data": {
      "text/html": [
       "<pre>Number of coefficients      : 101844</pre>"
      ],
      "text/plain": [
       "Number of coefficients      : 101844"
      ]
     },
     "metadata": {},
     "output_type": "display_data"
    },
    {
     "data": {
      "text/html": [
       "<pre>Starting L-BFGS</pre>"
      ],
      "text/plain": [
       "Starting L-BFGS"
      ]
     },
     "metadata": {},
     "output_type": "display_data"
    },
    {
     "data": {
      "text/html": [
       "<pre>--------------------------------------------------------</pre>"
      ],
      "text/plain": [
       "--------------------------------------------------------"
      ]
     },
     "metadata": {},
     "output_type": "display_data"
    },
    {
     "data": {
      "text/html": [
       "<pre>+-----------+----------+-----------+--------------+-------------------+---------------------+</pre>"
      ],
      "text/plain": [
       "+-----------+----------+-----------+--------------+-------------------+---------------------+"
      ]
     },
     "metadata": {},
     "output_type": "display_data"
    },
    {
     "data": {
      "text/html": [
       "<pre>| Iteration | Passes   | Step size | Elapsed Time | Training Accuracy | Validation Accuracy |</pre>"
      ],
      "text/plain": [
       "| Iteration | Passes   | Step size | Elapsed Time | Training Accuracy | Validation Accuracy |"
      ]
     },
     "metadata": {},
     "output_type": "display_data"
    },
    {
     "data": {
      "text/html": [
       "<pre>+-----------+----------+-----------+--------------+-------------------+---------------------+</pre>"
      ],
      "text/plain": [
       "+-----------+----------+-----------+--------------+-------------------+---------------------+"
      ]
     },
     "metadata": {},
     "output_type": "display_data"
    },
    {
     "data": {
      "text/html": [
       "<pre>| 0         | 2        | 1.000000  | 0.154060     | 0.917326          | 0.856400            |</pre>"
      ],
      "text/plain": [
       "| 0         | 2        | 1.000000  | 0.154060     | 0.917326          | 0.856400            |"
      ]
     },
     "metadata": {},
     "output_type": "display_data"
    },
    {
     "data": {
      "text/html": [
       "<pre>| 1         | 4        | 1.000000  | 0.278981     | 0.939958          | 0.862800            |</pre>"
      ],
      "text/plain": [
       "| 1         | 4        | 1.000000  | 0.278981     | 0.939958          | 0.862800            |"
      ]
     },
     "metadata": {},
     "output_type": "display_data"
    },
    {
     "data": {
      "text/html": [
       "<pre>| 2         | 6        | 0.837855  | 0.399817     | 0.971474          | 0.893600            |</pre>"
      ],
      "text/plain": [
       "| 2         | 6        | 0.837855  | 0.399817     | 0.971474          | 0.893600            |"
      ]
     },
     "metadata": {},
     "output_type": "display_data"
    },
    {
     "data": {
      "text/html": [
       "<pre>| 3         | 7        | 1.000000  | 0.484331     | 0.980042          | 0.899200            |</pre>"
      ],
      "text/plain": [
       "| 3         | 7        | 1.000000  | 0.484331     | 0.980042          | 0.899200            |"
      ]
     },
     "metadata": {},
     "output_type": "display_data"
    },
    {
     "data": {
      "text/html": [
       "<pre>| 4         | 8        | 1.000000  | 0.576968     | 0.987179          | 0.903600            |</pre>"
      ],
      "text/plain": [
       "| 4         | 8        | 1.000000  | 0.576968     | 0.987179          | 0.903600            |"
      ]
     },
     "metadata": {},
     "output_type": "display_data"
    },
    {
     "data": {
      "text/html": [
       "<pre>| 9         | 13       | 1.000000  | 1.008674     | 0.999684          | 0.877200            |</pre>"
      ],
      "text/plain": [
       "| 9         | 13       | 1.000000  | 1.008674     | 0.999684          | 0.877200            |"
      ]
     },
     "metadata": {},
     "output_type": "display_data"
    },
    {
     "data": {
      "text/html": [
       "<pre>+-----------+----------+-----------+--------------+-------------------+---------------------+</pre>"
      ],
      "text/plain": [
       "+-----------+----------+-----------+--------------+-------------------+---------------------+"
      ]
     },
     "metadata": {},
     "output_type": "display_data"
    },
    {
     "data": {
      "text/html": [
       "<div style=\"max-height:1000px;max-width:1500px;overflow:auto;\"><table frame=\"box\" rules=\"cols\">\n",
       "    <tr>\n",
       "        <th style=\"padding-left: 1em; padding-right: 1em; text-align: center\">name</th>\n",
       "        <th style=\"padding-left: 1em; padding-right: 1em; text-align: center\">index</th>\n",
       "        <th style=\"padding-left: 1em; padding-right: 1em; text-align: center\">class</th>\n",
       "        <th style=\"padding-left: 1em; padding-right: 1em; text-align: center\">value</th>\n",
       "        <th style=\"padding-left: 1em; padding-right: 1em; text-align: center\">stderr</th>\n",
       "    </tr>\n",
       "    <tr>\n",
       "        <td style=\"padding-left: 1em; padding-right: 1em; text-align: center; vertical-align: top\">(intercept)</td>\n",
       "        <td style=\"padding-left: 1em; padding-right: 1em; text-align: center; vertical-align: top\">None</td>\n",
       "        <td style=\"padding-left: 1em; padding-right: 1em; text-align: center; vertical-align: top\">positive</td>\n",
       "        <td style=\"padding-left: 1em; padding-right: 1em; text-align: center; vertical-align: top\">0.12386796751211071</td>\n",
       "        <td style=\"padding-left: 1em; padding-right: 1em; text-align: center; vertical-align: top\">None</td>\n",
       "    </tr>\n",
       "    <tr>\n",
       "        <td style=\"padding-left: 1em; padding-right: 1em; text-align: center; vertical-align: top\">words</td>\n",
       "        <td style=\"padding-left: 1em; padding-right: 1em; text-align: center; vertical-align: top\">darker</td>\n",
       "        <td style=\"padding-left: 1em; padding-right: 1em; text-align: center; vertical-align: top\">positive</td>\n",
       "        <td style=\"padding-left: 1em; padding-right: 1em; text-align: center; vertical-align: top\">0.5510589231985</td>\n",
       "        <td style=\"padding-left: 1em; padding-right: 1em; text-align: center; vertical-align: top\">None</td>\n",
       "    </tr>\n",
       "    <tr>\n",
       "        <td style=\"padding-left: 1em; padding-right: 1em; text-align: center; vertical-align: top\">words</td>\n",
       "        <td style=\"padding-left: 1em; padding-right: 1em; text-align: center; vertical-align: top\">touch</td>\n",
       "        <td style=\"padding-left: 1em; padding-right: 1em; text-align: center; vertical-align: top\">positive</td>\n",
       "        <td style=\"padding-left: 1em; padding-right: 1em; text-align: center; vertical-align: top\">0.20830008354686988</td>\n",
       "        <td style=\"padding-left: 1em; padding-right: 1em; text-align: center; vertical-align: top\">None</td>\n",
       "    </tr>\n",
       "    <tr>\n",
       "        <td style=\"padding-left: 1em; padding-right: 1em; text-align: center; vertical-align: top\">words</td>\n",
       "        <td style=\"padding-left: 1em; padding-right: 1em; text-align: center; vertical-align: top\">thats</td>\n",
       "        <td style=\"padding-left: 1em; padding-right: 1em; text-align: center; vertical-align: top\">positive</td>\n",
       "        <td style=\"padding-left: 1em; padding-right: 1em; text-align: center; vertical-align: top\">-0.4658444638029298</td>\n",
       "        <td style=\"padding-left: 1em; padding-right: 1em; text-align: center; vertical-align: top\">None</td>\n",
       "    </tr>\n",
       "    <tr>\n",
       "        <td style=\"padding-left: 1em; padding-right: 1em; text-align: center; vertical-align: top\">words</td>\n",
       "        <td style=\"padding-left: 1em; padding-right: 1em; text-align: center; vertical-align: top\">your</td>\n",
       "        <td style=\"padding-left: 1em; padding-right: 1em; text-align: center; vertical-align: top\">positive</td>\n",
       "        <td style=\"padding-left: 1em; padding-right: 1em; text-align: center; vertical-align: top\">-0.019654334689209397</td>\n",
       "        <td style=\"padding-left: 1em; padding-right: 1em; text-align: center; vertical-align: top\">None</td>\n",
       "    </tr>\n",
       "    <tr>\n",
       "        <td style=\"padding-left: 1em; padding-right: 1em; text-align: center; vertical-align: top\">words</td>\n",
       "        <td style=\"padding-left: 1em; padding-right: 1em; text-align: center; vertical-align: top\">viewing</td>\n",
       "        <td style=\"padding-left: 1em; padding-right: 1em; text-align: center; vertical-align: top\">positive</td>\n",
       "        <td style=\"padding-left: 1em; padding-right: 1em; text-align: center; vertical-align: top\">0.10272382942533444</td>\n",
       "        <td style=\"padding-left: 1em; padding-right: 1em; text-align: center; vertical-align: top\">None</td>\n",
       "    </tr>\n",
       "    <tr>\n",
       "        <td style=\"padding-left: 1em; padding-right: 1em; text-align: center; vertical-align: top\">words</td>\n",
       "        <td style=\"padding-left: 1em; padding-right: 1em; text-align: center; vertical-align: top\">their</td>\n",
       "        <td style=\"padding-left: 1em; padding-right: 1em; text-align: center; vertical-align: top\">positive</td>\n",
       "        <td style=\"padding-left: 1em; padding-right: 1em; text-align: center; vertical-align: top\">0.00758310340427383</td>\n",
       "        <td style=\"padding-left: 1em; padding-right: 1em; text-align: center; vertical-align: top\">None</td>\n",
       "    </tr>\n",
       "    <tr>\n",
       "        <td style=\"padding-left: 1em; padding-right: 1em; text-align: center; vertical-align: top\">words</td>\n",
       "        <td style=\"padding-left: 1em; padding-right: 1em; text-align: center; vertical-align: top\">into</td>\n",
       "        <td style=\"padding-left: 1em; padding-right: 1em; text-align: center; vertical-align: top\">positive</td>\n",
       "        <td style=\"padding-left: 1em; padding-right: 1em; text-align: center; vertical-align: top\">-0.006225691572922391</td>\n",
       "        <td style=\"padding-left: 1em; padding-right: 1em; text-align: center; vertical-align: top\">None</td>\n",
       "    </tr>\n",
       "    <tr>\n",
       "        <td style=\"padding-left: 1em; padding-right: 1em; text-align: center; vertical-align: top\">words</td>\n",
       "        <td style=\"padding-left: 1em; padding-right: 1em; text-align: center; vertical-align: top\">turned</td>\n",
       "        <td style=\"padding-left: 1em; padding-right: 1em; text-align: center; vertical-align: top\">positive</td>\n",
       "        <td style=\"padding-left: 1em; padding-right: 1em; text-align: center; vertical-align: top\">-0.18587497138293455</td>\n",
       "        <td style=\"padding-left: 1em; padding-right: 1em; text-align: center; vertical-align: top\">None</td>\n",
       "    </tr>\n",
       "    <tr>\n",
       "        <td style=\"padding-left: 1em; padding-right: 1em; text-align: center; vertical-align: top\">words</td>\n",
       "        <td style=\"padding-left: 1em; padding-right: 1em; text-align: center; vertical-align: top\">being</td>\n",
       "        <td style=\"padding-left: 1em; padding-right: 1em; text-align: center; vertical-align: top\">positive</td>\n",
       "        <td style=\"padding-left: 1em; padding-right: 1em; text-align: center; vertical-align: top\">-0.015099321136843383</td>\n",
       "        <td style=\"padding-left: 1em; padding-right: 1em; text-align: center; vertical-align: top\">None</td>\n",
       "    </tr>\n",
       "</table>\n",
       "[101844 rows x 5 columns]<br/>Note: Only the head of the SFrame is printed.<br/>You can use print_rows(num_rows=m, num_columns=n) to print more rows and columns.\n",
       "</div>"
      ],
      "text/plain": [
       "Columns:\n",
       "\tname\tstr\n",
       "\tindex\tstr\n",
       "\tclass\tstr\n",
       "\tvalue\tfloat\n",
       "\tstderr\tfloat\n",
       "\n",
       "Rows: 101844\n",
       "\n",
       "Data:\n",
       "+-------------+---------+----------+-----------------------+--------+\n",
       "|     name    |  index  |  class   |         value         | stderr |\n",
       "+-------------+---------+----------+-----------------------+--------+\n",
       "| (intercept) |   None  | positive |  0.12386796751211071  |  None  |\n",
       "|    words    |  darker | positive |    0.5510589231985    |  None  |\n",
       "|    words    |  touch  | positive |  0.20830008354686988  |  None  |\n",
       "|    words    |  thats  | positive |  -0.4658444638029298  |  None  |\n",
       "|    words    |   your  | positive | -0.019654334689209397 |  None  |\n",
       "|    words    | viewing | positive |  0.10272382942533444  |  None  |\n",
       "|    words    |  their  | positive |  0.00758310340427383  |  None  |\n",
       "|    words    |   into  | positive | -0.006225691572922391 |  None  |\n",
       "|    words    |  turned | positive |  -0.18587497138293455 |  None  |\n",
       "|    words    |  being  | positive | -0.015099321136843383 |  None  |\n",
       "+-------------+---------+----------+-----------------------+--------+\n",
       "[101844 rows x 5 columns]\n",
       "Note: Only the head of the SFrame is printed.\n",
       "You can use print_rows(num_rows=m, num_columns=n) to print more rows and columns."
      ]
     },
     "execution_count": 35,
     "metadata": {},
     "output_type": "execute_result"
    }
   ],
   "source": [
    "import turicreate as tc\n",
    "movies = tc.SFrame('IMDB_Dataset.csv')\n",
    "movies['words'] = tc.text_analytics.count_words(movies['review'])\n",
    "\n",
    "model = tc.logistic_classifier.create(movies, features=['words'], target='sentiment')\n",
    "model.coefficients\n"
   ]
  },
  {
   "cell_type": "code",
   "execution_count": 36,
   "metadata": {},
   "outputs": [
    {
     "data": {
      "text/plain": [
       "{'review': \"This is an Oriental fantasy about ¨thousand and one Arabian nights¨ plenty of incredible adventures, fantasy witchery and wizardly. The malignant vizier Jaffar (magnificently played by Conrad Veidt)with powerful magic faculties imprisons the prince Ahamad of Bagdad(attractive John Justin)who loses his throne, then he escapes thanks a little thief named Abu(sympathetic Sabu). They arrive Basora where Ahamad and the princess(gorgeous June Duprez) fall in love. But prince and thief are haunted by Jaffar , Ahamd is turned blind and Abu is become a dog. The story accumulates several fantastic ingredients such as transformation of the starring, a flying mechanic horse, magic bow, flying carpet and of course the colossal genie(overacting performed by Rex Ingram) who gives three wishes to Sabu , the magic eye, the figure of goddess Kali with several hands, among others.<br /><br />This remarkable picture ranks as one of the finest fantastic films of all time. Produced by London Fim's Alexander Korda and directed by the definitively credited Ludwing Berger, Michael Powell and Tim Whelan with a stunning screenplay by Lajos Biro and Miles Malleson also dialogs writer and actor as Sultan fond to mechanic games. The WWII outbreak caused the paralyzing shooting, then the three Korda brothers and collaborators traveled USA continuing there the filming in especial on Grand Cannon Colorado.The splendid visual and glimmer Technicolor cinematography , setting and FX provoked the achieving three Oscars : Production design by William Cameron Menzies and Vincent Korda ,Cinematography by George Perinal and Special effects by Osmond Borradaile though today are dated and is urgent a necessary remastering because the colors are worn-out. Furthermore one nomination for the evocative and oriental musical score by Miklos Rozsa. This vivid tale with immense doses of imagination will like to fantasy fans and cinema classic buffs\",\n",
       " 'sentiment': 'positive',\n",
       " 'words': {'classic': 1.0,\n",
       "  'cinema': 1.0,\n",
       "  'like': 1.0,\n",
       "  'will': 1.0,\n",
       "  'imagination': 1.0,\n",
       "  'doses': 1.0,\n",
       "  'eye': 1.0,\n",
       "  'princess': 1.0,\n",
       "  'carpet': 1.0,\n",
       "  'games': 1.0,\n",
       "  'ingram': 1.0,\n",
       "  'overacting': 1.0,\n",
       "  'credited': 1.0,\n",
       "  'miles': 1.0,\n",
       "  'flying': 2.0,\n",
       "  'transformation': 1.0,\n",
       "  'story': 1.0,\n",
       "  'brothers': 1.0,\n",
       "  'dog': 1.0,\n",
       "  'become': 1.0,\n",
       "  'ingredients': 1.0,\n",
       "  'are': 3.0,\n",
       "  'in': 2.0,\n",
       "  'starring': 1.0,\n",
       "  'conrad': 1.0,\n",
       "  'june': 1.0,\n",
       "  'as': 3.0,\n",
       "  'gorgeous': 1.0,\n",
       "  'ahamad': 2.0,\n",
       "  'vivid': 1.0,\n",
       "  'love': 1.0,\n",
       "  'where': 1.0,\n",
       "  'they': 1.0,\n",
       "  'nights¨': 1.0,\n",
       "  'basora': 1.0,\n",
       "  'escapes': 1.0,\n",
       "  'continuing': 1.0,\n",
       "  'witchery': 1.0,\n",
       "  'evocative': 1.0,\n",
       "  'of': 8.0,\n",
       "  'effects': 1.0,\n",
       "  'wishes': 1.0,\n",
       "  'john': 1.0,\n",
       "  'for': 1.0,\n",
       "  'oriental': 2.0,\n",
       "  'berger': 1.0,\n",
       "  'lajos': 1.0,\n",
       "  'wizardly': 1.0,\n",
       "  'magnificently': 1.0,\n",
       "  'an': 1.0,\n",
       "  'all': 1.0,\n",
       "  'accumulates': 1.0,\n",
       "  'to': 3.0,\n",
       "  'fantasy': 3.0,\n",
       "  'genie': 1.0,\n",
       "  '¨thousand': 1.0,\n",
       "  'duprez': 1.0,\n",
       "  'his': 1.0,\n",
       "  'glimmer': 1.0,\n",
       "  'adventures': 1.0,\n",
       "  'horse': 1.0,\n",
       "  'one': 3.0,\n",
       "  'played': 1.0,\n",
       "  'such': 1.0,\n",
       "  'alexander': 1.0,\n",
       "  'faculties': 1.0,\n",
       "  'attractive': 1.0,\n",
       "  'several': 2.0,\n",
       "  'turned': 1.0,\n",
       "  'about': 1.0,\n",
       "  'provoked': 1.0,\n",
       "  'three': 3.0,\n",
       "  'jaffar': 2.0,\n",
       "  'london': 1.0,\n",
       "  'sultan': 1.0,\n",
       "  'arabian': 1.0,\n",
       "  'prince': 2.0,\n",
       "  'gives': 1.0,\n",
       "  'achieving': 1.0,\n",
       "  'goddess': 1.0,\n",
       "  'named': 1.0,\n",
       "  'veidt': 1.0,\n",
       "  'course': 1.0,\n",
       "  'incredible': 1.0,\n",
       "  'and': 18.0,\n",
       "  'powerful': 1.0,\n",
       "  'today': 1.0,\n",
       "  'justin': 1.0,\n",
       "  'fall': 1.0,\n",
       "  'because': 1.0,\n",
       "  'though': 1.0,\n",
       "  'by': 10.0,\n",
       "  'magic': 3.0,\n",
       "  'imprisons': 1.0,\n",
       "  'produced': 1.0,\n",
       "  'out': 1.0,\n",
       "  'arrive': 1.0,\n",
       "  'korda': 3.0,\n",
       "  'loses': 1.0,\n",
       "  'bagdad': 1.0,\n",
       "  'malignant': 1.0,\n",
       "  'fans': 1.0,\n",
       "  'films': 1.0,\n",
       "  'cameron': 1.0,\n",
       "  'sabu': 2.0,\n",
       "  'actor': 1.0,\n",
       "  'who': 2.0,\n",
       "  'a': 5.0,\n",
       "  'sympathetic': 1.0,\n",
       "  'mechanic': 2.0,\n",
       "  'there': 1.0,\n",
       "  'performed': 1.0,\n",
       "  'visual': 1.0,\n",
       "  'this': 3.0,\n",
       "  'stunning': 1.0,\n",
       "  'wwii': 1.0,\n",
       "  'throne': 1.0,\n",
       "  'blind': 1.0,\n",
       "  'score': 1.0,\n",
       "  'then': 2.0,\n",
       "  'fantastic': 2.0,\n",
       "  'br': 2.0,\n",
       "  'ahamd': 1.0,\n",
       "  'thief': 2.0,\n",
       "  'caused': 1.0,\n",
       "  'thanks': 1.0,\n",
       "  'little': 1.0,\n",
       "  'menzies': 1.0,\n",
       "  'figure': 1.0,\n",
       "  'cinematography': 2.0,\n",
       "  'hands': 1.0,\n",
       "  'bow': 1.0,\n",
       "  'others': 1.0,\n",
       "  'remarkable': 1.0,\n",
       "  'the': 18.0,\n",
       "  'cannon': 1.0,\n",
       "  'ranks': 1.0,\n",
       "  'finest': 1.0,\n",
       "  'time': 1.0,\n",
       "  'usa': 1.0,\n",
       "  's': 1.0,\n",
       "  'directed': 1.0,\n",
       "  'perinal': 1.0,\n",
       "  'ludwing': 1.0,\n",
       "  'with': 4.0,\n",
       "  'picture': 1.0,\n",
       "  'michael': 1.0,\n",
       "  'powell': 1.0,\n",
       "  'tale': 1.0,\n",
       "  'whelan': 1.0,\n",
       "  'is': 4.0,\n",
       "  'colorado': 1.0,\n",
       "  'screenplay': 1.0,\n",
       "  'malleson': 1.0,\n",
       "  'dialogs': 1.0,\n",
       "  'also': 1.0,\n",
       "  'writer': 1.0,\n",
       "  'rex': 1.0,\n",
       "  'fond': 1.0,\n",
       "  'outbreak': 1.0,\n",
       "  'buffs': 1.0,\n",
       "  'setting': 1.0,\n",
       "  'paralyzing': 1.0,\n",
       "  'plenty': 1.0,\n",
       "  'filming': 1.0,\n",
       "  'vizier': 1.0,\n",
       "  'oscars': 1.0,\n",
       "  'kali': 1.0,\n",
       "  'musical': 1.0,\n",
       "  'design': 1.0,\n",
       "  'shooting': 1.0,\n",
       "  'collaborators': 1.0,\n",
       "  'fim': 1.0,\n",
       "  'traveled': 1.0,\n",
       "  'especial': 1.0,\n",
       "  'on': 1.0,\n",
       "  'grand': 1.0,\n",
       "  'haunted': 1.0,\n",
       "  'splendid': 1.0,\n",
       "  'technicolor': 1.0,\n",
       "  'fx': 1.0,\n",
       "  'tim': 1.0,\n",
       "  'production': 1.0,\n",
       "  'william': 1.0,\n",
       "  'osmond': 1.0,\n",
       "  'remastering': 1.0,\n",
       "  'vincent': 1.0,\n",
       "  'among': 1.0,\n",
       "  'george': 1.0,\n",
       "  'special': 1.0,\n",
       "  'borradaile': 1.0,\n",
       "  'dated': 1.0,\n",
       "  'urgent': 1.0,\n",
       "  'he': 1.0,\n",
       "  'necessary': 1.0,\n",
       "  'definitively': 1.0,\n",
       "  'immense': 1.0,\n",
       "  'colossal': 1.0,\n",
       "  'biro': 1.0,\n",
       "  'colors': 1.0,\n",
       "  'abu': 2.0,\n",
       "  'worn': 1.0,\n",
       "  'furthermore': 1.0,\n",
       "  'nomination': 1.0,\n",
       "  'miklos': 1.0,\n",
       "  'but': 1.0,\n",
       "  'rozsa': 1.0},\n",
       " 'predictions': 1.0}"
      ]
     },
     "execution_count": 36,
     "metadata": {},
     "output_type": "execute_result"
    }
   ],
   "source": [
    "movies['predictions'] = model.predict(movies, output_type='probability')\n",
    "movies.sort('predictions')[-1]"
   ]
  },
  {
   "cell_type": "code",
   "execution_count": 37,
   "metadata": {},
   "outputs": [
    {
     "data": {
      "text/plain": [
       "{'review': \"Even duller, if possible, than the original (I hope I may say that under the IMDb guidelines). THE FRENCH CONNECTION at least tried to absorb European influences, to complicate the conventional view of the American police detective, even if the attempt was foundered by Friedkin's ambivalence, Americaness and general indirection. The (relative) arthouse boom of the 1960s (especially with the nouvelle vague) allowed for a huge influence of European cinema in Hollywood. This lent a new vigour and complexity to a weary medium, and, in the best of them (eg BONNIE AND CLYDE, early Scorcese), a new subversion of received practice. The original CONNECTION was part of this movement, with its difficultly distanced style, and anti-detective figure. TWO is old Hollywood's right-wing reassertion of American values.<br /><br />This is figured in the film's very tiresome America vs France dialectic. For instance, TWO is shot like a 70s French policier. It was the French, of course, who insisted on the greatness of American movies when they were ignored at home, and this, in a sense, is a reclamation, a warning against Gallic presumption. This can be seen in the pattern of the two movies. CONNECTION has French gangsters invading New York, with the French style smothering the American thriller - this leads to the dissolution of the detective figure, and irresolution of plot - the baddie got away. <br /><br />TWO has the American returning to France, with American thriller values imposed on the native genre - the power of the detective is reasserted and conventional resolution is achieved. This is further dramatised in Doyle's relationship with French inspector Barthelmy, whose dominant influence he must shake off before he can control the plot.<br /><br />TWO seems to follow the original by undermining its detective hero. From the start, Doyle's importance is diminished at every turn. Despite the ending of CONNECTION, he is considered a hero. But he is an American in a foreign land, and his inability to control language or customs means he cannot dominate the plot. He even misreads the signs of the police force, mistaking an informer for a criminal, and getting him killed. <br /><br />A detective's power comes from his power as subject to see and interpret, but Doyle spends much of the movie being watched, controlled, an object, a body (literally in the scenes after he is dumped by Charnier) to be viewed and interpreted. In CONNECTION, he instigated the action, chasing the criminals, forcing the plot; here he is passive, tied to a bed, locked in a cell, an addict, a dependent.<br /><br />This loss of phallic power is predictably symbolised in the loss of his gun, and the film follows a depressingly familiar Oedipal trajectory. In the heroin sequences, he is comforted by an old lady who says he looks like her son. His drugged state is like a return to the womb, robbed of adult pressures. Her taking his watch reinforces the timelessness of this state, doubly significant for a man whose career depends on timetables and precision.<br /><br />Oedipus was the first detective, and to avoid his fate, Doyle must reject this false mother who is dissolving his unified identity, and kill the father (Charnier) so that he can take his accepted masculine role in society. Psychoanalytic theory was popular among academics in the 70s(ironically instigated by a Frenchman, Jacques Lacan), but it's rare to see a film so literally full of it. <br /><br />If all of these facts tended towards the minimising of Doyle, then the film's style doesn't. Friedkin distanced us from his hero by refusing empathy or character motivation, focusing on the mechanics of plot. Here, Doyle is a very conventional Hollywood hero. Instead of being lost in murky long shot, he is made knowable and understandable to the viewer with the traditional devices - point-of-view shots, close ups, connecting shots etc.<br /><br />TWO is all about the fall and rise of Popeye Doyle. Plot in this case is subservient to the acting, which is the usual Hackman showiness. The cold turkey scenes, therefore, despite their tediousness, are not disturbing. We are allowed to share rather than coldly observe; this a far less discomforting experience. The scenes are also shot through with a lachrymose manly sentimentality that is very American. <br /><br />So while CONNECTION tried to imitate the complex thrillers of Jean Pierre Melville, TWO does the complete opposite. Melville's LE SAMOURAI featured a gangster who started the film whole, powerful, outside language, and charted his eventual disintegration. TWO starts with a disintegrated character, achieved partly through inability with language, whose dominance begins when he steps outside language - the concluding action sequences are largely wordless. <br /><br />In the film, the locale and language are important as they fixed and undermined the detective, but as he regains his power (figured in the return of his gun, and the cathartic burning of the primal site of vulnerability, the tower block where Charnier held him), the Marseilles setting becomes more irrelevant, and the mythic stand-off, which could take place anywhere, takes over. Compare the endings of the two films: one admits ambiguity and despair, the other absolute certainty.<br /><br />\",\n",
       " 'sentiment': 'negative',\n",
       " 'words': {'despair': 1.0,\n",
       "  'ambiguity': 1.0,\n",
       "  'admits': 1.0,\n",
       "  'one': 1.0,\n",
       "  'endings': 1.0,\n",
       "  'compare': 1.0,\n",
       "  'takes': 1.0,\n",
       "  'could': 1.0,\n",
       "  'as': 3.0,\n",
       "  'less': 1.0,\n",
       "  'other': 1.0,\n",
       "  'whole': 1.0,\n",
       "  'signs': 1.0,\n",
       "  'policier': 1.0,\n",
       "  'every': 1.0,\n",
       "  'misreads': 1.0,\n",
       "  'through': 2.0,\n",
       "  'dominate': 1.0,\n",
       "  'means': 1.0,\n",
       "  'killed': 1.0,\n",
       "  'or': 2.0,\n",
       "  'popular': 1.0,\n",
       "  'language': 5.0,\n",
       "  'foreign': 1.0,\n",
       "  'movies': 2.0,\n",
       "  'an': 5.0,\n",
       "  'adult': 1.0,\n",
       "  'despite': 2.0,\n",
       "  'indirection': 1.0,\n",
       "  'start': 1.0,\n",
       "  'undermining': 1.0,\n",
       "  'absolute': 1.0,\n",
       "  'mistaking': 1.0,\n",
       "  'reassertion': 1.0,\n",
       "  'etc': 1.0,\n",
       "  'lacan': 1.0,\n",
       "  'regains': 1.0,\n",
       "  'before': 1.0,\n",
       "  'style': 3.0,\n",
       "  'inability': 2.0,\n",
       "  'york': 1.0,\n",
       "  'primal': 1.0,\n",
       "  'must': 2.0,\n",
       "  'whose': 3.0,\n",
       "  'him': 2.0,\n",
       "  'certainty': 1.0,\n",
       "  'inspector': 1.0,\n",
       "  'cell': 1.0,\n",
       "  'relationship': 1.0,\n",
       "  'new': 3.0,\n",
       "  'turkey': 1.0,\n",
       "  'further': 1.0,\n",
       "  'theory': 1.0,\n",
       "  'these': 1.0,\n",
       "  'genre': 1.0,\n",
       "  'getting': 1.0,\n",
       "  'hero': 4.0,\n",
       "  'imposed': 1.0,\n",
       "  'returning': 1.0,\n",
       "  'irresolution': 1.0,\n",
       "  'take': 2.0,\n",
       "  'leads': 1.0,\n",
       "  'experience': 1.0,\n",
       "  'pattern': 1.0,\n",
       "  'seen': 1.0,\n",
       "  'becomes': 1.0,\n",
       "  'be': 2.0,\n",
       "  'it': 3.0,\n",
       "  'achieved': 2.0,\n",
       "  'is': 22.0,\n",
       "  'presumption': 1.0,\n",
       "  'they': 2.0,\n",
       "  'absorb': 1.0,\n",
       "  'movie': 1.0,\n",
       "  'bed': 1.0,\n",
       "  'dominant': 1.0,\n",
       "  'on': 4.0,\n",
       "  'burning': 1.0,\n",
       "  'insisted': 1.0,\n",
       "  'subject': 1.0,\n",
       "  'who': 4.0,\n",
       "  'like': 3.0,\n",
       "  'avoid': 1.0,\n",
       "  'when': 2.0,\n",
       "  'attempt': 1.0,\n",
       "  'instance': 1.0,\n",
       "  'off': 2.0,\n",
       "  'melville': 2.0,\n",
       "  'diminished': 1.0,\n",
       "  'general': 1.0,\n",
       "  't': 1.0,\n",
       "  'wing': 1.0,\n",
       "  'film': 6.0,\n",
       "  'in': 18.0,\n",
       "  'cannot': 1.0,\n",
       "  'the': 71.0,\n",
       "  'important': 1.0,\n",
       "  'films': 1.0,\n",
       "  'foundered': 1.0,\n",
       "  'mechanics': 1.0,\n",
       "  'smothering': 1.0,\n",
       "  'vague': 1.0,\n",
       "  'americaness': 1.0,\n",
       "  'anywhere': 1.0,\n",
       "  'forcing': 1.0,\n",
       "  'ambivalence': 1.0,\n",
       "  'sense': 1.0,\n",
       "  's': 9.0,\n",
       "  'doesn': 1.0,\n",
       "  'gallic': 1.0,\n",
       "  'difficultly': 1.0,\n",
       "  'fate': 1.0,\n",
       "  'frenchman': 1.0,\n",
       "  'a': 26.0,\n",
       "  'resolution': 1.0,\n",
       "  'addict': 1.0,\n",
       "  'home': 1.0,\n",
       "  'by': 6.0,\n",
       "  'hope': 1.0,\n",
       "  'detective': 8.0,\n",
       "  'steps': 1.0,\n",
       "  'movement': 1.0,\n",
       "  'nouvelle': 1.0,\n",
       "  'native': 1.0,\n",
       "  '70s': 2.0,\n",
       "  'of': 32.0,\n",
       "  'even': 3.0,\n",
       "  'allowed': 2.0,\n",
       "  'jean': 1.0,\n",
       "  'old': 2.0,\n",
       "  'dialectic': 1.0,\n",
       "  'criminal': 1.0,\n",
       "  'police': 2.0,\n",
       "  'ending': 1.0,\n",
       "  'european': 2.0,\n",
       "  'conventional': 3.0,\n",
       "  'at': 3.0,\n",
       "  'usual': 1.0,\n",
       "  'doyle': 7.0,\n",
       "  'medium': 1.0,\n",
       "  'huge': 1.0,\n",
       "  'viewer': 1.0,\n",
       "  'complicate': 1.0,\n",
       "  'watch': 1.0,\n",
       "  'see': 2.0,\n",
       "  'can': 3.0,\n",
       "  'after': 1.0,\n",
       "  'gangsters': 1.0,\n",
       "  'reclamation': 1.0,\n",
       "  'devices': 1.0,\n",
       "  'i': 2.0,\n",
       "  'vulnerability': 1.0,\n",
       "  'informer': 1.0,\n",
       "  'locked': 1.0,\n",
       "  'if': 3.0,\n",
       "  'view': 2.0,\n",
       "  'connecting': 1.0,\n",
       "  'were': 1.0,\n",
       "  'duller': 1.0,\n",
       "  'shake': 1.0,\n",
       "  'criminals': 1.0,\n",
       "  'reasserted': 1.0,\n",
       "  'cold': 1.0,\n",
       "  'got': 1.0,\n",
       "  'role': 1.0,\n",
       "  'american': 8.0,\n",
       "  'say': 1.0,\n",
       "  'this': 12.0,\n",
       "  'imdb': 1.0,\n",
       "  'was': 5.0,\n",
       "  'comes': 1.0,\n",
       "  'baddie': 1.0,\n",
       "  'subservient': 1.0,\n",
       "  'influences': 1.0,\n",
       "  'thrillers': 1.0,\n",
       "  'least': 1.0,\n",
       "  'right': 1.0,\n",
       "  'arthouse': 1.0,\n",
       "  'customs': 1.0,\n",
       "  'hollywood': 3.0,\n",
       "  'may': 1.0,\n",
       "  'reinforces': 1.0,\n",
       "  'oedipus': 1.0,\n",
       "  'connection': 6.0,\n",
       "  'therefore': 1.0,\n",
       "  'french': 6.0,\n",
       "  'depressingly': 1.0,\n",
       "  'with': 9.0,\n",
       "  'away': 1.0,\n",
       "  'for': 4.0,\n",
       "  'gangster': 1.0,\n",
       "  'than': 2.0,\n",
       "  'dumped': 1.0,\n",
       "  'possible': 1.0,\n",
       "  'cathartic': 1.0,\n",
       "  'part': 1.0,\n",
       "  'cinema': 1.0,\n",
       "  'lent': 1.0,\n",
       "  'its': 2.0,\n",
       "  'considered': 1.0,\n",
       "  'boom': 1.0,\n",
       "  'vigour': 1.0,\n",
       "  'influence': 2.0,\n",
       "  'complexity': 1.0,\n",
       "  'to': 17.0,\n",
       "  'much': 1.0,\n",
       "  'weary': 1.0,\n",
       "  'dependent': 1.0,\n",
       "  'has': 2.0,\n",
       "  'timetables': 1.0,\n",
       "  'them': 1.0,\n",
       "  'tried': 2.0,\n",
       "  'pierre': 1.0,\n",
       "  'warning': 1.0,\n",
       "  'relative': 1.0,\n",
       "  'eg': 1.0,\n",
       "  'coldly': 1.0,\n",
       "  'greatness': 1.0,\n",
       "  'vs': 1.0,\n",
       "  'timelessness': 1.0,\n",
       "  'clyde': 1.0,\n",
       "  'object': 1.0,\n",
       "  'early': 1.0,\n",
       "  'invading': 1.0,\n",
       "  'especially': 1.0,\n",
       "  'two': 9.0,\n",
       "  'scorcese': 1.0,\n",
       "  'guidelines': 1.0,\n",
       "  'power': 5.0,\n",
       "  'friedkin': 2.0,\n",
       "  'depends': 1.0,\n",
       "  'anti': 1.0,\n",
       "  'control': 2.0,\n",
       "  'figured': 2.0,\n",
       "  'close': 1.0,\n",
       "  'masculine': 1.0,\n",
       "  'plot': 6.0,\n",
       "  'accepted': 1.0,\n",
       "  'bonnie': 1.0,\n",
       "  'original': 3.0,\n",
       "  'father': 1.0,\n",
       "  'values': 2.0,\n",
       "  'importance': 1.0,\n",
       "  'dissolving': 1.0,\n",
       "  'dramatised': 1.0,\n",
       "  'academics': 1.0,\n",
       "  'case': 1.0,\n",
       "  'interpret': 1.0,\n",
       "  'largely': 1.0,\n",
       "  'spends': 1.0,\n",
       "  'being': 2.0,\n",
       "  'watched': 1.0,\n",
       "  'comforted': 1.0,\n",
       "  'controlled': 1.0,\n",
       "  'body': 1.0,\n",
       "  'understandable': 1.0,\n",
       "  'literally': 2.0,\n",
       "  'dominance': 1.0,\n",
       "  'viewed': 1.0,\n",
       "  'taking': 1.0,\n",
       "  'interpreted': 1.0,\n",
       "  'mythic': 1.0,\n",
       "  'disintegrated': 1.0,\n",
       "  'instigated': 2.0,\n",
       "  'turn': 1.0,\n",
       "  'america': 1.0,\n",
       "  'action': 2.0,\n",
       "  'ironically': 1.0,\n",
       "  'place': 1.0,\n",
       "  'chasing': 1.0,\n",
       "  'ignored': 1.0,\n",
       "  'here': 2.0,\n",
       "  'passive': 1.0,\n",
       "  'doubly': 1.0,\n",
       "  'tied': 1.0,\n",
       "  'loss': 2.0,\n",
       "  'return': 2.0,\n",
       "  'best': 1.0,\n",
       "  'practice': 1.0,\n",
       "  'phallic': 1.0,\n",
       "  'predictably': 1.0,\n",
       "  'gun': 2.0,\n",
       "  'follows': 1.0,\n",
       "  'familiar': 1.0,\n",
       "  'and': 24.0,\n",
       "  'trajectory': 1.0,\n",
       "  'subversion': 1.0,\n",
       "  'lady': 1.0,\n",
       "  'point': 1.0,\n",
       "  'charnier': 3.0,\n",
       "  'observe': 1.0,\n",
       "  'seems': 1.0,\n",
       "  'looks': 1.0,\n",
       "  'her': 2.0,\n",
       "  'son': 1.0,\n",
       "  'drugged': 1.0,\n",
       "  'against': 1.0,\n",
       "  'state': 2.0,\n",
       "  'force': 1.0,\n",
       "  'womb': 1.0,\n",
       "  'psychoanalytic': 1.0,\n",
       "  'robbed': 1.0,\n",
       "  '1960s': 1.0,\n",
       "  'significant': 1.0,\n",
       "  'man': 1.0,\n",
       "  'precision': 1.0,\n",
       "  'first': 1.0,\n",
       "  'reject': 1.0,\n",
       "  'false': 1.0,\n",
       "  'identity': 1.0,\n",
       "  'kill': 1.0,\n",
       "  'society': 1.0,\n",
       "  'hackman': 1.0,\n",
       "  'disturbing': 1.0,\n",
       "  'among': 1.0,\n",
       "  'concluding': 1.0,\n",
       "  'jacques': 1.0,\n",
       "  'symbolised': 1.0,\n",
       "  'powerful': 1.0,\n",
       "  'rare': 1.0,\n",
       "  'refusing': 1.0,\n",
       "  'outside': 2.0,\n",
       "  'full': 1.0,\n",
       "  'showiness': 1.0,\n",
       "  'knowable': 1.0,\n",
       "  'his': 12.0,\n",
       "  'all': 2.0,\n",
       "  'facts': 1.0,\n",
       "  'sequences': 2.0,\n",
       "  'shot': 3.0,\n",
       "  'unified': 1.0,\n",
       "  'tended': 1.0,\n",
       "  'minimising': 1.0,\n",
       "  'over': 1.0,\n",
       "  'then': 1.0,\n",
       "  'us': 1.0,\n",
       "  'empathy': 1.0,\n",
       "  'figure': 2.0,\n",
       "  'motivation': 1.0,\n",
       "  'he': 15.0,\n",
       "  'focusing': 1.0,\n",
       "  'towards': 1.0,\n",
       "  'instead': 1.0,\n",
       "  'oedipal': 1.0,\n",
       "  'so': 3.0,\n",
       "  'eventual': 1.0,\n",
       "  'murky': 1.0,\n",
       "  'heroin': 1.0,\n",
       "  'le': 1.0,\n",
       "  'long': 1.0,\n",
       "  'made': 1.0,\n",
       "  'thriller': 2.0,\n",
       "  'traditional': 1.0,\n",
       "  'scenes': 3.0,\n",
       "  'shots': 2.0,\n",
       "  'ups': 1.0,\n",
       "  'lachrymose': 1.0,\n",
       "  'about': 1.0,\n",
       "  'fall': 1.0,\n",
       "  'popeye': 1.0,\n",
       "  'acting': 1.0,\n",
       "  'also': 1.0,\n",
       "  'which': 2.0,\n",
       "  'their': 1.0,\n",
       "  'land': 1.0,\n",
       "  'tediousness': 1.0,\n",
       "  'are': 5.0,\n",
       "  'tiresome': 1.0,\n",
       "  'not': 1.0,\n",
       "  'barthelmy': 1.0,\n",
       "  'that': 3.0,\n",
       "  'site': 1.0,\n",
       "  'br': 22.0,\n",
       "  'we': 1.0,\n",
       "  'irrelevant': 1.0,\n",
       "  'character': 2.0,\n",
       "  'rather': 1.0,\n",
       "  'far': 1.0,\n",
       "  'very': 3.0,\n",
       "  'but': 4.0,\n",
       "  'france': 2.0,\n",
       "  'discomforting': 1.0,\n",
       "  'course': 1.0,\n",
       "  'mother': 1.0,\n",
       "  'manly': 1.0,\n",
       "  'sentimentality': 1.0,\n",
       "  'begins': 1.0,\n",
       "  'while': 1.0,\n",
       "  'imitate': 1.0,\n",
       "  'dissolution': 1.0,\n",
       "  'complex': 1.0,\n",
       "  'under': 1.0,\n",
       "  'does': 1.0,\n",
       "  'complete': 1.0,\n",
       "  'opposite': 1.0,\n",
       "  'follow': 1.0,\n",
       "  'samourai': 1.0,\n",
       "  'featured': 1.0,\n",
       "  'rise': 1.0,\n",
       "  'started': 1.0,\n",
       "  'pressures': 1.0,\n",
       "  'disintegration': 1.0,\n",
       "  'starts': 1.0,\n",
       "  'partly': 1.0,\n",
       "  'wordless': 1.0,\n",
       "  'locale': 1.0,\n",
       "  'fixed': 1.0,\n",
       "  'tower': 1.0,\n",
       "  'distanced': 2.0,\n",
       "  'career': 1.0,\n",
       "  'undermined': 1.0,\n",
       "  'share': 1.0,\n",
       "  'block': 1.0,\n",
       "  'says': 1.0,\n",
       "  'where': 1.0,\n",
       "  'received': 1.0,\n",
       "  'held': 1.0,\n",
       "  'lost': 1.0,\n",
       "  'marseilles': 1.0,\n",
       "  'from': 3.0,\n",
       "  'charted': 1.0,\n",
       "  'setting': 1.0,\n",
       "  'more': 1.0,\n",
       "  'stand': 1.0},\n",
       " 'predictions': 3.44160884637482e-66}"
      ]
     },
     "execution_count": 37,
     "metadata": {},
     "output_type": "execute_result"
    }
   ],
   "source": [
    "movies.sort('predictions')[0]"
   ]
  },
  {
   "cell_type": "code",
   "execution_count": 38,
   "metadata": {},
   "outputs": [
    {
     "name": "stdout",
     "output_type": "stream",
     "text": [
      "The probability of the patient of having tooth decay is: 0.6681877721681662\n"
     ]
    }
   ],
   "source": [
    "# Dentist logistic classifier\n",
    "# Given: model = d + 0.5c - 0.8\n",
    "# d -> indicates if patient has had decayed tooth in the past\n",
    "# c -> indicates if patient eats candy\n",
    "# c = 0 indicates paties does not eat candy\n",
    "# c = 1 indicates patient eats candy\n",
    "# d = 0 indicates patient did not have tooth decay treatment in the pst\n",
    "# d = 1 indicates patient had tooth decay treatment in the past\n",
    "# Problem: What is the probability if a patient having tooth decay if she ate candy and was treated\n",
    "# tooth decay in the past?\n",
    "# Solution:\n",
    "# ate candy = c = 1\n",
    "# tooth decay treatment in the past = d = 1\n",
    "# score = w1*x1 + w2*x2 + ... + wn*xn + bias\n",
    "# d = x1\n",
    "# c = x2\n",
    "# w1 = 1\n",
    "# w2 = 0.5\n",
    "# bias = -0.8\n",
    "# score = 1*d + 0.5*c + (-0.8)\n",
    "# score = d + 0.5*c - 0.8\n",
    "# score = 1 + 0.5*1 - 0.8\n",
    "# score = 0.7\n",
    "# probability = sigmoid(score)\n",
    "\n",
    "print(f'The probability of the patient of having tooth decay is: {sigmoid(1 + 0.5 * 1 - 0.8)}')"
   ]
  },
  {
   "cell_type": "code",
   "execution_count": 52,
   "metadata": {},
   "outputs": [
    {
     "name": "stdout",
     "output_type": "stream",
     "text": [
      "Prediction for (1,1) is 0.7310585786300049\n",
      "Log loss for (1,1) with label 1 is 0.3132616875182228\n",
      "Before logistic trick w1=2 w2=3 bias=-4\n",
      "After logistic trick w1=2.0268941421369995 w2=3.0268941421369995 bias=-3.9731058578630005\n",
      "Prediction for (1,1) after logistical trick is 0.7466231044754239\n",
      "Log loss for (1,1) with label 1 after logistical trick is 0.29219476672354916\n",
      "Did log log loss decrease? True or False: True\n"
     ]
    }
   ],
   "source": [
    "import math\n",
    "# Given:\n",
    "# prediction = sigmoid(2x1 + 3x2 - 4)\n",
    "# x1=1,x2=1 or point(1,1) gives prediction of 0\n",
    "\n",
    "# 1. Calculate the prediction that the model gives to the point p\n",
    "# p = (1, 1)\n",
    "point_1_1_prediction = sigmoid(2*1 + 3*1 - 4)\n",
    "print(f'Prediction for (1,1) is {point_1_1_prediction}')\n",
    "\n",
    "# 2. Calculate the log loss of the model produces at point p\n",
    "# log loss = -label * ln(pred) - (1-label) * ln(1-pred)\n",
    "old_log_loss = -1 * math.log(point_1_1_prediction) - (1 - 1) * math.log(1 - point_1_1_prediction)\n",
    "print(f'Log loss for (1,1) with label 1 is { old_log_loss }')\n",
    "\n",
    "# 3. Use the logistic trick to obtain a new model that produces a smaller log loss.\n",
    "# You can use n = 0.1 as the learning rate.\n",
    "# logistic trick\n",
    "# wi^ += (label - pred) * xi * learning_rate\n",
    "# bias^ += (label - pred) * learning_rate\n",
    "# model = 2x1 + 3x2 - 4\n",
    "n = 0.1\n",
    "w1 = 2\n",
    "w2 = 3\n",
    "bias = -4\n",
    "print(f'Before logistic trick w1={w1} w2={w2} bias={bias}')\n",
    "\n",
    "w1 += (1 - point_1_1_prediction) * 1 * n\n",
    "w2 += (1 - point_1_1_prediction) * 1 * n\n",
    "bias += (1 - point_1_1_prediction) * n\n",
    "\n",
    "print(f'After logistic trick w1={w1} w2={w2} bias={bias}')\n",
    "\n",
    "# 4. Find the prediction given by the new model at the point p, and verify that the log loss obtained is smaller than the original\n",
    "# Point(1,1) so x1 = 1, x2=1\n",
    "x1 = 1\n",
    "x2 = 1\n",
    "label = 1\n",
    "point_1_1_prediction_new = sigmoid(w1*x1 + w2*x2 + bias)\n",
    "new_log_loss = -label * math.log(point_1_1_prediction_new) - (1 - label) * math.log(1 - point_1_1_prediction_new)\n",
    "\n",
    "print(f'Prediction for (1,1) after logistical trick is {point_1_1_prediction_new}')\n",
    "print(f'Log loss for (1,1) with label 1 after logistical trick is {new_log_loss}')\n",
    "print(f'Did log log loss decrease? True or False: {new_log_loss < old_log_loss}')"
   ]
  },
  {
   "cell_type": "code",
   "execution_count": 56,
   "metadata": {},
   "outputs": [
    {
     "name": "stdout",
     "output_type": "stream",
     "text": [
      "The score for 0.8 prediction is: 1.3862943611198908\n",
      "If x2 = 1, then x1 will be 1.1507784389700189\n",
      "If x1 = 1, then x2 will be 1.1009655179064601\n"
     ]
    }
   ],
   "source": [
    "# Using the updated model above, find a point for which the prediction is 0.8\n",
    "# y^ = sigmoid(score)\n",
    "# sigmoid(score) = 1 / 1 + e ** -score\n",
    "# y^ = 1 / 1 + e ** -score\n",
    "# (1 + e ** -score) * y^ = 1\n",
    "# y^ + y^e**-score = 1\n",
    "# y^e**-score = 1 - y^\n",
    "# e**-score = 1 - y^ / y^\n",
    "# ln(e ** a) = a\n",
    "# ln(e**-score) = ln( 1 - y^ / y^)\n",
    "# -score = ln(1 - y^ / y^)\n",
    "# score = -ln(1 - y^ / y^)\n",
    "# -ln(a) = ln(1 / a)\n",
    "# score = ln( 1 / 1 - y^ / y^)\n",
    "# score = ln(y^ / 1 - y^)\n",
    "\n",
    "score_with_point_8_prediction = math.log(0.8 / (1 - 0.8))\n",
    "print(f'The score for 0.8 prediction is: {score_with_point_8_prediction}')\n",
    "\n",
    "# Given that score = w1x1 + w2x2 + bias\n",
    "# x1 = (score - w2x2 - bias) / w1\n",
    "# x2 = (score - w1x1 - bias) / w2\n",
    "\n",
    "print(f'If x2 = 1, then x1 will be { (score_with_point_8_prediction - w2 * 1 - bias) / w1}')\n",
    "print(f'If x1 = 1, then x2 will be { (score_with_point_8_prediction - w1 * 1 - bias) / w2}')"
   ]
  }
 ],
 "metadata": {
  "kernelspec": {
   "display_name": ".venv",
   "language": "python",
   "name": "python3"
  },
  "language_info": {
   "codemirror_mode": {
    "name": "ipython",
    "version": 3
   },
   "file_extension": ".py",
   "mimetype": "text/x-python",
   "name": "python",
   "nbconvert_exporter": "python",
   "pygments_lexer": "ipython3",
   "version": "3.8.10"
  }
 },
 "nbformat": 4,
 "nbformat_minor": 2
}
