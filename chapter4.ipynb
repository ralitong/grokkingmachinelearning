{
 "cells": [
  {
   "cell_type": "code",
   "execution_count": 1,
   "metadata": {},
   "outputs": [
    {
     "name": "stdout",
     "output_type": "stream",
     "text": [
      "Requirement already satisfied: numpy in ./.venv/lib/python3.6/site-packages (from -r requirements.txt (line 1)) (1.18.5)\n",
      "Requirement already satisfied: matplotlib in ./.venv/lib/python3.6/site-packages (from -r requirements.txt (line 2)) (3.3.4)\n",
      "Requirement already satisfied: graphviz in ./.venv/lib/python3.6/site-packages (from -r requirements.txt (line 3)) (0.19.1)\n",
      "Requirement already satisfied: turicreate in ./.venv/lib/python3.6/site-packages (from -r requirements.txt (line 4)) (6.4.1)\n",
      "Requirement already satisfied: ipykernel in ./.venv/lib/python3.6/site-packages (from -r requirements.txt (line 5)) (5.5.6)\n",
      "Requirement already satisfied: pillow>=6.2.0 in ./.venv/lib/python3.6/site-packages (from matplotlib->-r requirements.txt (line 2)) (8.4.0)\n",
      "Requirement already satisfied: kiwisolver>=1.0.1 in ./.venv/lib/python3.6/site-packages (from matplotlib->-r requirements.txt (line 2)) (1.3.1)\n",
      "Requirement already satisfied: cycler>=0.10 in ./.venv/lib/python3.6/site-packages (from matplotlib->-r requirements.txt (line 2)) (0.11.0)\n",
      "Requirement already satisfied: pyparsing!=2.0.4,!=2.1.2,!=2.1.6,>=2.0.3 in ./.venv/lib/python3.6/site-packages (from matplotlib->-r requirements.txt (line 2)) (3.1.4)\n",
      "Requirement already satisfied: python-dateutil>=2.1 in ./.venv/lib/python3.6/site-packages (from matplotlib->-r requirements.txt (line 2)) (2.9.0.post0)\n",
      "Requirement already satisfied: six>=1.10.0 in ./.venv/lib/python3.6/site-packages (from turicreate->-r requirements.txt (line 4)) (1.17.0)\n",
      "Requirement already satisfied: decorator>=4.0.9 in ./.venv/lib/python3.6/site-packages (from turicreate->-r requirements.txt (line 4)) (5.1.1)\n",
      "Requirement already satisfied: resampy==0.2.1 in ./.venv/lib/python3.6/site-packages (from turicreate->-r requirements.txt (line 4)) (0.2.1)\n",
      "Requirement already satisfied: coremltools==3.3 in ./.venv/lib/python3.6/site-packages (from turicreate->-r requirements.txt (line 4)) (3.3)\n",
      "Requirement already satisfied: scipy>=1.1.0 in ./.venv/lib/python3.6/site-packages (from turicreate->-r requirements.txt (line 4)) (1.5.4)\n",
      "Requirement already satisfied: numba<0.51.0 in ./.venv/lib/python3.6/site-packages (from turicreate->-r requirements.txt (line 4)) (0.50.1)\n",
      "Requirement already satisfied: tensorflow<2.1.0,>=2.0.0 in ./.venv/lib/python3.6/site-packages (from turicreate->-r requirements.txt (line 4)) (2.0.4)\n",
      "Requirement already satisfied: pandas>=0.23.2 in ./.venv/lib/python3.6/site-packages (from turicreate->-r requirements.txt (line 4)) (1.1.5)\n",
      "Requirement already satisfied: requests>=2.9.1 in ./.venv/lib/python3.6/site-packages (from turicreate->-r requirements.txt (line 4)) (2.27.1)\n",
      "Requirement already satisfied: prettytable==0.7.2 in ./.venv/lib/python3.6/site-packages (from turicreate->-r requirements.txt (line 4)) (0.7.2)\n",
      "Requirement already satisfied: protobuf>=3.1.0 in ./.venv/lib/python3.6/site-packages (from coremltools==3.3->turicreate->-r requirements.txt (line 4)) (3.19.6)\n",
      "Requirement already satisfied: ipython>=5.0.0 in ./.venv/lib/python3.6/site-packages (from ipykernel->-r requirements.txt (line 5)) (7.16.3)\n",
      "Requirement already satisfied: ipython-genutils in ./.venv/lib/python3.6/site-packages (from ipykernel->-r requirements.txt (line 5)) (0.2.0)\n",
      "Requirement already satisfied: traitlets>=4.1.0 in ./.venv/lib/python3.6/site-packages (from ipykernel->-r requirements.txt (line 5)) (4.3.3)\n",
      "Requirement already satisfied: tornado>=4.2 in ./.venv/lib/python3.6/site-packages (from ipykernel->-r requirements.txt (line 5)) (6.1)\n",
      "Requirement already satisfied: jupyter-client in ./.venv/lib/python3.6/site-packages (from ipykernel->-r requirements.txt (line 5)) (7.1.2)\n",
      "Requirement already satisfied: setuptools>=18.5 in ./.venv/lib/python3.6/site-packages (from ipython>=5.0.0->ipykernel->-r requirements.txt (line 5)) (59.6.0)\n",
      "Requirement already satisfied: pickleshare in ./.venv/lib/python3.6/site-packages (from ipython>=5.0.0->ipykernel->-r requirements.txt (line 5)) (0.7.5)\n",
      "Requirement already satisfied: pygments in ./.venv/lib/python3.6/site-packages (from ipython>=5.0.0->ipykernel->-r requirements.txt (line 5)) (2.14.0)\n",
      "Requirement already satisfied: backcall in ./.venv/lib/python3.6/site-packages (from ipython>=5.0.0->ipykernel->-r requirements.txt (line 5)) (0.2.0)\n",
      "Requirement already satisfied: prompt-toolkit!=3.0.0,!=3.0.1,<3.1.0,>=2.0.0 in ./.venv/lib/python3.6/site-packages (from ipython>=5.0.0->ipykernel->-r requirements.txt (line 5)) (3.0.36)\n",
      "Requirement already satisfied: jedi<=0.17.2,>=0.10 in ./.venv/lib/python3.6/site-packages (from ipython>=5.0.0->ipykernel->-r requirements.txt (line 5)) (0.17.2)\n",
      "Requirement already satisfied: pexpect in ./.venv/lib/python3.6/site-packages (from ipython>=5.0.0->ipykernel->-r requirements.txt (line 5)) (4.9.0)\n",
      "Requirement already satisfied: llvmlite<0.34,>=0.33.0.dev0 in ./.venv/lib/python3.6/site-packages (from numba<0.51.0->turicreate->-r requirements.txt (line 4)) (0.33.0)\n",
      "Requirement already satisfied: pytz>=2017.2 in ./.venv/lib/python3.6/site-packages (from pandas>=0.23.2->turicreate->-r requirements.txt (line 4)) (2024.2)\n",
      "Requirement already satisfied: urllib3<1.27,>=1.21.1 in ./.venv/lib/python3.6/site-packages (from requests>=2.9.1->turicreate->-r requirements.txt (line 4)) (1.26.20)\n",
      "Requirement already satisfied: charset-normalizer~=2.0.0 in ./.venv/lib/python3.6/site-packages (from requests>=2.9.1->turicreate->-r requirements.txt (line 4)) (2.0.12)\n",
      "Requirement already satisfied: certifi>=2017.4.17 in ./.venv/lib/python3.6/site-packages (from requests>=2.9.1->turicreate->-r requirements.txt (line 4)) (2024.12.14)\n",
      "Requirement already satisfied: idna<4,>=2.5 in ./.venv/lib/python3.6/site-packages (from requests>=2.9.1->turicreate->-r requirements.txt (line 4)) (3.10)\n",
      "Requirement already satisfied: h5py<=2.10.0 in ./.venv/lib/python3.6/site-packages (from tensorflow<2.1.0,>=2.0.0->turicreate->-r requirements.txt (line 4)) (2.10.0)\n",
      "Requirement already satisfied: keras-preprocessing>=1.0.5 in ./.venv/lib/python3.6/site-packages (from tensorflow<2.1.0,>=2.0.0->turicreate->-r requirements.txt (line 4)) (1.1.2)\n",
      "Requirement already satisfied: google-pasta>=0.1.6 in ./.venv/lib/python3.6/site-packages (from tensorflow<2.1.0,>=2.0.0->turicreate->-r requirements.txt (line 4)) (0.2.0)\n",
      "Requirement already satisfied: wheel>=0.26 in ./.venv/lib/python3.6/site-packages (from tensorflow<2.1.0,>=2.0.0->turicreate->-r requirements.txt (line 4)) (0.37.1)\n",
      "Requirement already satisfied: keras-applications>=1.0.8 in ./.venv/lib/python3.6/site-packages (from tensorflow<2.1.0,>=2.0.0->turicreate->-r requirements.txt (line 4)) (1.0.8)\n",
      "Requirement already satisfied: termcolor>=1.1.0 in ./.venv/lib/python3.6/site-packages (from tensorflow<2.1.0,>=2.0.0->turicreate->-r requirements.txt (line 4)) (1.1.0)\n",
      "Requirement already satisfied: grpcio>=1.8.6 in ./.venv/lib/python3.6/site-packages (from tensorflow<2.1.0,>=2.0.0->turicreate->-r requirements.txt (line 4)) (1.48.2)\n",
      "Requirement already satisfied: gast==0.2.2 in ./.venv/lib/python3.6/site-packages (from tensorflow<2.1.0,>=2.0.0->turicreate->-r requirements.txt (line 4)) (0.2.2)\n",
      "Requirement already satisfied: astor>=0.6.0 in ./.venv/lib/python3.6/site-packages (from tensorflow<2.1.0,>=2.0.0->turicreate->-r requirements.txt (line 4)) (0.8.1)\n",
      "Requirement already satisfied: tensorflow-estimator<2.1.0,>=2.0.0 in ./.venv/lib/python3.6/site-packages (from tensorflow<2.1.0,>=2.0.0->turicreate->-r requirements.txt (line 4)) (2.0.1)\n",
      "Requirement already satisfied: tensorboard<2.1.0,>=2.0.0 in ./.venv/lib/python3.6/site-packages (from tensorflow<2.1.0,>=2.0.0->turicreate->-r requirements.txt (line 4)) (2.0.2)\n",
      "Requirement already satisfied: opt-einsum>=2.3.2 in ./.venv/lib/python3.6/site-packages (from tensorflow<2.1.0,>=2.0.0->turicreate->-r requirements.txt (line 4)) (3.3.0)\n",
      "Requirement already satisfied: absl-py>=0.7.0 in ./.venv/lib/python3.6/site-packages (from tensorflow<2.1.0,>=2.0.0->turicreate->-r requirements.txt (line 4)) (1.4.0)\n",
      "Requirement already satisfied: wrapt>=1.11.1 in ./.venv/lib/python3.6/site-packages (from tensorflow<2.1.0,>=2.0.0->turicreate->-r requirements.txt (line 4)) (1.16.0)\n",
      "Requirement already satisfied: nest-asyncio>=1.5 in ./.venv/lib/python3.6/site-packages (from jupyter-client->ipykernel->-r requirements.txt (line 5)) (1.6.0)\n",
      "Requirement already satisfied: entrypoints in ./.venv/lib/python3.6/site-packages (from jupyter-client->ipykernel->-r requirements.txt (line 5)) (0.4)\n",
      "Requirement already satisfied: pyzmq>=13 in ./.venv/lib/python3.6/site-packages (from jupyter-client->ipykernel->-r requirements.txt (line 5)) (25.1.2)\n",
      "Requirement already satisfied: jupyter-core>=4.6.0 in ./.venv/lib/python3.6/site-packages (from jupyter-client->ipykernel->-r requirements.txt (line 5)) (4.9.2)\n",
      "Requirement already satisfied: parso<0.8.0,>=0.7.0 in ./.venv/lib/python3.6/site-packages (from jedi<=0.17.2,>=0.10->ipython>=5.0.0->ipykernel->-r requirements.txt (line 5)) (0.7.1)\n",
      "Requirement already satisfied: wcwidth in ./.venv/lib/python3.6/site-packages (from prompt-toolkit!=3.0.0,!=3.0.1,<3.1.0,>=2.0.0->ipython>=5.0.0->ipykernel->-r requirements.txt (line 5)) (0.2.13)\n",
      "Requirement already satisfied: google-auth-oauthlib<0.5,>=0.4.1 in ./.venv/lib/python3.6/site-packages (from tensorboard<2.1.0,>=2.0.0->tensorflow<2.1.0,>=2.0.0->turicreate->-r requirements.txt (line 4)) (0.4.6)\n",
      "Requirement already satisfied: werkzeug>=0.11.15 in ./.venv/lib/python3.6/site-packages (from tensorboard<2.1.0,>=2.0.0->tensorflow<2.1.0,>=2.0.0->turicreate->-r requirements.txt (line 4)) (2.0.3)\n",
      "Requirement already satisfied: google-auth<2,>=1.6.3 in ./.venv/lib/python3.6/site-packages (from tensorboard<2.1.0,>=2.0.0->tensorflow<2.1.0,>=2.0.0->turicreate->-r requirements.txt (line 4)) (1.35.0)\n",
      "Requirement already satisfied: markdown>=2.6.8 in ./.venv/lib/python3.6/site-packages (from tensorboard<2.1.0,>=2.0.0->tensorflow<2.1.0,>=2.0.0->turicreate->-r requirements.txt (line 4)) (3.3.7)\n",
      "Requirement already satisfied: ptyprocess>=0.5 in ./.venv/lib/python3.6/site-packages (from pexpect->ipython>=5.0.0->ipykernel->-r requirements.txt (line 5)) (0.7.0)\n",
      "Requirement already satisfied: pyasn1-modules>=0.2.1 in ./.venv/lib/python3.6/site-packages (from google-auth<2,>=1.6.3->tensorboard<2.1.0,>=2.0.0->tensorflow<2.1.0,>=2.0.0->turicreate->-r requirements.txt (line 4)) (0.3.0)\n",
      "Requirement already satisfied: cachetools<5.0,>=2.0.0 in ./.venv/lib/python3.6/site-packages (from google-auth<2,>=1.6.3->tensorboard<2.1.0,>=2.0.0->tensorflow<2.1.0,>=2.0.0->turicreate->-r requirements.txt (line 4)) (4.2.4)\n",
      "Requirement already satisfied: rsa<5,>=3.1.4 in ./.venv/lib/python3.6/site-packages (from google-auth<2,>=1.6.3->tensorboard<2.1.0,>=2.0.0->tensorflow<2.1.0,>=2.0.0->turicreate->-r requirements.txt (line 4)) (4.9)\n",
      "Requirement already satisfied: requests-oauthlib>=0.7.0 in ./.venv/lib/python3.6/site-packages (from google-auth-oauthlib<0.5,>=0.4.1->tensorboard<2.1.0,>=2.0.0->tensorflow<2.1.0,>=2.0.0->turicreate->-r requirements.txt (line 4)) (2.0.0)\n",
      "Requirement already satisfied: importlib-metadata>=4.4 in ./.venv/lib/python3.6/site-packages (from markdown>=2.6.8->tensorboard<2.1.0,>=2.0.0->tensorflow<2.1.0,>=2.0.0->turicreate->-r requirements.txt (line 4)) (4.8.3)\n",
      "Requirement already satisfied: dataclasses in ./.venv/lib/python3.6/site-packages (from werkzeug>=0.11.15->tensorboard<2.1.0,>=2.0.0->tensorflow<2.1.0,>=2.0.0->turicreate->-r requirements.txt (line 4)) (0.8)\n",
      "Requirement already satisfied: zipp>=0.5 in ./.venv/lib/python3.6/site-packages (from importlib-metadata>=4.4->markdown>=2.6.8->tensorboard<2.1.0,>=2.0.0->tensorflow<2.1.0,>=2.0.0->turicreate->-r requirements.txt (line 4)) (3.6.0)\n",
      "Requirement already satisfied: typing-extensions>=3.6.4 in ./.venv/lib/python3.6/site-packages (from importlib-metadata>=4.4->markdown>=2.6.8->tensorboard<2.1.0,>=2.0.0->tensorflow<2.1.0,>=2.0.0->turicreate->-r requirements.txt (line 4)) (4.1.1)\n",
      "Requirement already satisfied: pyasn1<0.6.0,>=0.4.6 in ./.venv/lib/python3.6/site-packages (from pyasn1-modules>=0.2.1->google-auth<2,>=1.6.3->tensorboard<2.1.0,>=2.0.0->tensorflow<2.1.0,>=2.0.0->turicreate->-r requirements.txt (line 4)) (0.5.1)\n",
      "Requirement already satisfied: oauthlib>=3.0.0 in ./.venv/lib/python3.6/site-packages (from requests-oauthlib>=0.7.0->google-auth-oauthlib<0.5,>=0.4.1->tensorboard<2.1.0,>=2.0.0->tensorflow<2.1.0,>=2.0.0->turicreate->-r requirements.txt (line 4)) (3.2.2)\n",
      "Note: you may need to restart the kernel to use updated packages.\n"
     ]
    }
   ],
   "source": [
    "%pip install -r requirements.txt"
   ]
  },
  {
   "cell_type": "code",
   "execution_count": 2,
   "metadata": {},
   "outputs": [],
   "source": [
    "import pandas as pd\n",
    "import numpy as np\n",
    "import random\n",
    "import matplotlib.pyplot as plt"
   ]
  },
  {
   "cell_type": "code",
   "execution_count": 3,
   "metadata": {},
   "outputs": [
    {
     "data": {
      "image/png": "[encoded data removed]",
      "text/plain": [
       "<Figure size 432x288 with 1 Axes>"
      ]
     },
     "metadata": {
      "needs_background": "light"
     },
     "output_type": "display_data"
    }
   ],
   "source": [
    "# Our original polynomial is -x^2+x+15\n",
    "coefs = [15,1,-1]\n",
    "\n",
    "# This is similar to f(x) = -x^2+x+15\n",
    "def polynomial(coefs, x):\n",
    "    n = len(coefs)\n",
    "    return sum([coefs[i]*x**i for i in range(n)])\n",
    "\n",
    "\n",
    "def draw_polynomial(coefs):\n",
    "    x = np.linspace(-5, 5, 1000)\n",
    "    plt.ylim(-20, 20)\n",
    "    plt.plot(x, polynomial(coefs, x), linestyle='-', color='black')\n",
    "\n",
    "draw_polynomial(coefs)"
   ]
  },
  {
   "cell_type": "code",
   "execution_count": 4,
   "metadata": {},
   "outputs": [],
   "source": [
    "X = []\n",
    "Y = []\n",
    "for i in range(40):\n",
    "    x = random.uniform(-5, 5)\n",
    "    # random.gauss(mu, sigma) returns a random number from a Gaussian distribution (the normal distribution).\n",
    "    # mu is the mean of the distribution, and sigma is the standard deviation of the distribution.\n",
    "    # So it will most likely return a set of numbers around 0 with a standard deviation of 2. \n",
    "    bias = random.gauss(0, 2)\n",
    "    y = polynomial(coefs, x) + bias\n",
    "    X.append(x)\n",
    "    Y.append(y)"
   ]
  },
  {
   "cell_type": "code",
   "execution_count": 5,
   "metadata": {},
   "outputs": [
    {
     "data": {
      "text/plain": [
       "<matplotlib.collections.PathCollection at 0x7f83605b19e8>"
      ]
     },
     "execution_count": 5,
     "metadata": {},
     "output_type": "execute_result"
    },
    {
     "data": {
      "image/png": "[encoded data removed]",
      "text/plain": [
       "<Figure size 432x288 with 1 Axes>"
      ]
     },
     "metadata": {
      "needs_background": "light"
     },
     "output_type": "display_data"
    }
   ],
   "source": [
    "plt.scatter(X,Y)"
   ]
  },
  {
   "cell_type": "code",
   "execution_count": 6,
   "metadata": {},
   "outputs": [
    {
     "data": {
      "text/html": [
       "<div style=\"max-height:1000px;max-width:1500px;overflow:auto;\"><table frame=\"box\" rules=\"cols\">\n",
       "    <tr>\n",
       "        <th style=\"padding-left: 1em; padding-right: 1em; text-align: center\">x</th>\n",
       "        <th style=\"padding-left: 1em; padding-right: 1em; text-align: center\">y</th>\n",
       "    </tr>\n",
       "    <tr>\n",
       "        <td style=\"padding-left: 1em; padding-right: 1em; text-align: center; vertical-align: top\">-4.903080308066002</td>\n",
       "        <td style=\"padding-left: 1em; padding-right: 1em; text-align: center; vertical-align: top\">-13.293012485799926</td>\n",
       "    </tr>\n",
       "    <tr>\n",
       "        <td style=\"padding-left: 1em; padding-right: 1em; text-align: center; vertical-align: top\">4.387824525611013</td>\n",
       "        <td style=\"padding-left: 1em; padding-right: 1em; text-align: center; vertical-align: top\">3.4045389398147874</td>\n",
       "    </tr>\n",
       "    <tr>\n",
       "        <td style=\"padding-left: 1em; padding-right: 1em; text-align: center; vertical-align: top\">4.2780010027272635</td>\n",
       "        <td style=\"padding-left: 1em; padding-right: 1em; text-align: center; vertical-align: top\">1.425460286302196</td>\n",
       "    </tr>\n",
       "    <tr>\n",
       "        <td style=\"padding-left: 1em; padding-right: 1em; text-align: center; vertical-align: top\">3.481270439594411</td>\n",
       "        <td style=\"padding-left: 1em; padding-right: 1em; text-align: center; vertical-align: top\">6.572817667952772</td>\n",
       "    </tr>\n",
       "    <tr>\n",
       "        <td style=\"padding-left: 1em; padding-right: 1em; text-align: center; vertical-align: top\">3.5249073242614166</td>\n",
       "        <td style=\"padding-left: 1em; padding-right: 1em; text-align: center; vertical-align: top\">4.070557121881489</td>\n",
       "    </tr>\n",
       "    <tr>\n",
       "        <td style=\"padding-left: 1em; padding-right: 1em; text-align: center; vertical-align: top\">1.4902168597662033</td>\n",
       "        <td style=\"padding-left: 1em; padding-right: 1em; text-align: center; vertical-align: top\">10.378238102195187</td>\n",
       "    </tr>\n",
       "    <tr>\n",
       "        <td style=\"padding-left: 1em; padding-right: 1em; text-align: center; vertical-align: top\">-2.3479075454226916</td>\n",
       "        <td style=\"padding-left: 1em; padding-right: 1em; text-align: center; vertical-align: top\">6.193663085352371</td>\n",
       "    </tr>\n",
       "    <tr>\n",
       "        <td style=\"padding-left: 1em; padding-right: 1em; text-align: center; vertical-align: top\">1.6629326810750245</td>\n",
       "        <td style=\"padding-left: 1em; padding-right: 1em; text-align: center; vertical-align: top\">14.589634602531518</td>\n",
       "    </tr>\n",
       "    <tr>\n",
       "        <td style=\"padding-left: 1em; padding-right: 1em; text-align: center; vertical-align: top\">2.468934072598479</td>\n",
       "        <td style=\"padding-left: 1em; padding-right: 1em; text-align: center; vertical-align: top\">9.564130645525182</td>\n",
       "    </tr>\n",
       "    <tr>\n",
       "        <td style=\"padding-left: 1em; padding-right: 1em; text-align: center; vertical-align: top\">0.6178584003244705</td>\n",
       "        <td style=\"padding-left: 1em; padding-right: 1em; text-align: center; vertical-align: top\">16.09458254853782</td>\n",
       "    </tr>\n",
       "</table>\n",
       "[40 rows x 2 columns]<br/>Note: Only the head of the SFrame is printed.<br/>You can use print_rows(num_rows=m, num_columns=n) to print more rows and columns.\n",
       "</div>"
      ],
      "text/plain": [
       "Columns:\n",
       "\tx\tfloat\n",
       "\ty\tfloat\n",
       "\n",
       "Rows: 40\n",
       "\n",
       "Data:\n",
       "+---------------------+---------------------+\n",
       "|          x          |          y          |\n",
       "+---------------------+---------------------+\n",
       "|  -4.903080308066002 | -13.293012485799926 |\n",
       "|  4.387824525611013  |  3.4045389398147874 |\n",
       "|  4.2780010027272635 |  1.425460286302196  |\n",
       "|  3.481270439594411  |  6.572817667952772  |\n",
       "|  3.5249073242614166 |  4.070557121881489  |\n",
       "|  1.4902168597662033 |  10.378238102195187 |\n",
       "| -2.3479075454226916 |  6.193663085352371  |\n",
       "|  1.6629326810750245 |  14.589634602531518 |\n",
       "|  2.468934072598479  |  9.564130645525182  |\n",
       "|  0.6178584003244705 |  16.09458254853782  |\n",
       "+---------------------+---------------------+\n",
       "[40 rows x 2 columns]\n",
       "Note: Only the head of the SFrame is printed.\n",
       "You can use print_rows(num_rows=m, num_columns=n) to print more rows and columns."
      ]
     },
     "execution_count": 6,
     "metadata": {},
     "output_type": "execute_result"
    }
   ],
   "source": [
    "import turicreate as tc\n",
    "\n",
    "data = tc.SFrame({'x': X, 'y': Y})\n",
    "data"
   ]
  },
  {
   "cell_type": "code",
   "execution_count": 7,
   "metadata": {},
   "outputs": [
    {
     "data": {
      "text/html": [
       "<div style=\"max-height:1000px;max-width:1500px;overflow:auto;\"><table frame=\"box\" rules=\"cols\">\n",
       "    <tr>\n",
       "        <th style=\"padding-left: 1em; padding-right: 1em; text-align: center\">x</th>\n",
       "        <th style=\"padding-left: 1em; padding-right: 1em; text-align: center\">y</th>\n",
       "        <th style=\"padding-left: 1em; padding-right: 1em; text-align: center\">x^2</th>\n",
       "        <th style=\"padding-left: 1em; padding-right: 1em; text-align: center\">x^3</th>\n",
       "        <th style=\"padding-left: 1em; padding-right: 1em; text-align: center\">x^4</th>\n",
       "    </tr>\n",
       "    <tr>\n",
       "        <td style=\"padding-left: 1em; padding-right: 1em; text-align: center; vertical-align: top\">-4.903080308066002</td>\n",
       "        <td style=\"padding-left: 1em; padding-right: 1em; text-align: center; vertical-align: top\">-13.293012485799926</td>\n",
       "        <td style=\"padding-left: 1em; padding-right: 1em; text-align: center; vertical-align: top\">24.040196507344604</td>\n",
       "        <td style=\"padding-left: 1em; padding-right: 1em; text-align: center; vertical-align: top\">-117.8710140971984</td>\n",
       "        <td style=\"padding-left: 1em; padding-right: 1em; text-align: center; vertical-align: top\">577.9310481117436</td>\n",
       "    </tr>\n",
       "    <tr>\n",
       "        <td style=\"padding-left: 1em; padding-right: 1em; text-align: center; vertical-align: top\">4.387824525611013</td>\n",
       "        <td style=\"padding-left: 1em; padding-right: 1em; text-align: center; vertical-align: top\">3.4045389398147874</td>\n",
       "        <td style=\"padding-left: 1em; padding-right: 1em; text-align: center; vertical-align: top\">19.25300406755351</td>\n",
       "        <td style=\"padding-left: 1em; padding-right: 1em; text-align: center; vertical-align: top\">84.47880343929987</td>\n",
       "        <td style=\"padding-left: 1em; padding-right: 1em; text-align: center; vertical-align: top\">370.67816562523194</td>\n",
       "    </tr>\n",
       "    <tr>\n",
       "        <td style=\"padding-left: 1em; padding-right: 1em; text-align: center; vertical-align: top\">4.2780010027272635</td>\n",
       "        <td style=\"padding-left: 1em; padding-right: 1em; text-align: center; vertical-align: top\">1.425460286302196</td>\n",
       "        <td style=\"padding-left: 1em; padding-right: 1em; text-align: center; vertical-align: top\">18.30129257933547</td>\n",
       "        <td style=\"padding-left: 1em; padding-right: 1em; text-align: center; vertical-align: top\">78.29294800560217</td>\n",
       "        <td style=\"padding-left: 1em; padding-right: 1em; text-align: center; vertical-align: top\">334.9373100744396</td>\n",
       "    </tr>\n",
       "    <tr>\n",
       "        <td style=\"padding-left: 1em; padding-right: 1em; text-align: center; vertical-align: top\">3.481270439594411</td>\n",
       "        <td style=\"padding-left: 1em; padding-right: 1em; text-align: center; vertical-align: top\">6.572817667952772</td>\n",
       "        <td style=\"padding-left: 1em; padding-right: 1em; text-align: center; vertical-align: top\">12.119243873593863</td>\n",
       "        <td style=\"padding-left: 1em; padding-right: 1em; text-align: center; vertical-align: top\">42.19036544737798</td>\n",
       "        <td style=\"padding-left: 1em; padding-right: 1em; text-align: center; vertical-align: top\">146.87607206764238</td>\n",
       "    </tr>\n",
       "    <tr>\n",
       "        <td style=\"padding-left: 1em; padding-right: 1em; text-align: center; vertical-align: top\">3.5249073242614166</td>\n",
       "        <td style=\"padding-left: 1em; padding-right: 1em; text-align: center; vertical-align: top\">4.070557121881489</td>\n",
       "        <td style=\"padding-left: 1em; padding-right: 1em; text-align: center; vertical-align: top\">12.42497164463178</td>\n",
       "        <td style=\"padding-left: 1em; padding-right: 1em; text-align: center; vertical-align: top\">43.79687355390298</td>\n",
       "        <td style=\"padding-left: 1em; padding-right: 1em; text-align: center; vertical-align: top\">154.37992036990374</td>\n",
       "    </tr>\n",
       "    <tr>\n",
       "        <td style=\"padding-left: 1em; padding-right: 1em; text-align: center; vertical-align: top\">1.4902168597662033</td>\n",
       "        <td style=\"padding-left: 1em; padding-right: 1em; text-align: center; vertical-align: top\">10.378238102195187</td>\n",
       "        <td style=\"padding-left: 1em; padding-right: 1em; text-align: center; vertical-align: top\">2.2207462891314442</td>\n",
       "        <td style=\"padding-left: 1em; padding-right: 1em; text-align: center; vertical-align: top\">3.30939356132691</td>\n",
       "        <td style=\"padding-left: 1em; padding-right: 1em; text-align: center; vertical-align: top\">4.93171408069108</td>\n",
       "    </tr>\n",
       "    <tr>\n",
       "        <td style=\"padding-left: 1em; padding-right: 1em; text-align: center; vertical-align: top\">-2.3479075454226916</td>\n",
       "        <td style=\"padding-left: 1em; padding-right: 1em; text-align: center; vertical-align: top\">6.193663085352371</td>\n",
       "        <td style=\"padding-left: 1em; padding-right: 1em; text-align: center; vertical-align: top\">5.512669841852809</td>\n",
       "        <td style=\"padding-left: 1em; padding-right: 1em; text-align: center; vertical-align: top\">-12.943239117110327</td>\n",
       "        <td style=\"padding-left: 1em; padding-right: 1em; text-align: center; vertical-align: top\">30.389528785273473</td>\n",
       "    </tr>\n",
       "    <tr>\n",
       "        <td style=\"padding-left: 1em; padding-right: 1em; text-align: center; vertical-align: top\">1.6629326810750245</td>\n",
       "        <td style=\"padding-left: 1em; padding-right: 1em; text-align: center; vertical-align: top\">14.589634602531518</td>\n",
       "        <td style=\"padding-left: 1em; padding-right: 1em; text-align: center; vertical-align: top\">2.765345101787369</td>\n",
       "        <td style=\"padding-left: 1em; padding-right: 1em; text-align: center; vertical-align: top\">4.598582744212956</td>\n",
       "        <td style=\"padding-left: 1em; padding-right: 1em; text-align: center; vertical-align: top\">7.647133531979394</td>\n",
       "    </tr>\n",
       "    <tr>\n",
       "        <td style=\"padding-left: 1em; padding-right: 1em; text-align: center; vertical-align: top\">2.468934072598479</td>\n",
       "        <td style=\"padding-left: 1em; padding-right: 1em; text-align: center; vertical-align: top\">9.564130645525182</td>\n",
       "        <td style=\"padding-left: 1em; padding-right: 1em; text-align: center; vertical-align: top\">6.095635454837712</td>\n",
       "        <td style=\"padding-left: 1em; padding-right: 1em; text-align: center; vertical-align: top\">15.049722068588157</td>\n",
       "        <td style=\"padding-left: 1em; padding-right: 1em; text-align: center; vertical-align: top\">37.15677159827457</td>\n",
       "    </tr>\n",
       "    <tr>\n",
       "        <td style=\"padding-left: 1em; padding-right: 1em; text-align: center; vertical-align: top\">0.6178584003244705</td>\n",
       "        <td style=\"padding-left: 1em; padding-right: 1em; text-align: center; vertical-align: top\">16.09458254853782</td>\n",
       "        <td style=\"padding-left: 1em; padding-right: 1em; text-align: center; vertical-align: top\">0.38174900285151364</td>\n",
       "        <td style=\"padding-left: 1em; padding-right: 1em; text-align: center; vertical-align: top\">0.23586682822729793</td>\n",
       "        <td style=\"padding-left: 1em; padding-right: 1em; text-align: center; vertical-align: top\">0.14573230117812497</td>\n",
       "    </tr>\n",
       "</table>\n",
       "<table frame=\"box\" rules=\"cols\">\n",
       "    <tr>\n",
       "        <th style=\"padding-left: 1em; padding-right: 1em; text-align: center\">x^5</th>\n",
       "        <th style=\"padding-left: 1em; padding-right: 1em; text-align: center\">x^6</th>\n",
       "        <th style=\"padding-left: 1em; padding-right: 1em; text-align: center\">x^7</th>\n",
       "        <th style=\"padding-left: 1em; padding-right: 1em; text-align: center\">x^8</th>\n",
       "        <th style=\"padding-left: 1em; padding-right: 1em; text-align: center\">x^9</th>\n",
       "    </tr>\n",
       "    <tr>\n",
       "        <td style=\"padding-left: 1em; padding-right: 1em; text-align: center; vertical-align: top\">-2833.6423414166356</td>\n",
       "        <td style=\"padding-left: 1em; padding-right: 1em; text-align: center; vertical-align: top\">13893.575964301945</td>\n",
       "        <td style=\"padding-left: 1em; padding-right: 1em; text-align: center; vertical-align: top\">-68121.31871918798</td>\n",
       "        <td style=\"padding-left: 1em; padding-right: 1em; text-align: center; vertical-align: top\">334004.29637153854</td>\n",
       "        <td style=\"padding-left: 1em; padding-right: 1em; text-align: center; vertical-align: top\">-1637649.8883487314</td>\n",
       "    </tr>\n",
       "    <tr>\n",
       "        <td style=\"padding-left: 1em; padding-right: 1em; text-align: center; vertical-align: top\">1626.4707462388938</td>\n",
       "        <td style=\"padding-left: 1em; padding-right: 1em; text-align: center; vertical-align: top\">7136.668230535864</td>\n",
       "        <td style=\"padding-left: 1em; padding-right: 1em; text-align: center; vertical-align: top\">31314.44789309421</td>\n",
       "        <td style=\"padding-left: 1em; padding-right: 1em; text-align: center; vertical-align: top\">137402.30247128688</td>\n",
       "        <td style=\"padding-left: 1em; padding-right: 1em; text-align: center; vertical-align: top\">602897.1926589352</td>\n",
       "    </tr>\n",
       "    <tr>\n",
       "        <td style=\"padding-left: 1em; padding-right: 1em; text-align: center; vertical-align: top\">1432.862148349225</td>\n",
       "        <td style=\"padding-left: 1em; padding-right: 1em; text-align: center; vertical-align: top\">6129.785707407926</td>\n",
       "        <td style=\"padding-left: 1em; padding-right: 1em; text-align: center; vertical-align: top\">26223.229402794354</td>\n",
       "        <td style=\"padding-left: 1em; padding-right: 1em; text-align: center; vertical-align: top\">112183.0016799013</td>\n",
       "        <td style=\"padding-left: 1em; padding-right: 1em; text-align: center; vertical-align: top\">479918.99367557204</td>\n",
       "    </tr>\n",
       "    <tr>\n",
       "        <td style=\"padding-left: 1em; padding-right: 1em; text-align: center; vertical-align: top\">511.3153279728218</td>\n",
       "        <td style=\"padding-left: 1em; padding-right: 1em; text-align: center; vertical-align: top\">1780.0269365833058</td>\n",
       "        <td style=\"padding-left: 1em; padding-right: 1em; text-align: center; vertical-align: top\">6196.755156009258</td>\n",
       "        <td style=\"padding-left: 1em; padding-right: 1em; text-align: center; vertical-align: top\">21572.580546019282</td>\n",
       "        <td style=\"padding-left: 1em; padding-right: 1em; text-align: center; vertical-align: top\">75099.98696062638</td>\n",
       "    </tr>\n",
       "    <tr>\n",
       "        <td style=\"padding-left: 1em; padding-right: 1em; text-align: center; vertical-align: top\">544.174912030768</td>\n",
       "        <td style=\"padding-left: 1em; padding-right: 1em; text-align: center; vertical-align: top\">1918.1661330965662</td>\n",
       "        <td style=\"padding-left: 1em; padding-right: 1em; text-align: center; vertical-align: top\">6761.357851702285</td>\n",
       "        <td style=\"padding-left: 1em; padding-right: 1em; text-align: center; vertical-align: top\">23833.159813417824</td>\n",
       "        <td style=\"padding-left: 1em; padding-right: 1em; text-align: center; vertical-align: top\">84009.67958660935</td>\n",
       "    </tr>\n",
       "    <tr>\n",
       "        <td style=\"padding-left: 1em; padding-right: 1em; text-align: center; vertical-align: top\">7.349323470592229</td>\n",
       "        <td style=\"padding-left: 1em; padding-right: 1em; text-align: center; vertical-align: top\">10.952085743752006</td>\n",
       "        <td style=\"padding-left: 1em; padding-right: 1em; text-align: center; vertical-align: top\">16.32098282494432</td>\n",
       "        <td style=\"padding-left: 1em; padding-right: 1em; text-align: center; vertical-align: top\">24.32180377368666</td>\n",
       "        <td style=\"padding-left: 1em; padding-right: 1em; text-align: center; vertical-align: top\">36.24476204347313</td>\n",
       "    </tr>\n",
       "    <tr>\n",
       "        <td style=\"padding-left: 1em; padding-right: 1em; text-align: center; vertical-align: top\">-71.35180393678367</td>\n",
       "        <td style=\"padding-left: 1em; padding-right: 1em; text-align: center; vertical-align: top\">167.5274388426949</td>\n",
       "        <td style=\"padding-left: 1em; padding-right: 1em; text-align: center; vertical-align: top\">-393.33893772410187</td>\n",
       "        <td style=\"padding-left: 1em; padding-right: 1em; text-align: center; vertical-align: top\">923.5234597909649</td>\n",
       "        <td style=\"padding-left: 1em; padding-right: 1em; text-align: center; vertical-align: top\">-2168.3476996180766</td>\n",
       "    </tr>\n",
       "    <tr>\n",
       "        <td style=\"padding-left: 1em; padding-right: 1em; text-align: center; vertical-align: top\">12.716668266873215</td>\n",
       "        <td style=\"padding-left: 1em; padding-right: 1em; text-align: center; vertical-align: top\">21.146963255373162</td>\n",
       "        <td style=\"padding-left: 1em; padding-right: 1em; text-align: center; vertical-align: top\">35.16597630285272</td>\n",
       "        <td style=\"padding-left: 1em; padding-right: 1em; text-align: center; vertical-align: top\">58.478651255923644</td>\n",
       "        <td style=\"padding-left: 1em; padding-right: 1em; text-align: center; vertical-align: top\">97.24606031866445</td>\n",
       "    </tr>\n",
       "    <tr>\n",
       "        <td style=\"padding-left: 1em; padding-right: 1em; text-align: center; vertical-align: top\">91.73761942673953</td>\n",
       "        <td style=\"padding-left: 1em; padding-right: 1em; text-align: center; vertical-align: top\">226.49413434174937</td>\n",
       "        <td style=\"padding-left: 1em; padding-right: 1em; text-align: center; vertical-align: top\">559.1990855200423</td>\n",
       "        <td style=\"padding-left: 1em; padding-right: 1em; text-align: center; vertical-align: top\">1380.6256756063435</td>\n",
       "        <td style=\"padding-left: 1em; padding-right: 1em; text-align: center; vertical-align: top\">3408.6737720087963</td>\n",
       "    </tr>\n",
       "    <tr>\n",
       "        <td style=\"padding-left: 1em; padding-right: 1em; text-align: center; vertical-align: top\">0.09004192648152023</td>\n",
       "        <td style=\"padding-left: 1em; padding-right: 1em; text-align: center; vertical-align: top\">0.055633160658005665</td>\n",
       "        <td style=\"padding-left: 1em; padding-right: 1em; text-align: center; vertical-align: top\">0.03437341564914965</td>\n",
       "        <td style=\"padding-left: 1em; padding-right: 1em; text-align: center; vertical-align: top\">0.021237903606671722</td>\n",
       "        <td style=\"padding-left: 1em; padding-right: 1em; text-align: center; vertical-align: top\">0.013122017148663491</td>\n",
       "    </tr>\n",
       "</table>\n",
       "<table frame=\"box\" rules=\"cols\">\n",
       "    <tr>\n",
       "        <th style=\"padding-left: 1em; padding-right: 1em; text-align: center\">x^10</th>\n",
       "        <th style=\"padding-left: 1em; padding-right: 1em; text-align: center\">x^11</th>\n",
       "        <th style=\"padding-left: 1em; padding-right: 1em; text-align: center\">x^12</th>\n",
       "        <th style=\"padding-left: 1em; padding-right: 1em; text-align: center\">x^13</th>\n",
       "        <th style=\"padding-left: 1em; padding-right: 1em; text-align: center\">x^14</th>\n",
       "    </tr>\n",
       "    <tr>\n",
       "        <td style=\"padding-left: 1em; padding-right: 1em; text-align: center; vertical-align: top\">8029528.919069152</td>\n",
       "        <td style=\"padding-left: 1em; padding-right: 1em; text-align: center; vertical-align: top\">-39369425.12613445</td>\n",
       "        <td style=\"padding-left: 1em; padding-right: 1em; text-align: center; vertical-align: top\">193031453.0758287</td>\n",
       "        <td style=\"padding-left: 1em; padding-right: 1em; text-align: center; vertical-align: top\">-946448716.4134623</td>\n",
       "        <td style=\"padding-left: 1em; padding-right: 1em; text-align: center; vertical-align: top\">4640514064.041191</td>\n",
       "    </tr>\n",
       "    <tr>\n",
       "        <td style=\"padding-left: 1em; padding-right: 1em; text-align: center; vertical-align: top\">2645407.088370904</td>\n",
       "        <td style=\"padding-left: 1em; padding-right: 1em; text-align: center; vertical-align: top\">11607582.10257907</td>\n",
       "        <td style=\"padding-left: 1em; padding-right: 1em; text-align: center; vertical-align: top\">50932033.43273989</td>\n",
       "        <td style=\"padding-left: 1em; padding-right: 1em; text-align: center; vertical-align: top\">223480825.43541616</td>\n",
       "        <td style=\"padding-left: 1em; padding-right: 1em; text-align: center; vertical-align: top\">980594646.8493124</td>\n",
       "    </tr>\n",
       "    <tr>\n",
       "        <td style=\"padding-left: 1em; padding-right: 1em; text-align: center; vertical-align: top\">2053093.9361719564</td>\n",
       "        <td style=\"padding-left: 1em; padding-right: 1em; text-align: center; vertical-align: top\">8783137.917636894</td>\n",
       "        <td style=\"padding-left: 1em; padding-right: 1em; text-align: center; vertical-align: top\">37574272.818742484</td>\n",
       "        <td style=\"padding-left: 1em; padding-right: 1em; text-align: center; vertical-align: top\">160742776.79532808</td>\n",
       "        <td style=\"padding-left: 1em; padding-right: 1em; text-align: center; vertical-align: top\">687657760.3115783</td>\n",
       "    </tr>\n",
       "    <tr>\n",
       "        <td style=\"padding-left: 1em; padding-right: 1em; text-align: center; vertical-align: top\">261443.3646199543</td>\n",
       "        <td style=\"padding-left: 1em; padding-right: 1em; text-align: center; vertical-align: top\">910155.0568795502</td>\n",
       "        <td style=\"padding-left: 1em; padding-right: 1em; text-align: center; vertical-align: top\">3168495.8949621483</td>\n",
       "        <td style=\"padding-left: 1em; padding-right: 1em; text-align: center; vertical-align: top\">11030391.097107964</td>\n",
       "        <td style=\"padding-left: 1em; padding-right: 1em; text-align: center; vertical-align: top\">38399774.46352732</td>\n",
       "    </tr>\n",
       "    <tr>\n",
       "        <td style=\"padding-left: 1em; padding-right: 1em; text-align: center; vertical-align: top\">296126.3348836941</td>\n",
       "        <td style=\"padding-left: 1em; padding-right: 1em; text-align: center; vertical-align: top\">1043817.8867382223</td>\n",
       "        <td style=\"padding-left: 1em; padding-right: 1em; text-align: center; vertical-align: top\">3679361.314158634</td>\n",
       "        <td style=\"padding-left: 1em; padding-right: 1em; text-align: center; vertical-align: top\">12969407.64488188</td>\n",
       "        <td style=\"padding-left: 1em; padding-right: 1em; text-align: center; vertical-align: top\">45715959.998776145</td>\n",
       "    </tr>\n",
       "    <tr>\n",
       "        <td style=\"padding-left: 1em; padding-right: 1em; text-align: center; vertical-align: top\">54.012555475397804</td>\n",
       "        <td style=\"padding-left: 1em; padding-right: 1em; text-align: center; vertical-align: top\">80.49042080849517</td>\n",
       "        <td style=\"padding-left: 1em; padding-right: 1em; text-align: center; vertical-align: top\">119.94818213849594</td>\n",
       "        <td style=\"padding-left: 1em; padding-right: 1em; text-align: center; vertical-align: top\">178.74880332109402</td>\n",
       "        <td style=\"padding-left: 1em; padding-right: 1em; text-align: center; vertical-align: top\">266.37448037212744</td>\n",
       "    </tr>\n",
       "    <tr>\n",
       "        <td style=\"padding-left: 1em; padding-right: 1em; text-align: center; vertical-align: top\">5091.0799250332175</td>\n",
       "        <td style=\"padding-left: 1em; padding-right: 1em; text-align: center; vertical-align: top\">-11953.384970335483</td>\n",
       "        <td style=\"padding-left: 1em; padding-right: 1em; text-align: center; vertical-align: top\">28065.442765192878</td>\n",
       "        <td style=\"padding-left: 1em; padding-right: 1em; text-align: center; vertical-align: top\">-65895.06483402505</td>\n",
       "        <td style=\"padding-left: 1em; padding-right: 1em; text-align: center; vertical-align: top\">154715.5199299249</td>\n",
       "    </tr>\n",
       "    <tr>\n",
       "        <td style=\"padding-left: 1em; padding-right: 1em; text-align: center; vertical-align: top\">161.71365180970022</td>\n",
       "        <td style=\"padding-left: 1em; padding-right: 1em; text-align: center; vertical-align: top\">268.9189165703378</td>\n",
       "        <td style=\"padding-left: 1em; padding-right: 1em; text-align: center; vertical-align: top\">447.1940549241026</td>\n",
       "        <td style=\"padding-left: 1em; padding-right: 1em; text-align: center; vertical-align: top\">743.6536087157497</td>\n",
       "        <td style=\"padding-left: 1em; padding-right: 1em; text-align: center; vertical-align: top\">1236.6458893327988</td>\n",
       "    </tr>\n",
       "    <tr>\n",
       "        <td style=\"padding-left: 1em; padding-right: 1em; text-align: center; vertical-align: top\">8415.790818085297</td>\n",
       "        <td style=\"padding-left: 1em; padding-right: 1em; text-align: center; vertical-align: top\">20778.03269863222</td>\n",
       "        <td style=\"padding-left: 1em; padding-right: 1em; text-align: center; vertical-align: top\">51299.59289121842</td>\n",
       "        <td style=\"padding-left: 1em; padding-right: 1em; text-align: center; vertical-align: top\">126655.31279955988</td>\n",
       "        <td style=\"padding-left: 1em; padding-right: 1em; text-align: center; vertical-align: top\">312703.6172464517</td>\n",
       "    </tr>\n",
       "    <tr>\n",
       "        <td style=\"padding-left: 1em; padding-right: 1em; text-align: center; vertical-align: top\">0.008107548524503494</td>\n",
       "        <td style=\"padding-left: 1em; padding-right: 1em; text-align: center; vertical-align: top\">0.00500931696190275</td>\n",
       "        <td style=\"padding-left: 1em; padding-right: 1em; text-align: center; vertical-align: top\">0.0030950485647994693</td>\n",
       "        <td style=\"padding-left: 1em; padding-right: 1em; text-align: center; vertical-align: top\">0.0019123017551735484</td>\n",
       "        <td style=\"padding-left: 1em; padding-right: 1em; text-align: center; vertical-align: top\">0.0011815317033892058</td>\n",
       "    </tr>\n",
       "</table>\n",
       "<table frame=\"box\" rules=\"cols\">\n",
       "    <tr>\n",
       "        <th style=\"padding-left: 1em; padding-right: 1em; text-align: center\">x^15</th>\n",
       "        <th style=\"padding-left: 1em; padding-right: 1em; text-align: center\">x^16</th>\n",
       "        <th style=\"padding-left: 1em; padding-right: 1em; text-align: center\">x^17</th>\n",
       "        <th style=\"padding-left: 1em; padding-right: 1em; text-align: center\">x^18</th>\n",
       "    </tr>\n",
       "    <tr>\n",
       "        <td style=\"padding-left: 1em; padding-right: 1em; text-align: center; vertical-align: top\">-22752813126.703697</td>\n",
       "        <td style=\"padding-left: 1em; padding-right: 1em; text-align: center; vertical-align: top\">111558869994.64655</td>\n",
       "        <td style=\"padding-left: 1em; padding-right: 1em; text-align: center; vertical-align: top\">-546982098660.8467</td>\n",
       "        <td style=\"padding-left: 1em; padding-right: 1em; text-align: center; vertical-align: top\">2681897156808.6123</td>\n",
       "    </tr>\n",
       "    <tr>\n",
       "        <td style=\"padding-left: 1em; padding-right: 1em; text-align: center; vertical-align: top\">4302677241.128283</td>\n",
       "        <td style=\"padding-left: 1em; padding-right: 1em; text-align: center; vertical-align: top\">18879392724.411007</td>\n",
       "        <td style=\"padding-left: 1em; padding-right: 1em; text-align: center; vertical-align: top\">82839462424.81273</td>\n",
       "        <td style=\"padding-left: 1em; padding-right: 1em; text-align: center; vertical-align: top\">363485024916.02527</td>\n",
       "    </tr>\n",
       "    <tr>\n",
       "        <td style=\"padding-left: 1em; padding-right: 1em; text-align: center; vertical-align: top\">2941800588.1461163</td>\n",
       "        <td style=\"padding-left: 1em; padding-right: 1em; text-align: center; vertical-align: top\">12585025865.912739</td>\n",
       "        <td style=\"padding-left: 1em; padding-right: 1em; text-align: center; vertical-align: top\">53838753273.72324</td>\n",
       "        <td style=\"padding-left: 1em; padding-right: 1em; text-align: center; vertical-align: top\">230322240490.57376</td>\n",
       "    </tr>\n",
       "    <tr>\n",
       "        <td style=\"padding-left: 1em; padding-right: 1em; text-align: center; vertical-align: top\">133679999.72696999</td>\n",
       "        <td style=\"padding-left: 1em; padding-right: 1em; text-align: center; vertical-align: top\">465376231.4144895</td>\n",
       "        <td style=\"padding-left: 1em; padding-right: 1em; text-align: center; vertical-align: top\">1620100517.7131102</td>\n",
       "        <td style=\"padding-left: 1em; padding-right: 1em; text-align: center; vertical-align: top\">5640008041.486252</td>\n",
       "    </tr>\n",
       "    <tr>\n",
       "        <td style=\"padding-left: 1em; padding-right: 1em; text-align: center; vertical-align: top\">161144522.235328</td>\n",
       "        <td style=\"padding-left: 1em; padding-right: 1em; text-align: center; vertical-align: top\">568019506.6919143</td>\n",
       "        <td style=\"padding-left: 1em; padding-right: 1em; text-align: center; vertical-align: top\">2002216119.4616854</td>\n",
       "        <td style=\"padding-left: 1em; padding-right: 1em; text-align: center; vertical-align: top\">7057626264.244766</td>\n",
       "    </tr>\n",
       "    <tr>\n",
       "        <td style=\"padding-left: 1em; padding-right: 1em; text-align: center; vertical-align: top\">396.9557416620059</td>\n",
       "        <td style=\"padding-left: 1em; padding-right: 1em; text-align: center; vertical-align: top\">591.5501388057187</td>\n",
       "        <td style=\"padding-left: 1em; padding-right: 1em; text-align: center; vertical-align: top\">881.5379902453197</td>\n",
       "        <td style=\"padding-left: 1em; padding-right: 1em; text-align: center; vertical-align: top\">1313.6827755879904</td>\n",
       "    </tr>\n",
       "    <tr>\n",
       "        <td style=\"padding-left: 1em; padding-right: 1em; text-align: center; vertical-align: top\">-363257.7366374655</td>\n",
       "        <td style=\"padding-left: 1em; padding-right: 1em; text-align: center; vertical-align: top\">852895.580784274</td>\n",
       "        <td style=\"padding-left: 1em; padding-right: 1em; text-align: center; vertical-align: top\">-2002519.969581066</td>\n",
       "        <td style=\"padding-left: 1em; padding-right: 1em; text-align: center; vertical-align: top\">4701731.746439003</td>\n",
       "    </tr>\n",
       "    <tr>\n",
       "        <td style=\"padding-left: 1em; padding-right: 1em; text-align: center; vertical-align: top\">2056.458864288599</td>\n",
       "        <td style=\"padding-left: 1em; padding-right: 1em; text-align: center; vertical-align: top\">3419.75265271194</td>\n",
       "        <td style=\"padding-left: 1em; padding-right: 1em; text-align: center; vertical-align: top\">5686.818447387694</td>\n",
       "        <td style=\"padding-left: 1em; padding-right: 1em; text-align: center; vertical-align: top\">9456.796247501325</td>\n",
       "    </tr>\n",
       "    <tr>\n",
       "        <td style=\"padding-left: 1em; padding-right: 1em; text-align: center; vertical-align: top\">772044.615244558</td>\n",
       "        <td style=\"padding-left: 1em; padding-right: 1em; text-align: center; vertical-align: top\">1906127.2561434724</td>\n",
       "        <td style=\"padding-left: 1em; padding-right: 1em; text-align: center; vertical-align: top\">4706102.529401268</td>\n",
       "        <td style=\"padding-left: 1em; padding-right: 1em; text-align: center; vertical-align: top\">11619056.883980677</td>\n",
       "    </tr>\n",
       "    <tr>\n",
       "        <td style=\"padding-left: 1em; padding-right: 1em; text-align: center; vertical-align: top\">0.0007300192881887015</td>\n",
       "        <td style=\"padding-left: 1em; padding-right: 1em; text-align: center; vertical-align: top\">0.00045104854960627966</td>\n",
       "        <td style=\"padding-left: 1em; padding-right: 1em; text-align: center; vertical-align: top\">0.00027868413532840854</td>\n",
       "        <td style=\"padding-left: 1em; padding-right: 1em; text-align: center; vertical-align: top\">0.00017218733404981875</td>\n",
       "    </tr>\n",
       "</table>\n",
       "<table frame=\"box\" rules=\"cols\">\n",
       "    <tr>\n",
       "        <th style=\"padding-left: 1em; padding-right: 1em; text-align: center\">x^19</th>\n",
       "        <th style=\"padding-left: 1em; padding-right: 1em; text-align: center\">x^20</th>\n",
       "        <th style=\"padding-left: 1em; padding-right: 1em; text-align: center\">x^21</th>\n",
       "        <th style=\"padding-left: 1em; padding-right: 1em; text-align: center\">x^22</th>\n",
       "    </tr>\n",
       "    <tr>\n",
       "        <td style=\"padding-left: 1em; padding-right: 1em; text-align: center; vertical-align: top\">-13149557137806.506</td>\n",
       "        <td style=\"padding-left: 1em; padding-right: 1em; text-align: center; vertical-align: top\">64473334662167.82</td>\n",
       "        <td style=\"padding-left: 1em; padding-right: 1em; text-align: center; vertical-align: top\">-316117937577424.25</td>\n",
       "        <td style=\"padding-left: 1em; padding-right: 1em; text-align: center; vertical-align: top\">1549951634762306.5</td>\n",
       "    </tr>\n",
       "    <tr>\n",
       "        <td style=\"padding-left: 1em; padding-right: 1em; text-align: center; vertical-align: top\">1594908507018.8657</td>\n",
       "        <td style=\"padding-left: 1em; padding-right: 1em; text-align: center; vertical-align: top\">6998178663203.022</td>\n",
       "        <td style=\"padding-left: 1em; padding-right: 1em; text-align: center; vertical-align: top\">30706779973009.914</td>\n",
       "        <td style=\"padding-left: 1em; padding-right: 1em; text-align: center; vertical-align: top\">134735962268113.97</td>\n",
       "    </tr>\n",
       "    <tr>\n",
       "        <td style=\"padding-left: 1em; padding-right: 1em; text-align: center; vertical-align: top\">985318775769.0645</td>\n",
       "        <td style=\"padding-left: 1em; padding-right: 1em; text-align: center; vertical-align: top\">4215194710746.0576</td>\n",
       "        <td style=\"padding-left: 1em; padding-right: 1em; text-align: center; vertical-align: top\">18032607199262.293</td>\n",
       "        <td style=\"padding-left: 1em; padding-right: 1em; text-align: center; vertical-align: top\">77143511680230.95</td>\n",
       "    </tr>\n",
       "    <tr>\n",
       "        <td style=\"padding-left: 1em; padding-right: 1em; text-align: center; vertical-align: top\">19634393273.90086</td>\n",
       "        <td style=\"padding-left: 1em; padding-right: 1em; text-align: center; vertical-align: top\">68352632903.80238</td>\n",
       "        <td style=\"padding-left: 1em; padding-right: 1em; text-align: center; vertical-align: top\">237954000396.45554</td>\n",
       "        <td style=\"padding-left: 1em; padding-right: 1em; text-align: center; vertical-align: top\">828382227563.4174</td>\n",
       "    </tr>\n",
       "    <tr>\n",
       "        <td style=\"padding-left: 1em; padding-right: 1em; text-align: center; vertical-align: top\">24877478510.73612</td>\n",
       "        <td style=\"padding-left: 1em; padding-right: 1em; text-align: center; vertical-align: top\">87690806211.64973</td>\n",
       "        <td style=\"padding-left: 1em; padding-right: 1em; text-align: center; vertical-align: top\">309101965085.8327</td>\n",
       "        <td style=\"padding-left: 1em; padding-right: 1em; text-align: center; vertical-align: top\">1089555780674.6483</td>\n",
       "    </tr>\n",
       "    <tr>\n",
       "        <td style=\"padding-left: 1em; padding-right: 1em; text-align: center; vertical-align: top\">1957.672220565685</td>\n",
       "        <td style=\"padding-left: 1em; padding-right: 1em; text-align: center; vertical-align: top\">2917.3561489829253</td>\n",
       "        <td style=\"padding-left: 1em; padding-right: 1em; text-align: center; vertical-align: top\">4347.493319156959</td>\n",
       "        <td style=\"padding-left: 1em; padding-right: 1em; text-align: center; vertical-align: top\">6478.707841928632</td>\n",
       "    </tr>\n",
       "    <tr>\n",
       "        <td style=\"padding-left: 1em; padding-right: 1em; text-align: center; vertical-align: top\">-11039231.444017546</td>\n",
       "        <td style=\"padding-left: 1em; padding-right: 1em; text-align: center; vertical-align: top\">25919094.803076234</td>\n",
       "        <td style=\"padding-left: 1em; padding-right: 1em; text-align: center; vertical-align: top\">-60855638.258668765</td>\n",
       "        <td style=\"padding-left: 1em; padding-right: 1em; text-align: center; vertical-align: top\">142883412.2490422</td>\n",
       "    </tr>\n",
       "    <tr>\n",
       "        <td style=\"padding-left: 1em; padding-right: 1em; text-align: center; vertical-align: top\">15726.015538237609</td>\n",
       "        <td style=\"padding-left: 1em; padding-right: 1em; text-align: center; vertical-align: top\">26151.30518162896</td>\n",
       "        <td style=\"padding-left: 1em; padding-right: 1em; text-align: center; vertical-align: top\">43487.860039297426</td>\n",
       "        <td style=\"padding-left: 1em; padding-right: 1em; text-align: center; vertical-align: top\">72317.38368936429</td>\n",
       "    </tr>\n",
       "    <tr>\n",
       "        <td style=\"padding-left: 1em; padding-right: 1em; text-align: center; vertical-align: top\">28686685.432319805</td>\n",
       "        <td style=\"padding-left: 1em; padding-right: 1em; text-align: center; vertical-align: top\">70825535.0937688</td>\n",
       "        <td style=\"padding-left: 1em; padding-right: 1em; text-align: center; vertical-align: top\">174863576.80302513</td>\n",
       "        <td style=\"padding-left: 1em; padding-right: 1em; text-align: center; vertical-align: top\">431726642.82542974</td>\n",
       "    </tr>\n",
       "    <tr>\n",
       "        <td style=\"padding-left: 1em; padding-right: 1em; text-align: center; vertical-align: top\">0.00010638739077215623</td>\n",
       "        <td style=\"padding-left: 1em; padding-right: 1em; text-align: center; vertical-align: top\">6.573234307717878e-05</td>\n",
       "        <td style=\"padding-left: 1em; padding-right: 1em; text-align: center; vertical-align: top\">4.061328034324497e-05</td>\n",
       "        <td style=\"padding-left: 1em; padding-right: 1em; text-align: center; vertical-align: top\">2.5093256424806595e-05</td>\n",
       "    </tr>\n",
       "</table>\n",
       "<table frame=\"box\" rules=\"cols\">\n",
       "    <tr>\n",
       "        <th style=\"padding-left: 1em; padding-right: 1em; text-align: center\">x^23</th>\n",
       "        <th style=\"padding-left: 1em; padding-right: 1em; text-align: center\">x^24</th>\n",
       "        <th style=\"padding-left: 1em; padding-right: 1em; text-align: center\">x^25</th>\n",
       "        <th style=\"padding-left: 1em; padding-right: 1em; text-align: center\">x^26</th>\n",
       "    </tr>\n",
       "    <tr>\n",
       "        <td style=\"padding-left: 1em; padding-right: 1em; text-align: center; vertical-align: top\">-7599537338857774.0</td>\n",
       "        <td style=\"padding-left: 1em; padding-right: 1em; text-align: center; vertical-align: top\">3.7261141876565864e+16</td>\n",
       "        <td style=\"padding-left: 1em; padding-right: 1em; text-align: center; vertical-align: top\">-1.8269437099104355e+17</td>\n",
       "        <td style=\"padding-left: 1em; padding-right: 1em; text-align: center; vertical-align: top\">8.957651728006903e+17</td>\n",
       "    </tr>\n",
       "    <tr>\n",
       "        <td style=\"padding-left: 1em; padding-right: 1em; text-align: center; vertical-align: top\">591197759721830.5</td>\n",
       "        <td style=\"padding-left: 1em; padding-right: 1em; text-align: center; vertical-align: top\">2594072029593734.0</td>\n",
       "        <td style=\"padding-left: 1em; padding-right: 1em; text-align: center; vertical-align: top\">1.1382332872652924e+16</td>\n",
       "        <td style=\"padding-left: 1em; padding-right: 1em; text-align: center; vertical-align: top\">4.994367933729495e+16</td>\n",
       "    </tr>\n",
       "    <tr>\n",
       "        <td style=\"padding-left: 1em; padding-right: 1em; text-align: center; vertical-align: top\">330020020321930.4</td>\n",
       "        <td style=\"padding-left: 1em; padding-right: 1em; text-align: center; vertical-align: top\">1411825977857290.0</td>\n",
       "        <td style=\"padding-left: 1em; padding-right: 1em; text-align: center; vertical-align: top\">6039792948949886.0</td>\n",
       "        <td style=\"padding-left: 1em; padding-right: 1em; text-align: center; vertical-align: top\">2.5838240291872668e+16</td>\n",
       "    </tr>\n",
       "    <tr>\n",
       "        <td style=\"padding-left: 1em; padding-right: 1em; text-align: center; vertical-align: top\">2883822561501.8955</td>\n",
       "        <td style=\"padding-left: 1em; padding-right: 1em; text-align: center; vertical-align: top\">10039366236391.984</td>\n",
       "        <td style=\"padding-left: 1em; padding-right: 1em; text-align: center; vertical-align: top\">34949748911013.61</td>\n",
       "        <td style=\"padding-left: 1em; padding-right: 1em; text-align: center; vertical-align: top\">121669527755158.62</td>\n",
       "    </tr>\n",
       "    <tr>\n",
       "        <td style=\"padding-left: 1em; padding-right: 1em; text-align: center; vertical-align: top\">3840583151491.4336</td>\n",
       "        <td style=\"padding-left: 1em; padding-right: 1em; text-align: center; vertical-align: top\">13537699680127.148</td>\n",
       "        <td style=\"padding-left: 1em; padding-right: 1em; text-align: center; vertical-align: top\">47719136756131.625</td>\n",
       "        <td style=\"padding-left: 1em; padding-right: 1em; text-align: center; vertical-align: top\">168205534659120.53</td>\n",
       "    </tr>\n",
       "    <tr>\n",
       "        <td style=\"padding-left: 1em; padding-right: 1em; text-align: center; vertical-align: top\">9654.679655541562</td>\n",
       "        <td style=\"padding-left: 1em; padding-right: 1em; text-align: center; vertical-align: top\">14387.566398329796</td>\n",
       "        <td style=\"padding-left: 1em; padding-right: 1em; text-align: center; vertical-align: top\">21440.59401779677</td>\n",
       "        <td style=\"padding-left: 1em; padding-right: 1em; text-align: center; vertical-align: top\">31951.134688723152</td>\n",
       "    </tr>\n",
       "    <tr>\n",
       "        <td style=\"padding-left: 1em; padding-right: 1em; text-align: center; vertical-align: top\">-335477041.7352673</td>\n",
       "        <td style=\"padding-left: 1em; padding-right: 1em; text-align: center; vertical-align: top\">787669077.6063173</td>\n",
       "        <td style=\"padding-left: 1em; padding-right: 1em; text-align: center; vertical-align: top\">-1849374170.6080039</td>\n",
       "        <td style=\"padding-left: 1em; padding-right: 1em; text-align: center; vertical-align: top\">4342159569.480365</td>\n",
       "    </tr>\n",
       "    <tr>\n",
       "        <td style=\"padding-left: 1em; padding-right: 1em; text-align: center; vertical-align: top\">120258.9407468858</td>\n",
       "        <td style=\"padding-left: 1em; padding-right: 1em; text-align: center; vertical-align: top\">199982.5227594613</td>\n",
       "        <td style=\"padding-left: 1em; padding-right: 1em; text-align: center; vertical-align: top\">332557.47274053807</td>\n",
       "        <td style=\"padding-left: 1em; padding-right: 1em; text-align: center; vertical-align: top\">553020.6897559573</td>\n",
       "    </tr>\n",
       "    <tr>\n",
       "        <td style=\"padding-left: 1em; padding-right: 1em; text-align: center; vertical-align: top\">1065904618.5202574</td>\n",
       "        <td style=\"padding-left: 1em; padding-right: 1em; text-align: center; vertical-align: top\">2631648230.804747</td>\n",
       "        <td style=\"padding-left: 1em; padding-right: 1em; text-align: center; vertical-align: top\">6497365984.127347</td>\n",
       "        <td style=\"padding-left: 1em; padding-right: 1em; text-align: center; vertical-align: top\">16041568260.354357</td>\n",
       "    </tr>\n",
       "    <tr>\n",
       "        <td style=\"padding-left: 1em; padding-right: 1em; text-align: center; vertical-align: top\">1.5504079273562743e-05</td>\n",
       "        <td style=\"padding-left: 1em; padding-right: 1em; text-align: center; vertical-align: top\">9.579325618467256e-06</td>\n",
       "        <td style=\"padding-left: 1em; padding-right: 1em; text-align: center; vertical-align: top\">5.9186668028133975e-06</td>\n",
       "        <td style=\"padding-left: 1em; padding-right: 1em; text-align: center; vertical-align: top\">3.656898002839834e-06</td>\n",
       "    </tr>\n",
       "</table>\n",
       "<table frame=\"box\" rules=\"cols\">\n",
       "    <tr>\n",
       "        <th style=\"padding-left: 1em; padding-right: 1em; text-align: center\">x^27</th>\n",
       "        <th style=\"padding-left: 1em; padding-right: 1em; text-align: center\">x^28</th>\n",
       "        <th style=\"padding-left: 1em; padding-right: 1em; text-align: center\">x^29</th>\n",
       "        <th style=\"padding-left: 1em; padding-right: 1em; text-align: center\">x^30</th>\n",
       "    </tr>\n",
       "    <tr>\n",
       "        <td style=\"padding-left: 1em; padding-right: 1em; text-align: center; vertical-align: top\">-4.3920085794104044e+18</td>\n",
       "        <td style=\"padding-left: 1em; padding-right: 1em; text-align: center; vertical-align: top\">2.1534370778564088e+19</td>\n",
       "        <td style=\"padding-left: 1em; padding-right: 1em; text-align: center; vertical-align: top\">-1.0558474931096953e+20</td>\n",
       "        <td style=\"padding-left: 1em; padding-right: 1em; text-align: center; vertical-align: top\">5.176905051787001e+20</td>\n",
       "    </tr>\n",
       "    <tr>\n",
       "        <td style=\"padding-left: 1em; padding-right: 1em; text-align: center; vertical-align: top\">2.1914410109543475e+17</td>\n",
       "        <td style=\"padding-left: 1em; padding-right: 1em; text-align: center; vertical-align: top\">9.615658614295278e+17</td>\n",
       "        <td style=\"padding-left: 1em; padding-right: 1em; text-align: center; vertical-align: top\">4.219182269770762e+18</td>\n",
       "        <td style=\"padding-left: 1em; padding-right: 1em; text-align: center; vertical-align: top\">1.851303144132329e+19</td>\n",
       "    </tr>\n",
       "    <tr>\n",
       "        <td style=\"padding-left: 1em; padding-right: 1em; text-align: center; vertical-align: top\">1.1053601787733925e+17</td>\n",
       "        <td style=\"padding-left: 1em; padding-right: 1em; text-align: center; vertical-align: top\">4.7287319531673606e+17</td>\n",
       "        <td style=\"padding-left: 1em; padding-right: 1em; text-align: center; vertical-align: top\">2.0229520037278418e+18</td>\n",
       "        <td style=\"padding-left: 1em; padding-right: 1em; text-align: center; vertical-align: top\">8.654190700416835e+18</td>\n",
       "    </tr>\n",
       "    <tr>\n",
       "        <td style=\"padding-left: 1em; padding-right: 1em; text-align: center; vertical-align: top\">423564530373445.5</td>\n",
       "        <td style=\"padding-left: 1em; padding-right: 1em; text-align: center; vertical-align: top\">1474542678849764.8</td>\n",
       "        <td style=\"padding-left: 1em; padding-right: 1em; text-align: center; vertical-align: top\">5133281839800041.0</td>\n",
       "        <td style=\"padding-left: 1em; padding-right: 1em; text-align: center; vertical-align: top\">1.7870342327002694e+16</td>\n",
       "    </tr>\n",
       "    <tr>\n",
       "        <td style=\"padding-left: 1em; padding-right: 1em; text-align: center; vertical-align: top\">592908921101241.5</td>\n",
       "        <td style=\"padding-left: 1em; padding-right: 1em; text-align: center; vertical-align: top\">2089948998609700.8</td>\n",
       "        <td style=\"padding-left: 1em; padding-right: 1em; text-align: center; vertical-align: top\">7366876532532147.0</td>\n",
       "        <td style=\"padding-left: 1em; padding-right: 1em; text-align: center; vertical-align: top\">2.596755704645211e+16</td>\n",
       "    </tr>\n",
       "    <tr>\n",
       "        <td style=\"padding-left: 1em; padding-right: 1em; text-align: center; vertical-align: top\">47614.119601796025</td>\n",
       "        <td style=\"padding-left: 1em; padding-right: 1em; text-align: center; vertical-align: top\">70955.3637935209</td>\n",
       "        <td style=\"padding-left: 1em; padding-right: 1em; text-align: center; vertical-align: top\">105738.87941594927</td>\n",
       "        <td style=\"padding-left: 1em; padding-right: 1em; text-align: center; vertical-align: top\">157573.86083843315</td>\n",
       "    </tr>\n",
       "    <tr>\n",
       "        <td style=\"padding-left: 1em; padding-right: 1em; text-align: center; vertical-align: top\">-10194989216.612295</td>\n",
       "        <td style=\"padding-left: 1em; padding-right: 1em; text-align: center; vertical-align: top\">23936892107.18698</td>\n",
       "        <td style=\"padding-left: 1em; padding-right: 1em; text-align: center; vertical-align: top\">-56201609592.43319</td>\n",
       "        <td style=\"padding-left: 1em; padding-right: 1em; text-align: center; vertical-align: top\">131956183226.97421</td>\n",
       "    </tr>\n",
       "    <tr>\n",
       "        <td style=\"padding-left: 1em; padding-right: 1em; text-align: center; vertical-align: top\">919636.1783058335</td>\n",
       "        <td style=\"padding-left: 1em; padding-right: 1em; text-align: center; vertical-align: top\">1529293.0556037088</td>\n",
       "        <td style=\"padding-left: 1em; padding-right: 1em; text-align: center; vertical-align: top\">2543111.401104492</td>\n",
       "        <td style=\"padding-left: 1em; padding-right: 1em; text-align: center; vertical-align: top\">4229023.060511155</td>\n",
       "    </tr>\n",
       "    <tr>\n",
       "        <td style=\"padding-left: 1em; padding-right: 1em; text-align: center; vertical-align: top\">39605574455.90318</td>\n",
       "        <td style=\"padding-left: 1em; padding-right: 1em; text-align: center; vertical-align: top\">97783552239.01534</td>\n",
       "        <td style=\"padding-left: 1em; padding-right: 1em; text-align: center; vertical-align: top\">241421143862.6183</td>\n",
       "        <td style=\"padding-left: 1em; padding-right: 1em; text-align: center; vertical-align: top\">596052887928.1176</td>\n",
       "    </tr>\n",
       "    <tr>\n",
       "        <td style=\"padding-left: 1em; padding-right: 1em; text-align: center; vertical-align: top\">2.2594451501843707e-06</td>\n",
       "        <td style=\"padding-left: 1em; padding-right: 1em; text-align: center; vertical-align: top\">1.3960171661137983e-06</td>\n",
       "        <td style=\"padding-left: 1em; padding-right: 1em; text-align: center; vertical-align: top\">8.625409330805719e-07</td>\n",
       "        <td style=\"padding-left: 1em; padding-right: 1em; text-align: center; vertical-align: top\">5.329281611275384e-07</td>\n",
       "    </tr>\n",
       "</table>\n",
       "<table frame=\"box\" rules=\"cols\">\n",
       "    <tr>\n",
       "        <th style=\"padding-left: 1em; padding-right: 1em; text-align: center\">x^31</th>\n",
       "        <th style=\"padding-left: 1em; padding-right: 1em; text-align: center\">x^32</th>\n",
       "        <th style=\"padding-left: 1em; padding-right: 1em; text-align: center\">x^33</th>\n",
       "        <th style=\"padding-left: 1em; padding-right: 1em; text-align: center\">x^34</th>\n",
       "    </tr>\n",
       "    <tr>\n",
       "        <td style=\"padding-left: 1em; padding-right: 1em; text-align: center; vertical-align: top\">-2.538278121614425e+21</td>\n",
       "        <td style=\"padding-left: 1em; padding-right: 1em; text-align: center; vertical-align: top\">1.244538147448245e+22</td>\n",
       "        <td style=\"padding-left: 1em; padding-right: 1em; text-align: center; vertical-align: top\">-6.102070483390432e+22</td>\n",
       "        <td style=\"padding-left: 1em; padding-right: 1em; text-align: center; vertical-align: top\">2.991894162554242e+23</td>\n",
       "    </tr>\n",
       "    <tr>\n",
       "        <td style=\"padding-left: 1em; padding-right: 1em; text-align: center; vertical-align: top\">8.123193340164614e+19</td>\n",
       "        <td style=\"padding-left: 1em; padding-right: 1em; text-align: center; vertical-align: top\">3.5643146964254333e+20</td>\n",
       "        <td style=\"padding-left: 1em; padding-right: 1em; text-align: center; vertical-align: top\">1.5639587441971288e+21</td>\n",
       "        <td style=\"padding-left: 1em; padding-right: 1em; text-align: center; vertical-align: top\">6.862376534831961e+21</td>\n",
       "    </tr>\n",
       "    <tr>\n",
       "        <td style=\"padding-left: 1em; padding-right: 1em; text-align: center; vertical-align: top\">3.702263649417617e+19</td>\n",
       "        <td style=\"padding-left: 1em; padding-right: 1em; text-align: center; vertical-align: top\">1.5838287604569267e+20</td>\n",
       "        <td style=\"padding-left: 1em; padding-right: 1em; text-align: center; vertical-align: top\">6.775621025383011e+20</td>\n",
       "        <td style=\"padding-left: 1em; padding-right: 1em; text-align: center; vertical-align: top\">2.898611354068845e+21</td>\n",
       "    </tr>\n",
       "    <tr>\n",
       "        <td style=\"padding-left: 1em; padding-right: 1em; text-align: center; vertical-align: top\">6.221149448842728e+16</td>\n",
       "        <td style=\"padding-left: 1em; padding-right: 1em; text-align: center; vertical-align: top\">2.165750367655525e+17</td>\n",
       "        <td style=\"padding-left: 1em; padding-right: 1em; text-align: center; vertical-align: top\">7.539562734459907e+17</td>\n",
       "        <td style=\"padding-left: 1em; padding-right: 1em; text-align: center; vertical-align: top\">2.624725687494288e+18</td>\n",
       "    </tr>\n",
       "    <tr>\n",
       "        <td style=\"padding-left: 1em; padding-right: 1em; text-align: center; vertical-align: top\">9.153323202621522e+16</td>\n",
       "        <td style=\"padding-left: 1em; padding-right: 1em; text-align: center; vertical-align: top\">3.226461599825257e+17</td>\n",
       "        <td style=\"padding-left: 1em; padding-right: 1em; text-align: center; vertical-align: top\">1.1372978124672255e+18</td>\n",
       "        <td style=\"padding-left: 1em; padding-right: 1em; text-align: center; vertical-align: top\">4.0088693890322104e+18</td>\n",
       "    </tr>\n",
       "    <tr>\n",
       "        <td style=\"padding-left: 1em; padding-right: 1em; text-align: center; vertical-align: top\">234819.2240798866</td>\n",
       "        <td style=\"padding-left: 1em; padding-right: 1em; text-align: center; vertical-align: top\">349931.566721065</td>\n",
       "        <td style=\"padding-left: 1em; padding-right: 1em; text-align: center; vertical-align: top\">521473.9204921332</td>\n",
       "        <td style=\"padding-left: 1em; padding-right: 1em; text-align: center; vertical-align: top\">777109.2282457575</td>\n",
       "    </tr>\n",
       "    <tr>\n",
       "        <td style=\"padding-left: 1em; padding-right: 1em; text-align: center; vertical-align: top\">-309820918263.792</td>\n",
       "        <td style=\"padding-left: 1em; padding-right: 1em; text-align: center; vertical-align: top\">727430871721.3442</td>\n",
       "        <td style=\"padding-left: 1em; padding-right: 1em; text-align: center; vertical-align: top\">-1707940432487.9502</td>\n",
       "        <td style=\"padding-left: 1em; padding-right: 1em; text-align: center; vertical-align: top\">4010086228570.953</td>\n",
       "    </tr>\n",
       "    <tr>\n",
       "        <td style=\"padding-left: 1em; padding-right: 1em; text-align: center; vertical-align: top\">7032580.65634392</td>\n",
       "        <td style=\"padding-left: 1em; padding-right: 1em; text-align: center; vertical-align: top\">11694708.20573035</td>\n",
       "        <td style=\"padding-left: 1em; padding-right: 1em; text-align: center; vertical-align: top\">19447512.47094526</td>\n",
       "        <td style=\"padding-left: 1em; padding-right: 1em; text-align: center; vertical-align: top\">32339904.053548977</td>\n",
       "    </tr>\n",
       "    <tr>\n",
       "        <td style=\"padding-left: 1em; padding-right: 1em; text-align: center; vertical-align: top\">1471615284076.4521</td>\n",
       "        <td style=\"padding-left: 1em; padding-right: 1em; text-align: center; vertical-align: top\">3633321116613.0425</td>\n",
       "        <td style=\"padding-left: 1em; padding-right: 1em; text-align: center; vertical-align: top\">8970430301497.494</td>\n",
       "        <td style=\"padding-left: 1em; padding-right: 1em; text-align: center; vertical-align: top\">22147401017237.008</td>\n",
       "    </tr>\n",
       "    <tr>\n",
       "        <td style=\"padding-left: 1em; padding-right: 1em; text-align: center; vertical-align: top\">3.292741411221225e-07</td>\n",
       "        <td style=\"padding-left: 1em; padding-right: 1em; text-align: center; vertical-align: top\">2.0344479410192853e-07</td>\n",
       "        <td style=\"padding-left: 1em; padding-right: 1em; text-align: center; vertical-align: top\">1.2570007503815884e-07</td>\n",
       "        <td style=\"padding-left: 1em; padding-right: 1em; text-align: center; vertical-align: top\">7.766484728374272e-08</td>\n",
       "    </tr>\n",
       "</table>\n",
       "<table frame=\"box\" rules=\"cols\">\n",
       "    <tr>\n",
       "        <th style=\"padding-left: 1em; padding-right: 1em; text-align: center\">x^35</th>\n",
       "        <th style=\"padding-left: 1em; padding-right: 1em; text-align: center\">x^36</th>\n",
       "        <th style=\"padding-left: 1em; padding-right: 1em; text-align: center\">x^37</th>\n",
       "        <th style=\"padding-left: 1em; padding-right: 1em; text-align: center\">x^38</th>\n",
       "    </tr>\n",
       "    <tr>\n",
       "        <td style=\"padding-left: 1em; padding-right: 1em; text-align: center; vertical-align: top\">-1.4669497352237324e+24</td>\n",
       "        <td style=\"padding-left: 1em; padding-right: 1em; text-align: center; vertical-align: top\">7.192572359698119e+24</td>\n",
       "        <td style=\"padding-left: 1em; padding-right: 1em; text-align: center; vertical-align: top\">-3.5265759901175666e+25</td>\n",
       "        <td style=\"padding-left: 1em; padding-right: 1em; text-align: center; vertical-align: top\">1.7291085292043806e+26</td>\n",
       "    </tr>\n",
       "    <tr>\n",
       "        <td style=\"padding-left: 1em; padding-right: 1em; text-align: center; vertical-align: top\">3.0110904063513193e+22</td>\n",
       "        <td style=\"padding-left: 1em; padding-right: 1em; text-align: center; vertical-align: top\">1.321213633382035e+23</td>\n",
       "        <td style=\"padding-left: 1em; padding-right: 1em; text-align: center; vertical-align: top\">5.79725358412533e+23</td>\n",
       "        <td style=\"padding-left: 1em; padding-right: 1em; text-align: center; vertical-align: top\">2.543733145761147e+24</td>\n",
       "    </tr>\n",
       "    <tr>\n",
       "        <td style=\"padding-left: 1em; padding-right: 1em; text-align: center; vertical-align: top\">1.2400262279223149e+22</td>\n",
       "        <td style=\"padding-left: 1em; padding-right: 1em; text-align: center; vertical-align: top\">5.30483344645977e+22</td>\n",
       "        <td style=\"padding-left: 1em; padding-right: 1em; text-align: center; vertical-align: top\">2.269408280325602e+23</td>\n",
       "        <td style=\"padding-left: 1em; padding-right: 1em; text-align: center; vertical-align: top\">9.708530898830479e+23</td>\n",
       "    </tr>\n",
       "    <tr>\n",
       "        <td style=\"padding-left: 1em; padding-right: 1em; text-align: center; vertical-align: top\">9.137379947917983e+18</td>\n",
       "        <td style=\"padding-left: 1em; padding-right: 1em; text-align: center; vertical-align: top\">3.180969070802959e+19</td>\n",
       "        <td style=\"padding-left: 1em; padding-right: 1em; text-align: center; vertical-align: top\">1.1073813595450442e+20</td>\n",
       "        <td style=\"padding-left: 1em; padding-right: 1em; text-align: center; vertical-align: top\">3.855093992342033e+20</td>\n",
       "    </tr>\n",
       "    <tr>\n",
       "        <td style=\"padding-left: 1em; padding-right: 1em; text-align: center; vertical-align: top\">1.4130893071407028e+19</td>\n",
       "        <td style=\"padding-left: 1em; padding-right: 1em; text-align: center; vertical-align: top\">4.981008848575754e+19</td>\n",
       "        <td style=\"padding-left: 1em; padding-right: 1em; text-align: center; vertical-align: top\">1.75575945725556e+20</td>\n",
       "        <td style=\"padding-left: 1em; padding-right: 1em; text-align: center; vertical-align: top\">6.188889370521373e+20</td>\n",
       "    </tr>\n",
       "    <tr>\n",
       "        <td style=\"padding-left: 1em; padding-right: 1em; text-align: center; vertical-align: top\">1158061.2738117306</td>\n",
       "        <td style=\"padding-left: 1em; padding-right: 1em; text-align: center; vertical-align: top\">1725762.4348765663</td>\n",
       "        <td style=\"padding-left: 1em; padding-right: 1em; text-align: center; vertical-align: top\">2571760.2764042336</td>\n",
       "        <td style=\"padding-left: 1em; padding-right: 1em; text-align: center; vertical-align: top\">3832480.52317458</td>\n",
       "    </tr>\n",
       "    <tr>\n",
       "        <td style=\"padding-left: 1em; padding-right: 1em; text-align: center; vertical-align: top\">-9415311713857.365</td>\n",
       "        <td style=\"padding-left: 1em; padding-right: 1em; text-align: center; vertical-align: top\">22106281415472.363</td>\n",
       "        <td style=\"padding-left: 1em; padding-right: 1em; text-align: center; vertical-align: top\">-51903504936624.984</td>\n",
       "        <td style=\"padding-left: 1em; padding-right: 1em; text-align: center; vertical-align: top\">121864630874585.72</td>\n",
       "    </tr>\n",
       "    <tr>\n",
       "        <td style=\"padding-left: 1em; padding-right: 1em; text-align: center; vertical-align: top\">53779083.35347725</td>\n",
       "        <td style=\"padding-left: 1em; padding-right: 1em; text-align: center; vertical-align: top\">89430995.26675513</td>\n",
       "        <td style=\"padding-left: 1em; padding-right: 1em; text-align: center; vertical-align: top\">148717724.73015293</td>\n",
       "        <td style=\"padding-left: 1em; padding-right: 1em; text-align: center; vertical-align: top\">247307564.7088907</td>\n",
       "    </tr>\n",
       "    <tr>\n",
       "        <td style=\"padding-left: 1em; padding-right: 1em; text-align: center; vertical-align: top\">54680472990958.67</td>\n",
       "        <td style=\"padding-left: 1em; padding-right: 1em; text-align: center; vertical-align: top\">135002482873178.73</td>\n",
       "        <td style=\"padding-left: 1em; padding-right: 1em; text-align: center; vertical-align: top\">333312229850983.6</td>\n",
       "        <td style=\"padding-left: 1em; padding-right: 1em; text-align: center; vertical-align: top\">822925921092869.4</td>\n",
       "    </tr>\n",
       "    <tr>\n",
       "        <td style=\"padding-left: 1em; padding-right: 1em; text-align: center; vertical-align: top\">4.7985878304177576e-08</td>\n",
       "        <td style=\"padding-left: 1em; padding-right: 1em; text-align: center; vertical-align: top\">2.964847800718387e-08</td>\n",
       "        <td style=\"padding-left: 1em; padding-right: 1em; text-align: center; vertical-align: top\">1.831856119357387e-08</td>\n",
       "        <td style=\"padding-left: 1em; padding-right: 1em; text-align: center; vertical-align: top\">1.1318276915307475e-08</td>\n",
       "    </tr>\n",
       "</table>\n",
       "<table frame=\"box\" rules=\"cols\">\n",
       "    <tr>\n",
       "        <th style=\"padding-left: 1em; padding-right: 1em; text-align: center\">x^39</th>\n",
       "        <th style=\"padding-left: 1em; padding-right: 1em; text-align: center\">...</th>\n",
       "    </tr>\n",
       "    <tr>\n",
       "        <td style=\"padding-left: 1em; padding-right: 1em; text-align: center; vertical-align: top\">-8.477957980050966e+26</td>\n",
       "        <td style=\"padding-left: 1em; padding-right: 1em; text-align: center; vertical-align: top\">...</td>\n",
       "    </tr>\n",
       "    <tr>\n",
       "        <td style=\"padding-left: 1em; padding-right: 1em; text-align: center; vertical-align: top\">1.1161454683580414e+25</td>\n",
       "        <td style=\"padding-left: 1em; padding-right: 1em; text-align: center; vertical-align: top\">...</td>\n",
       "    </tr>\n",
       "    <tr>\n",
       "        <td style=\"padding-left: 1em; padding-right: 1em; text-align: center; vertical-align: top\">4.1533104920205414e+24</td>\n",
       "        <td style=\"padding-left: 1em; padding-right: 1em; text-align: center; vertical-align: top\">...</td>\n",
       "    </tr>\n",
       "    <tr>\n",
       "        <td style=\"padding-left: 1em; padding-right: 1em; text-align: center; vertical-align: top\">1.342062475739832e+21</td>\n",
       "        <td style=\"padding-left: 1em; padding-right: 1em; text-align: center; vertical-align: top\">...</td>\n",
       "    </tr>\n",
       "    <tr>\n",
       "        <td style=\"padding-left: 1em; padding-right: 1em; text-align: center; vertical-align: top\">2.1815261471194418e+21</td>\n",
       "        <td style=\"padding-left: 1em; padding-right: 1em; text-align: center; vertical-align: top\">...</td>\n",
       "    </tr>\n",
       "    <tr>\n",
       "        <td style=\"padding-left: 1em; padding-right: 1em; text-align: center; vertical-align: top\">5711227.090360359</td>\n",
       "        <td style=\"padding-left: 1em; padding-right: 1em; text-align: center; vertical-align: top\">...</td>\n",
       "    </tr>\n",
       "    <tr>\n",
       "        <td style=\"padding-left: 1em; padding-right: 1em; text-align: center; vertical-align: top\">-286126886350590.94</td>\n",
       "        <td style=\"padding-left: 1em; padding-right: 1em; text-align: center; vertical-align: top\">...</td>\n",
       "    </tr>\n",
       "    <tr>\n",
       "        <td style=\"padding-left: 1em; padding-right: 1em; text-align: center; vertical-align: top\">411255831.6314907</td>\n",
       "        <td style=\"padding-left: 1em; padding-right: 1em; text-align: center; vertical-align: top\">...</td>\n",
       "    </tr>\n",
       "    <tr>\n",
       "        <td style=\"padding-left: 1em; padding-right: 1em; text-align: center; vertical-align: top\">2031749845810672.8</td>\n",
       "        <td style=\"padding-left: 1em; padding-right: 1em; text-align: center; vertical-align: top\">...</td>\n",
       "    </tr>\n",
       "    <tr>\n",
       "        <td style=\"padding-left: 1em; padding-right: 1em; text-align: center; vertical-align: top\">6.993092469321258e-09</td>\n",
       "        <td style=\"padding-left: 1em; padding-right: 1em; text-align: center; vertical-align: top\">...</td>\n",
       "    </tr>\n",
       "</table>\n",
       "[40 rows x 200 columns]<br/>Note: Only the head of the SFrame is printed.<br/>You can use print_rows(num_rows=m, num_columns=n) to print more rows and columns.\n",
       "</div>"
      ],
      "text/plain": [
       "Columns:\n",
       "\tx\tfloat\n",
       "\ty\tfloat\n",
       "\tx^2\tfloat\n",
       "\tx^3\tfloat\n",
       "\tx^4\tfloat\n",
       "\tx^5\tfloat\n",
       "\tx^6\tfloat\n",
       "\tx^7\tfloat\n",
       "\tx^8\tfloat\n",
       "\tx^9\tfloat\n",
       "\tx^10\tfloat\n",
       "\tx^11\tfloat\n",
       "\tx^12\tfloat\n",
       "\tx^13\tfloat\n",
       "\tx^14\tfloat\n",
       "\tx^15\tfloat\n",
       "\tx^16\tfloat\n",
       "\tx^17\tfloat\n",
       "\tx^18\tfloat\n",
       "\tx^19\tfloat\n",
       "\tx^20\tfloat\n",
       "\tx^21\tfloat\n",
       "\tx^22\tfloat\n",
       "\tx^23\tfloat\n",
       "\tx^24\tfloat\n",
       "\tx^25\tfloat\n",
       "\tx^26\tfloat\n",
       "\tx^27\tfloat\n",
       "\tx^28\tfloat\n",
       "\tx^29\tfloat\n",
       "\tx^30\tfloat\n",
       "\tx^31\tfloat\n",
       "\tx^32\tfloat\n",
       "\tx^33\tfloat\n",
       "\tx^34\tfloat\n",
       "\tx^35\tfloat\n",
       "\tx^36\tfloat\n",
       "\tx^37\tfloat\n",
       "\tx^38\tfloat\n",
       "\tx^39\tfloat\n",
       "\tx^40\tfloat\n",
       "\tx^41\tfloat\n",
       "\tx^42\tfloat\n",
       "\tx^43\tfloat\n",
       "\tx^44\tfloat\n",
       "\tx^45\tfloat\n",
       "\tx^46\tfloat\n",
       "\tx^47\tfloat\n",
       "\tx^48\tfloat\n",
       "\tx^49\tfloat\n",
       "\tx^50\tfloat\n",
       "\tx^51\tfloat\n",
       "\tx^52\tfloat\n",
       "\tx^53\tfloat\n",
       "\tx^54\tfloat\n",
       "\tx^55\tfloat\n",
       "\tx^56\tfloat\n",
       "\tx^57\tfloat\n",
       "\tx^58\tfloat\n",
       "\tx^59\tfloat\n",
       "\tx^60\tfloat\n",
       "\tx^61\tfloat\n",
       "\tx^62\tfloat\n",
       "\tx^63\tfloat\n",
       "\tx^64\tfloat\n",
       "\tx^65\tfloat\n",
       "\tx^66\tfloat\n",
       "\tx^67\tfloat\n",
       "\tx^68\tfloat\n",
       "\tx^69\tfloat\n",
       "\tx^70\tfloat\n",
       "\tx^71\tfloat\n",
       "\tx^72\tfloat\n",
       "\tx^73\tfloat\n",
       "\tx^74\tfloat\n",
       "\tx^75\tfloat\n",
       "\tx^76\tfloat\n",
       "\tx^77\tfloat\n",
       "\tx^78\tfloat\n",
       "\tx^79\tfloat\n",
       "\tx^80\tfloat\n",
       "\tx^81\tfloat\n",
       "\tx^82\tfloat\n",
       "\tx^83\tfloat\n",
       "\tx^84\tfloat\n",
       "\tx^85\tfloat\n",
       "\tx^86\tfloat\n",
       "\tx^87\tfloat\n",
       "\tx^88\tfloat\n",
       "\tx^89\tfloat\n",
       "\tx^90\tfloat\n",
       "\tx^91\tfloat\n",
       "\tx^92\tfloat\n",
       "\tx^93\tfloat\n",
       "\tx^94\tfloat\n",
       "\tx^95\tfloat\n",
       "\tx^96\tfloat\n",
       "\tx^97\tfloat\n",
       "\tx^98\tfloat\n",
       "\tx^99\tfloat\n",
       "\tx^100\tfloat\n",
       "\tx^101\tfloat\n",
       "\tx^102\tfloat\n",
       "\tx^103\tfloat\n",
       "\tx^104\tfloat\n",
       "\tx^105\tfloat\n",
       "\tx^106\tfloat\n",
       "\tx^107\tfloat\n",
       "\tx^108\tfloat\n",
       "\tx^109\tfloat\n",
       "\tx^110\tfloat\n",
       "\tx^111\tfloat\n",
       "\tx^112\tfloat\n",
       "\tx^113\tfloat\n",
       "\tx^114\tfloat\n",
       "\tx^115\tfloat\n",
       "\tx^116\tfloat\n",
       "\tx^117\tfloat\n",
       "\tx^118\tfloat\n",
       "\tx^119\tfloat\n",
       "\tx^120\tfloat\n",
       "\tx^121\tfloat\n",
       "\tx^122\tfloat\n",
       "\tx^123\tfloat\n",
       "\tx^124\tfloat\n",
       "\tx^125\tfloat\n",
       "\tx^126\tfloat\n",
       "\tx^127\tfloat\n",
       "\tx^128\tfloat\n",
       "\tx^129\tfloat\n",
       "\tx^130\tfloat\n",
       "\tx^131\tfloat\n",
       "\tx^132\tfloat\n",
       "\tx^133\tfloat\n",
       "\tx^134\tfloat\n",
       "\tx^135\tfloat\n",
       "\tx^136\tfloat\n",
       "\tx^137\tfloat\n",
       "\tx^138\tfloat\n",
       "\tx^139\tfloat\n",
       "\tx^140\tfloat\n",
       "\tx^141\tfloat\n",
       "\tx^142\tfloat\n",
       "\tx^143\tfloat\n",
       "\tx^144\tfloat\n",
       "\tx^145\tfloat\n",
       "\tx^146\tfloat\n",
       "\tx^147\tfloat\n",
       "\tx^148\tfloat\n",
       "\tx^149\tfloat\n",
       "\tx^150\tfloat\n",
       "\tx^151\tfloat\n",
       "\tx^152\tfloat\n",
       "\tx^153\tfloat\n",
       "\tx^154\tfloat\n",
       "\tx^155\tfloat\n",
       "\tx^156\tfloat\n",
       "\tx^157\tfloat\n",
       "\tx^158\tfloat\n",
       "\tx^159\tfloat\n",
       "\tx^160\tfloat\n",
       "\tx^161\tfloat\n",
       "\tx^162\tfloat\n",
       "\tx^163\tfloat\n",
       "\tx^164\tfloat\n",
       "\tx^165\tfloat\n",
       "\tx^166\tfloat\n",
       "\tx^167\tfloat\n",
       "\tx^168\tfloat\n",
       "\tx^169\tfloat\n",
       "\tx^170\tfloat\n",
       "\tx^171\tfloat\n",
       "\tx^172\tfloat\n",
       "\tx^173\tfloat\n",
       "\tx^174\tfloat\n",
       "\tx^175\tfloat\n",
       "\tx^176\tfloat\n",
       "\tx^177\tfloat\n",
       "\tx^178\tfloat\n",
       "\tx^179\tfloat\n",
       "\tx^180\tfloat\n",
       "\tx^181\tfloat\n",
       "\tx^182\tfloat\n",
       "\tx^183\tfloat\n",
       "\tx^184\tfloat\n",
       "\tx^185\tfloat\n",
       "\tx^186\tfloat\n",
       "\tx^187\tfloat\n",
       "\tx^188\tfloat\n",
       "\tx^189\tfloat\n",
       "\tx^190\tfloat\n",
       "\tx^191\tfloat\n",
       "\tx^192\tfloat\n",
       "\tx^193\tfloat\n",
       "\tx^194\tfloat\n",
       "\tx^195\tfloat\n",
       "\tx^196\tfloat\n",
       "\tx^197\tfloat\n",
       "\tx^198\tfloat\n",
       "\tx^199\tfloat\n",
       "\n",
       "Rows: 40\n",
       "\n",
       "Data:\n",
       "+---------------------+---------------------+---------------------+\n",
       "|          x          |          y          |         x^2         |\n",
       "+---------------------+---------------------+---------------------+\n",
       "|  -4.903080308066002 | -13.293012485799926 |  24.040196507344604 |\n",
       "|  4.387824525611013  |  3.4045389398147874 |  19.25300406755351  |\n",
       "|  4.2780010027272635 |  1.425460286302196  |  18.30129257933547  |\n",
       "|  3.481270439594411  |  6.572817667952772  |  12.119243873593863 |\n",
       "|  3.5249073242614166 |  4.070557121881489  |  12.42497164463178  |\n",
       "|  1.4902168597662033 |  10.378238102195187 |  2.2207462891314442 |\n",
       "| -2.3479075454226916 |  6.193663085352371  |  5.512669841852809  |\n",
       "|  1.6629326810750245 |  14.589634602531518 |  2.765345101787369  |\n",
       "|  2.468934072598479  |  9.564130645525182  |  6.095635454837712  |\n",
       "|  0.6178584003244705 |  16.09458254853782  | 0.38174900285151364 |\n",
       "+---------------------+---------------------+---------------------+\n",
       "+---------------------+---------------------+---------------------+\n",
       "|         x^3         |         x^4         |         x^5         |\n",
       "+---------------------+---------------------+---------------------+\n",
       "|  -117.8710140971984 |  577.9310481117436  | -2833.6423414166356 |\n",
       "|  84.47880343929987  |  370.67816562523194 |  1626.4707462388938 |\n",
       "|  78.29294800560217  |  334.9373100744396  |  1432.862148349225  |\n",
       "|  42.19036544737798  |  146.87607206764238 |  511.3153279728218  |\n",
       "|  43.79687355390298  |  154.37992036990374 |   544.174912030768  |\n",
       "|   3.30939356132691  |   4.93171408069108  |  7.349323470592229  |\n",
       "| -12.943239117110327 |  30.389528785273473 |  -71.35180393678367 |\n",
       "|  4.598582744212956  |  7.647133531979394  |  12.716668266873215 |\n",
       "|  15.049722068588157 |  37.15677159827457  |  91.73761942673953  |\n",
       "| 0.23586682822729793 | 0.14573230117812497 | 0.09004192648152023 |\n",
       "+---------------------+---------------------+---------------------+\n",
       "+----------------------+---------------------+----------------------+\n",
       "|         x^6          |         x^7         |         x^8          |\n",
       "+----------------------+---------------------+----------------------+\n",
       "|  13893.575964301945  |  -68121.31871918798 |  334004.29637153854  |\n",
       "|  7136.668230535864   |  31314.44789309421  |  137402.30247128688  |\n",
       "|  6129.785707407926   |  26223.229402794354 |  112183.0016799013   |\n",
       "|  1780.0269365833058  |  6196.755156009258  |  21572.580546019282  |\n",
       "|  1918.1661330965662  |  6761.357851702285  |  23833.159813417824  |\n",
       "|  10.952085743752006  |  16.32098282494432  |  24.32180377368666   |\n",
       "|  167.5274388426949   | -393.33893772410187 |  923.5234597909649   |\n",
       "|  21.146963255373162  |  35.16597630285272  |  58.478651255923644  |\n",
       "|  226.49413434174937  |  559.1990855200423  |  1380.6256756063435  |\n",
       "| 0.055633160658005665 | 0.03437341564914965 | 0.021237903606671722 |\n",
       "+----------------------+---------------------+----------------------+\n",
       "+----------------------+----------------------+---------------------+\n",
       "|         x^9          |         x^10         |         x^11        |\n",
       "+----------------------+----------------------+---------------------+\n",
       "| -1637649.8883487314  |  8029528.919069152   |  -39369425.12613445 |\n",
       "|  602897.1926589352   |  2645407.088370904   |  11607582.10257907  |\n",
       "|  479918.99367557204  |  2053093.9361719564  |  8783137.917636894  |\n",
       "|  75099.98696062638   |  261443.3646199543   |  910155.0568795502  |\n",
       "|  84009.67958660935   |  296126.3348836941   |  1043817.8867382223 |\n",
       "|  36.24476204347313   |  54.012555475397804  |  80.49042080849517  |\n",
       "| -2168.3476996180766  |  5091.0799250332175  | -11953.384970335483 |\n",
       "|  97.24606031866445   |  161.71365180970022  |  268.9189165703378  |\n",
       "|  3408.6737720087963  |  8415.790818085297   |  20778.03269863222  |\n",
       "| 0.013122017148663491 | 0.008107548524503494 | 0.00500931696190275 |\n",
       "+----------------------+----------------------+---------------------+\n",
       "+-----------------------+-----------------------+-----------------------+\n",
       "|          x^12         |          x^13         |          x^14         |\n",
       "+-----------------------+-----------------------+-----------------------+\n",
       "|   193031453.0758287   |   -946448716.4134623  |   4640514064.041191   |\n",
       "|   50932033.43273989   |   223480825.43541616  |   980594646.8493124   |\n",
       "|   37574272.818742484  |   160742776.79532808  |   687657760.3115783   |\n",
       "|   3168495.8949621483  |   11030391.097107964  |   38399774.46352732   |\n",
       "|   3679361.314158634   |   12969407.64488188   |   45715959.998776145  |\n",
       "|   119.94818213849594  |   178.74880332109402  |   266.37448037212744  |\n",
       "|   28065.442765192878  |   -65895.06483402505  |   154715.5199299249   |\n",
       "|   447.1940549241026   |   743.6536087157497   |   1236.6458893327988  |\n",
       "|   51299.59289121842   |   126655.31279955988  |   312703.6172464517   |\n",
       "| 0.0030950485647994693 | 0.0019123017551735484 | 0.0011815317033892058 |\n",
       "+-----------------------+-----------------------+-----------------------+\n",
       "+-----------------------+------------------------+------------------------+\n",
       "|          x^15         |          x^16          |          x^17          |\n",
       "+-----------------------+------------------------+------------------------+\n",
       "|  -22752813126.703697  |   111558869994.64655   |   -546982098660.8467   |\n",
       "|   4302677241.128283   |   18879392724.411007   |   82839462424.81273    |\n",
       "|   2941800588.1461163  |   12585025865.912739   |   53838753273.72324    |\n",
       "|   133679999.72696999  |   465376231.4144895    |   1620100517.7131102   |\n",
       "|    161144522.235328   |   568019506.6919143    |   2002216119.4616854   |\n",
       "|   396.9557416620059   |   591.5501388057187    |   881.5379902453197    |\n",
       "|   -363257.7366374655  |    852895.580784274    |   -2002519.969581066   |\n",
       "|   2056.458864288599   |    3419.75265271194    |   5686.818447387694    |\n",
       "|    772044.615244558   |   1906127.2561434724   |   4706102.529401268    |\n",
       "| 0.0007300192881887015 | 0.00045104854960627966 | 0.00027868413532840854 |\n",
       "+-----------------------+------------------------+------------------------+\n",
       "+------------------------+------------------------+-----+\n",
       "|          x^18          |          x^19          | ... |\n",
       "+------------------------+------------------------+-----+\n",
       "|   2681897156808.6123   |  -13149557137806.506   | ... |\n",
       "|   363485024916.02527   |   1594908507018.8657   | ... |\n",
       "|   230322240490.57376   |   985318775769.0645    | ... |\n",
       "|   5640008041.486252    |   19634393273.90086    | ... |\n",
       "|   7057626264.244766    |   24877478510.73612    | ... |\n",
       "|   1313.6827755879904   |   1957.672220565685    | ... |\n",
       "|   4701731.746439003    |  -11039231.444017546   | ... |\n",
       "|   9456.796247501325    |   15726.015538237609   | ... |\n",
       "|   11619056.883980677   |   28686685.432319805   | ... |\n",
       "| 0.00017218733404981875 | 0.00010638739077215623 | ... |\n",
       "+------------------------+------------------------+-----+\n",
       "[40 rows x 200 columns]\n",
       "Note: Only the head of the SFrame is printed.\n",
       "You can use print_rows(num_rows=m, num_columns=n) to print more rows and columns."
      ]
     },
     "execution_count": 7,
     "metadata": {},
     "output_type": "execute_result"
    }
   ],
   "source": [
    "for i in range(2, 200):\n",
    "    string = f'x^{i}'\n",
    "    # For each data in column x raise it to i\n",
    "    data[string] = data['x'].apply(lambda x: x**i)\n",
    "\n",
    "data\n"
   ]
  },
  {
   "cell_type": "code",
   "execution_count": 8,
   "metadata": {},
   "outputs": [],
   "source": [
    "# 80% are training data while 20% is the test data\n",
    "train, test = data.random_split(.8)"
   ]
  },
  {
   "cell_type": "code",
   "execution_count": 9,
   "metadata": {},
   "outputs": [
    {
     "data": {
      "text/html": [
       "<pre>Linear regression:</pre>"
      ],
      "text/plain": [
       "Linear regression:"
      ]
     },
     "metadata": {},
     "output_type": "display_data"
    },
    {
     "data": {
      "text/html": [
       "<pre>--------------------------------------------------------</pre>"
      ],
      "text/plain": [
       "--------------------------------------------------------"
      ]
     },
     "metadata": {},
     "output_type": "display_data"
    },
    {
     "data": {
      "text/html": [
       "<pre>Number of examples          : 30</pre>"
      ],
      "text/plain": [
       "Number of examples          : 30"
      ]
     },
     "metadata": {},
     "output_type": "display_data"
    },
    {
     "data": {
      "text/html": [
       "<pre>Number of features          : 199</pre>"
      ],
      "text/plain": [
       "Number of features          : 199"
      ]
     },
     "metadata": {},
     "output_type": "display_data"
    },
    {
     "data": {
      "text/html": [
       "<pre>Number of unpacked features : 199</pre>"
      ],
      "text/plain": [
       "Number of unpacked features : 199"
      ]
     },
     "metadata": {},
     "output_type": "display_data"
    },
    {
     "data": {
      "text/html": [
       "<pre>Number of coefficients    : 200</pre>"
      ],
      "text/plain": [
       "Number of coefficients    : 200"
      ]
     },
     "metadata": {},
     "output_type": "display_data"
    },
    {
     "data": {
      "text/html": [
       "<pre>Starting Newton Method</pre>"
      ],
      "text/plain": [
       "Starting Newton Method"
      ]
     },
     "metadata": {},
     "output_type": "display_data"
    },
    {
     "data": {
      "text/html": [
       "<pre>--------------------------------------------------------</pre>"
      ],
      "text/plain": [
       "--------------------------------------------------------"
      ]
     },
     "metadata": {},
     "output_type": "display_data"
    },
    {
     "data": {
      "text/html": [
       "<pre>+-----------+----------+--------------+--------------------+---------------------------------+</pre>"
      ],
      "text/plain": [
       "+-----------+----------+--------------+--------------------+---------------------------------+"
      ]
     },
     "metadata": {},
     "output_type": "display_data"
    },
    {
     "data": {
      "text/html": [
       "<pre>| Iteration | Passes   | Elapsed Time | Training Max Error | Training Root-Mean-Square Error |</pre>"
      ],
      "text/plain": [
       "| Iteration | Passes   | Elapsed Time | Training Max Error | Training Root-Mean-Square Error |"
      ]
     },
     "metadata": {},
     "output_type": "display_data"
    },
    {
     "data": {
      "text/html": [
       "<pre>+-----------+----------+--------------+--------------------+---------------------------------+</pre>"
      ],
      "text/plain": [
       "+-----------+----------+--------------+--------------------+---------------------------------+"
      ]
     },
     "metadata": {},
     "output_type": "display_data"
    },
    {
     "data": {
      "text/html": [
       "<pre>| 1         | 2        | 1.013960     | 4.003260           | 1.343751                        |</pre>"
      ],
      "text/plain": [
       "| 1         | 2        | 1.013960     | 4.003260           | 1.343751                        |"
      ]
     },
     "metadata": {},
     "output_type": "display_data"
    },
    {
     "data": {
      "text/html": [
       "<pre>+-----------+----------+--------------+--------------------+---------------------------------+</pre>"
      ],
      "text/plain": [
       "+-----------+----------+--------------+--------------------+---------------------------------+"
      ]
     },
     "metadata": {},
     "output_type": "display_data"
    },
    {
     "data": {
      "text/html": [
       "<pre>SUCCESS: Optimal solution found.</pre>"
      ],
      "text/plain": [
       "SUCCESS: Optimal solution found."
      ]
     },
     "metadata": {},
     "output_type": "display_data"
    },
    {
     "data": {
      "text/html": [
       "<pre></pre>"
      ],
      "text/plain": []
     },
     "metadata": {},
     "output_type": "display_data"
    },
    {
     "data": {
      "text/html": [
       "<pre>Linear regression:</pre>"
      ],
      "text/plain": [
       "Linear regression:"
      ]
     },
     "metadata": {},
     "output_type": "display_data"
    },
    {
     "data": {
      "text/html": [
       "<pre>--------------------------------------------------------</pre>"
      ],
      "text/plain": [
       "--------------------------------------------------------"
      ]
     },
     "metadata": {},
     "output_type": "display_data"
    },
    {
     "data": {
      "text/html": [
       "<pre>Number of examples          : 30</pre>"
      ],
      "text/plain": [
       "Number of examples          : 30"
      ]
     },
     "metadata": {},
     "output_type": "display_data"
    },
    {
     "data": {
      "text/html": [
       "<pre>Number of features          : 199</pre>"
      ],
      "text/plain": [
       "Number of features          : 199"
      ]
     },
     "metadata": {},
     "output_type": "display_data"
    },
    {
     "data": {
      "text/html": [
       "<pre>Number of unpacked features : 199</pre>"
      ],
      "text/plain": [
       "Number of unpacked features : 199"
      ]
     },
     "metadata": {},
     "output_type": "display_data"
    },
    {
     "data": {
      "text/html": [
       "<pre>Number of coefficients    : 200</pre>"
      ],
      "text/plain": [
       "Number of coefficients    : 200"
      ]
     },
     "metadata": {},
     "output_type": "display_data"
    },
    {
     "data": {
      "text/html": [
       "<pre>Starting Accelerated Gradient (FISTA)</pre>"
      ],
      "text/plain": [
       "Starting Accelerated Gradient (FISTA)"
      ]
     },
     "metadata": {},
     "output_type": "display_data"
    },
    {
     "data": {
      "text/html": [
       "<pre>--------------------------------------------------------</pre>"
      ],
      "text/plain": [
       "--------------------------------------------------------"
      ]
     },
     "metadata": {},
     "output_type": "display_data"
    },
    {
     "data": {
      "text/html": [
       "<pre>Tuning step size. First iteration could take longer than subsequent iterations.</pre>"
      ],
      "text/plain": [
       "Tuning step size. First iteration could take longer than subsequent iterations."
      ]
     },
     "metadata": {},
     "output_type": "display_data"
    },
    {
     "data": {
      "text/html": [
       "<pre>+-----------+----------+-----------+--------------+--------------------+---------------------------------+</pre>"
      ],
      "text/plain": [
       "+-----------+----------+-----------+--------------+--------------------+---------------------------------+"
      ]
     },
     "metadata": {},
     "output_type": "display_data"
    },
    {
     "data": {
      "text/html": [
       "<pre>| Iteration | Passes   | Step size | Elapsed Time | Training Max Error | Training Root-Mean-Square Error |</pre>"
      ],
      "text/plain": [
       "| Iteration | Passes   | Step size | Elapsed Time | Training Max Error | Training Root-Mean-Square Error |"
      ]
     },
     "metadata": {},
     "output_type": "display_data"
    },
    {
     "data": {
      "text/html": [
       "<pre>+-----------+----------+-----------+--------------+--------------------+---------------------------------+</pre>"
      ],
      "text/plain": [
       "+-----------+----------+-----------+--------------+--------------------+---------------------------------+"
      ]
     },
     "metadata": {},
     "output_type": "display_data"
    },
    {
     "data": {
      "text/html": [
       "<pre>| 0         | 1        | 1.000000  | 0.002007     | 18.231037          | 11.177744                       |</pre>"
      ],
      "text/plain": [
       "| 0         | 1        | 1.000000  | 0.002007     | 18.231037          | 11.177744                       |"
      ]
     },
     "metadata": {},
     "output_type": "display_data"
    },
    {
     "data": {
      "text/html": [
       "<pre>| 1         | 2        | 0.000089  | 0.017422     | 18.194962          | 10.583209                       |</pre>"
      ],
      "text/plain": [
       "| 1         | 2        | 0.000089  | 0.017422     | 18.194962          | 10.583209                       |"
      ]
     },
     "metadata": {},
     "output_type": "display_data"
    },
    {
     "data": {
      "text/html": [
       "<pre>| 2         | 3        | 0.000089  | 0.019233     | 18.154576          | 10.532850                       |</pre>"
      ],
      "text/plain": [
       "| 2         | 3        | 0.000089  | 0.019233     | 18.154576          | 10.532850                       |"
      ]
     },
     "metadata": {},
     "output_type": "display_data"
    },
    {
     "data": {
      "text/html": [
       "<pre>| 3         | 4        | 0.000089  | 0.021584     | 18.102261          | 10.480683                       |</pre>"
      ],
      "text/plain": [
       "| 3         | 4        | 0.000089  | 0.021584     | 18.102261          | 10.480683                       |"
      ]
     },
     "metadata": {},
     "output_type": "display_data"
    },
    {
     "data": {
      "text/html": [
       "<pre>| 4         | 5        | 0.000089  | 0.023281     | 18.038832          | 10.419532                       |</pre>"
      ],
      "text/plain": [
       "| 4         | 5        | 0.000089  | 0.023281     | 18.038832          | 10.419532                       |"
      ]
     },
     "metadata": {},
     "output_type": "display_data"
    },
    {
     "data": {
      "text/html": [
       "<pre>| 5         | 6        | 0.000089  | 0.025579     | 17.964707          | 10.349979                       |</pre>"
      ],
      "text/plain": [
       "| 5         | 6        | 0.000089  | 0.025579     | 17.964707          | 10.349979                       |"
      ]
     },
     "metadata": {},
     "output_type": "display_data"
    },
    {
     "data": {
      "text/html": [
       "<pre>| 10        | 11       | 0.000089  | 0.034133     | 17.444252          | 9.890461                        |</pre>"
      ],
      "text/plain": [
       "| 10        | 11       | 0.000089  | 0.034133     | 17.444252          | 9.890461                        |"
      ]
     },
     "metadata": {},
     "output_type": "display_data"
    },
    {
     "data": {
      "text/html": [
       "<pre>+-----------+----------+-----------+--------------+--------------------+---------------------------------+</pre>"
      ],
      "text/plain": [
       "+-----------+----------+-----------+--------------+--------------------+---------------------------------+"
      ]
     },
     "metadata": {},
     "output_type": "display_data"
    },
    {
     "data": {
      "text/html": [
       "<pre>Completed (Iteration limit reached).</pre>"
      ],
      "text/plain": [
       "Completed (Iteration limit reached)."
      ]
     },
     "metadata": {},
     "output_type": "display_data"
    },
    {
     "data": {
      "text/html": [
       "<pre>This model may not be optimal. To improve it, consider increasing `max_iterations`.</pre>"
      ],
      "text/plain": [
       "This model may not be optimal. To improve it, consider increasing `max_iterations`."
      ]
     },
     "metadata": {},
     "output_type": "display_data"
    },
    {
     "data": {
      "text/html": [
       "<pre>Linear regression:</pre>"
      ],
      "text/plain": [
       "Linear regression:"
      ]
     },
     "metadata": {},
     "output_type": "display_data"
    },
    {
     "data": {
      "text/html": [
       "<pre>--------------------------------------------------------</pre>"
      ],
      "text/plain": [
       "--------------------------------------------------------"
      ]
     },
     "metadata": {},
     "output_type": "display_data"
    },
    {
     "data": {
      "text/html": [
       "<pre>Number of examples          : 30</pre>"
      ],
      "text/plain": [
       "Number of examples          : 30"
      ]
     },
     "metadata": {},
     "output_type": "display_data"
    },
    {
     "data": {
      "text/html": [
       "<pre>Number of features          : 199</pre>"
      ],
      "text/plain": [
       "Number of features          : 199"
      ]
     },
     "metadata": {},
     "output_type": "display_data"
    },
    {
     "data": {
      "text/html": [
       "<pre>Number of unpacked features : 199</pre>"
      ],
      "text/plain": [
       "Number of unpacked features : 199"
      ]
     },
     "metadata": {},
     "output_type": "display_data"
    },
    {
     "data": {
      "text/html": [
       "<pre>Number of coefficients    : 200</pre>"
      ],
      "text/plain": [
       "Number of coefficients    : 200"
      ]
     },
     "metadata": {},
     "output_type": "display_data"
    },
    {
     "data": {
      "text/html": [
       "<pre>Starting Newton Method</pre>"
      ],
      "text/plain": [
       "Starting Newton Method"
      ]
     },
     "metadata": {},
     "output_type": "display_data"
    },
    {
     "data": {
      "text/html": [
       "<pre>--------------------------------------------------------</pre>"
      ],
      "text/plain": [
       "--------------------------------------------------------"
      ]
     },
     "metadata": {},
     "output_type": "display_data"
    },
    {
     "data": {
      "text/html": [
       "<pre>+-----------+----------+--------------+--------------------+---------------------------------+</pre>"
      ],
      "text/plain": [
       "+-----------+----------+--------------+--------------------+---------------------------------+"
      ]
     },
     "metadata": {},
     "output_type": "display_data"
    },
    {
     "data": {
      "text/html": [
       "<pre>| Iteration | Passes   | Elapsed Time | Training Max Error | Training Root-Mean-Square Error |</pre>"
      ],
      "text/plain": [
       "| Iteration | Passes   | Elapsed Time | Training Max Error | Training Root-Mean-Square Error |"
      ]
     },
     "metadata": {},
     "output_type": "display_data"
    },
    {
     "data": {
      "text/html": [
       "<pre>+-----------+----------+--------------+--------------------+---------------------------------+</pre>"
      ],
      "text/plain": [
       "+-----------+----------+--------------+--------------------+---------------------------------+"
      ]
     },
     "metadata": {},
     "output_type": "display_data"
    },
    {
     "data": {
      "text/html": [
       "<pre>| 1         | 2        | 0.005472     | 4.074194           | 1.581039                        |</pre>"
      ],
      "text/plain": [
       "| 1         | 2        | 0.005472     | 4.074194           | 1.581039                        |"
      ]
     },
     "metadata": {},
     "output_type": "display_data"
    },
    {
     "data": {
      "text/html": [
       "<pre>+-----------+----------+--------------+--------------------+---------------------------------+</pre>"
      ],
      "text/plain": [
       "+-----------+----------+--------------+--------------------+---------------------------------+"
      ]
     },
     "metadata": {},
     "output_type": "display_data"
    },
    {
     "data": {
      "text/html": [
       "<pre>SUCCESS: Optimal solution found.</pre>"
      ],
      "text/plain": [
       "SUCCESS: Optimal solution found."
      ]
     },
     "metadata": {},
     "output_type": "display_data"
    },
    {
     "data": {
      "text/html": [
       "<pre></pre>"
      ],
      "text/plain": []
     },
     "metadata": {},
     "output_type": "display_data"
    }
   ],
   "source": [
    "# L1 means getting the sum of the absolute values of the coefficients\n",
    "# 3x^3 - 2x^2 + x + 5\n",
    "# L1 = |3| + |-2| + |1| + |5| = 11\n",
    "# L1_penalty of 0.1 means how strong the L1 regularization is\n",
    "# L2 means getting the sum of the squares of the coefficients\n",
    "# 3x^3 - 2x^2 + x + 5\n",
    "# L2 = 3^2 + (-2)^2 + 1^2 + 5^2 = 39\n",
    "# L2_penalty of 0.1 means how strong the L2 regularization is\n",
    "\n",
    "model_no_reg = tc.linear_regression.create(train, target='y', l1_penalty=0.0, l2_penalty=0.0)\n",
    "model_L1_reg = tc.linear_regression.create(train, target='y', l1_penalty=0.1, l2_penalty=0.0)\n",
    "model_L2_reg = tc.linear_regression.create(train, target='y', l1_penalty=0.0, l2_penalty=0.1)"
   ]
  },
  {
   "cell_type": "code",
   "execution_count": 10,
   "metadata": {},
   "outputs": [],
   "source": [
    "def display_results(model):\n",
    "    coefs = model.coefficients\n",
    "    print(f'Training error (rmse): {model.evaluate(train)[\"rmse\"]}')\n",
    "    print(f'Testing error (rmse): {model.evaluate(test)[\"rmse\"]}')\n",
    "    plt.scatter(train['x'], train['y'], marker='o')\n",
    "    plt.scatter(test['x'], test['y'], marker='^')\n",
    "    draw_polynomial(coefs['value'])\n",
    "    plt.show()\n",
    "    print('Polynomial coefficients')\n",
    "    print(coefs['name', 'value'])"
   ]
  },
  {
   "cell_type": "code",
   "execution_count": 11,
   "metadata": {},
   "outputs": [
    {
     "name": "stdout",
     "output_type": "stream",
     "text": [
      "Training error (rmse): 1.3437511697275468\n",
      "Testing error (rmse): 6490300.574480247\n"
     ]
    },
    {
     "data": {
      "image/png": "[encoded data removed]",
      "text/plain": [
       "<Figure size 432x288 with 1 Axes>"
      ]
     },
     "metadata": {
      "needs_background": "light"
     },
     "output_type": "display_data"
    },
    {
     "name": "stdout",
     "output_type": "stream",
     "text": [
      "Polynomial coefficients\n",
      "+-------------+---------------------+\n",
      "|     name    |        value        |\n",
      "+-------------+---------------------+\n",
      "| (intercept) |  14.942942297551781 |\n",
      "|      x      |  8.814656981075235  |\n",
      "|     x^2     |  -7.775299596370242 |\n",
      "|     x^3     | -15.628214656700953 |\n",
      "|     x^4     |  20.04858227522059  |\n",
      "|     x^5     |   7.74317804211602  |\n",
      "|     x^6     | -18.882089974316845 |\n",
      "|     x^7     |  1.3290081089666972 |\n",
      "|     x^8     |  6.902294866110322  |\n",
      "|     x^9     |  -1.706330444581772 |\n",
      "+-------------+---------------------+\n",
      "[200 rows x 2 columns]\n",
      "Note: Only the head of the SFrame is printed.\n",
      "You can use print_rows(num_rows=m, num_columns=n) to print more rows and columns.\n"
     ]
    }
   ],
   "source": [
    "display_results(model_no_reg)"
   ]
  },
  {
   "cell_type": "code",
   "execution_count": 12,
   "metadata": {},
   "outputs": [
    {
     "name": "stdout",
     "output_type": "stream",
     "text": [
      "Training error (rmse): 9.890461194972916\n",
      "Testing error (rmse): 8.913027348737852\n"
     ]
    },
    {
     "data": {
      "image/png": "[encoded data removed]",
      "text/plain": [
       "<Figure size 432x288 with 1 Axes>"
      ]
     },
     "metadata": {
      "needs_background": "light"
     },
     "output_type": "display_data"
    },
    {
     "name": "stdout",
     "output_type": "stream",
     "text": [
      "Polynomial coefficients\n",
      "+-------------+-------------------------+\n",
      "|     name    |          value          |\n",
      "+-------------+-------------------------+\n",
      "| (intercept) |    0.7922384656014805   |\n",
      "|      x      |   0.07141272736134928   |\n",
      "|     x^2     |   0.005476790035627838  |\n",
      "|     x^3     |   0.00236587517510563   |\n",
      "|     x^4     | -0.00021630448064684593 |\n",
      "|     x^5     |   7.0914655079766e-05   |\n",
      "|     x^6     | -1.5084262034204007e-05 |\n",
      "|     x^7     |  2.117167016763073e-06  |\n",
      "|     x^8     |  -7.207519230572977e-07 |\n",
      "|     x^9     |   6.25138708430296e-08  |\n",
      "+-------------+-------------------------+\n",
      "[200 rows x 2 columns]\n",
      "Note: Only the head of the SFrame is printed.\n",
      "You can use print_rows(num_rows=m, num_columns=n) to print more rows and columns.\n"
     ]
    }
   ],
   "source": [
    "display_results(model_L1_reg)"
   ]
  },
  {
   "cell_type": "code",
   "execution_count": 13,
   "metadata": {},
   "outputs": [
    {
     "name": "stdout",
     "output_type": "stream",
     "text": [
      "Training error (rmse): 1.5810387476045382\n",
      "Testing error (rmse): 1.4770035424964245\n"
     ]
    },
    {
     "data": {
      "image/png": "[encoded data removed]",
      "text/plain": [
       "<Figure size 432x288 with 1 Axes>"
      ]
     },
     "metadata": {
      "needs_background": "light"
     },
     "output_type": "display_data"
    },
    {
     "name": "stdout",
     "output_type": "stream",
     "text": [
      "Polynomial coefficients\n",
      "+-------------+------------------------+\n",
      "|     name    |         value          |\n",
      "+-------------+------------------------+\n",
      "| (intercept) |   14.303905554082801   |\n",
      "|      x      |   0.8857537375598934   |\n",
      "|     x^2     |  -0.8661971228207297   |\n",
      "|     x^3     | 0.0012738598071747583  |\n",
      "|     x^4     | -0.010457058541963573  |\n",
      "|     x^5     | 0.00013361461502379095 |\n",
      "|     x^6     | 4.152705673047199e-05  |\n",
      "|     x^7     | 1.726719774660018e-05  |\n",
      "|     x^8     | 8.227365694142341e-06  |\n",
      "|     x^9     | 1.056581881650107e-06  |\n",
      "+-------------+------------------------+\n",
      "[200 rows x 2 columns]\n",
      "Note: Only the head of the SFrame is printed.\n",
      "You can use print_rows(num_rows=m, num_columns=n) to print more rows and columns.\n"
     ]
    }
   ],
   "source": [
    "display_results(model_L2_reg)"
   ]
  },
  {
   "cell_type": "code",
   "execution_count": 14,
   "metadata": {},
   "outputs": [
    {
     "data": {
      "text/html": [
       "<pre>Linear regression:</pre>"
      ],
      "text/plain": [
       "Linear regression:"
      ]
     },
     "metadata": {},
     "output_type": "display_data"
    },
    {
     "data": {
      "text/html": [
       "<pre>--------------------------------------------------------</pre>"
      ],
      "text/plain": [
       "--------------------------------------------------------"
      ]
     },
     "metadata": {},
     "output_type": "display_data"
    },
    {
     "data": {
      "text/html": [
       "<pre>Number of examples          : 4</pre>"
      ],
      "text/plain": [
       "Number of examples          : 4"
      ]
     },
     "metadata": {},
     "output_type": "display_data"
    },
    {
     "data": {
      "text/html": [
       "<pre>Number of features          : 2</pre>"
      ],
      "text/plain": [
       "Number of features          : 2"
      ]
     },
     "metadata": {},
     "output_type": "display_data"
    },
    {
     "data": {
      "text/html": [
       "<pre>Number of unpacked features : 2</pre>"
      ],
      "text/plain": [
       "Number of unpacked features : 2"
      ]
     },
     "metadata": {},
     "output_type": "display_data"
    },
    {
     "data": {
      "text/html": [
       "<pre>Number of coefficients    : 3</pre>"
      ],
      "text/plain": [
       "Number of coefficients    : 3"
      ]
     },
     "metadata": {},
     "output_type": "display_data"
    },
    {
     "data": {
      "text/html": [
       "<pre>Starting Accelerated Gradient (FISTA)</pre>"
      ],
      "text/plain": [
       "Starting Accelerated Gradient (FISTA)"
      ]
     },
     "metadata": {},
     "output_type": "display_data"
    },
    {
     "data": {
      "text/html": [
       "<pre>--------------------------------------------------------</pre>"
      ],
      "text/plain": [
       "--------------------------------------------------------"
      ]
     },
     "metadata": {},
     "output_type": "display_data"
    },
    {
     "data": {
      "text/html": [
       "<pre>Tuning step size. First iteration could take longer than subsequent iterations.</pre>"
      ],
      "text/plain": [
       "Tuning step size. First iteration could take longer than subsequent iterations."
      ]
     },
     "metadata": {},
     "output_type": "display_data"
    },
    {
     "data": {
      "text/html": [
       "<pre>+-----------+----------+-----------+--------------+--------------------+---------------------------------+</pre>"
      ],
      "text/plain": [
       "+-----------+----------+-----------+--------------+--------------------+---------------------------------+"
      ]
     },
     "metadata": {},
     "output_type": "display_data"
    },
    {
     "data": {
      "text/html": [
       "<pre>| Iteration | Passes   | Step size | Elapsed Time | Training Max Error | Training Root-Mean-Square Error |</pre>"
      ],
      "text/plain": [
       "| Iteration | Passes   | Step size | Elapsed Time | Training Max Error | Training Root-Mean-Square Error |"
      ]
     },
     "metadata": {},
     "output_type": "display_data"
    },
    {
     "data": {
      "text/html": [
       "<pre>+-----------+----------+-----------+--------------+--------------------+---------------------------------+</pre>"
      ],
      "text/plain": [
       "+-----------+----------+-----------+--------------+--------------------+---------------------------------+"
      ]
     },
     "metadata": {},
     "output_type": "display_data"
    },
    {
     "data": {
      "text/html": [
       "<pre>| 0         | 1        | 1.000000  | 0.000438     | 14.500000          | 8.007809                        |</pre>"
      ],
      "text/plain": [
       "| 0         | 1        | 1.000000  | 0.000438     | 14.500000          | 8.007809                        |"
      ]
     },
     "metadata": {},
     "output_type": "display_data"
    },
    {
     "data": {
      "text/html": [
       "<pre>| 1         | 2        | 0.039018  | 0.005986     | 5.539355           | 3.001044                        |</pre>"
      ],
      "text/plain": [
       "| 1         | 2        | 0.039018  | 0.005986     | 5.539355           | 3.001044                        |"
      ]
     },
     "metadata": {},
     "output_type": "display_data"
    },
    {
     "data": {
      "text/html": [
       "<pre>| 2         | 3        | 0.039018  | 0.007725     | 3.835895           | 2.582682                        |</pre>"
      ],
      "text/plain": [
       "| 2         | 3        | 0.039018  | 0.007725     | 3.835895           | 2.582682                        |"
      ]
     },
     "metadata": {},
     "output_type": "display_data"
    },
    {
     "data": {
      "text/html": [
       "<pre>| 3         | 4        | 0.039018  | 0.009182     | 3.305623           | 2.432292                        |</pre>"
      ],
      "text/plain": [
       "| 3         | 4        | 0.039018  | 0.009182     | 3.305623           | 2.432292                        |"
      ]
     },
     "metadata": {},
     "output_type": "display_data"
    },
    {
     "data": {
      "text/html": [
       "<pre>| 4         | 5        | 0.039018  | 0.010636     | 3.093393           | 2.280521                        |</pre>"
      ],
      "text/plain": [
       "| 4         | 5        | 0.039018  | 0.010636     | 3.093393           | 2.280521                        |"
      ]
     },
     "metadata": {},
     "output_type": "display_data"
    },
    {
     "data": {
      "text/html": [
       "<pre>| 5         | 6        | 0.039018  | 0.012233     | 2.901731           | 2.123942                        |</pre>"
      ],
      "text/plain": [
       "| 5         | 6        | 0.039018  | 0.012233     | 2.901731           | 2.123942                        |"
      ]
     },
     "metadata": {},
     "output_type": "display_data"
    },
    {
     "data": {
      "text/html": [
       "<pre>| 10        | 11       | 0.039018  | 0.020060     | 1.834821           | 1.515407                        |</pre>"
      ],
      "text/plain": [
       "| 10        | 11       | 0.039018  | 0.020060     | 1.834821           | 1.515407                        |"
      ]
     },
     "metadata": {},
     "output_type": "display_data"
    },
    {
     "data": {
      "text/html": [
       "<pre>+-----------+----------+-----------+--------------+--------------------+---------------------------------+</pre>"
      ],
      "text/plain": [
       "+-----------+----------+-----------+--------------+--------------------+---------------------------------+"
      ]
     },
     "metadata": {},
     "output_type": "display_data"
    },
    {
     "data": {
      "text/html": [
       "<pre>Completed (Iteration limit reached).</pre>"
      ],
      "text/plain": [
       "Completed (Iteration limit reached)."
      ]
     },
     "metadata": {},
     "output_type": "display_data"
    },
    {
     "data": {
      "text/html": [
       "<pre>This model may not be optimal. To improve it, consider increasing `max_iterations`.</pre>"
      ],
      "text/plain": [
       "This model may not be optimal. To improve it, consider increasing `max_iterations`."
      ]
     },
     "metadata": {},
     "output_type": "display_data"
    },
    {
     "name": "stdout",
     "output_type": "stream",
     "text": [
      "Training error (rmse): 1.5154065303014832\n",
      "Testing error (rmse): 15.341792615430485\n"
     ]
    },
    {
     "data": {
      "image/png": "[encoded data removed]",
      "text/plain": [
       "<Figure size 432x288 with 1 Axes>"
      ]
     },
     "metadata": {
      "needs_background": "light"
     },
     "output_type": "display_data"
    },
    {
     "name": "stdout",
     "output_type": "stream",
     "text": [
      "Polynomial coefficients\n",
      "+-------------+----------------------+\n",
      "|     name    |        value         |\n",
      "+-------------+----------------------+\n",
      "| (intercept) | -0.35874150650262493 |\n",
      "|      x      |  1.0663414063448318  |\n",
      "|     x^2     |  0.5474096743739193  |\n",
      "+-------------+----------------------+\n",
      "[3 rows x 2 columns]\n",
      "\n"
     ]
    }
   ],
   "source": [
    "# Exercise 4.2\n",
    "X = [1, 2, 3, 4, 5]\n",
    "Y = [2, 2.5, 6, 14.5, 34]\n",
    "data = tc.SFrame({'x': X, 'y': Y})\n",
    "data['x^2'] = data['x'].apply(lambda x: x**2)\n",
    "\n",
    "train, test = data.random_split(.8)\n",
    "\n",
    "model_L1_reg = tc.linear_regression.create(train, target='y', l1_penalty=0.1, l2_penalty=0.0)\n",
    "display_results(model_L1_reg)"
   ]
  },
  {
   "cell_type": "code",
   "execution_count": 15,
   "metadata": {},
   "outputs": [],
   "source": [
    "# This is a simple program that will compute gradient of a variable\n",
    "\n",
    "from typing import Set\n",
    "\n",
    "\n",
    "class GradientNumber:\n",
    "\n",
    "    def __init__(self, value : float, children: Set['GradientNumber'] = set(), operator: str = \"\" ):\n",
    "        self.value = value\n",
    "        self.gradient = 0.0\n",
    "        self.children = children\n",
    "        self.operator = operator\n",
    "        self._backward = lambda: None\n",
    "    \n",
    "    def __add__(self, other):\n",
    "        if not isinstance(other, GradientNumber):\n",
    "            other = GradientNumber(other)\n",
    "\n",
    "        output = GradientNumber(self.value + other.value, {self, other}, operator=f'+')\n",
    "\n",
    "        def _backward():\n",
    "            self.gradient += 1.0 * output.gradient\n",
    "            other.gradient += 1.0 * output.gradient\n",
    "\n",
    "        output._backward = _backward\n",
    "        return output\n",
    "    \n",
    "    def __radd__(self, other): # other + self\n",
    "        return self + other\n",
    "    \n",
    "    def __neg__(self):\n",
    "        return self * -1\n",
    "    \n",
    "    def __sub__(self, other):\n",
    "        if not isinstance(other, GradientNumber):\n",
    "            other = GradientNumber(other)\n",
    "        return self + (-other)\n",
    "    \n",
    "    def __mul__(self, other):\n",
    "        if not isinstance(other, GradientNumber):\n",
    "            other = GradientNumber(other)\n",
    "\n",
    "        output = GradientNumber(self.value * other.value, {self, other}, operator=f'*')\n",
    "\n",
    "        def _backward():\n",
    "            self.gradient += other.value * output.gradient\n",
    "            other.gradient += self.value * output.gradient\n",
    "        \n",
    "        output._backward = _backward\n",
    "        return output\n",
    "    \n",
    "    def __rmul__(self, other):\n",
    "        return self * other\n",
    "    \n",
    "    def __pow__(self, other):\n",
    "        assert isinstance(other, (int, float))\n",
    "        \n",
    "        output = GradientNumber(self.value ** other, {self, GradientNumber(other)}, operator=f'**')\n",
    "\n",
    "        def _backward():\n",
    "            self.gradient += ((other * self.value) ** (other - 1)) * output.gradient\n",
    "        \n",
    "        output._backward = _backward\n",
    "        return output\n",
    "\n",
    "    def __truediv__(self, other):    \n",
    "        return self * (other ** -1)\n",
    "    \n",
    "    def backward(self):\n",
    "        self.gradient = 1.0\n",
    "        visited = set()\n",
    "        def backward_children(gradientNumber: GradientNumber):\n",
    "            if gradientNumber not in visited:\n",
    "                gradientNumber._backward()\n",
    "                visited.add(gradientNumber)\n",
    "            if len(gradientNumber.children) > 0:\n",
    "                for child in gradientNumber.children:\n",
    "                    backward_children(child)\n",
    "        \n",
    "        backward_children(self)\n",
    "\n",
    "    def __repr__(self):\n",
    "        if self.operator:\n",
    "            return f'value={self.value}|gradient={self.gradient}|operation={self.operator}'\n",
    "        else:\n",
    "            return f'value={self.value}|gradient={self.gradient}'\n",
    "\n",
    "    \n"
   ]
  },
  {
   "cell_type": "code",
   "execution_count": null,
   "metadata": {},
   "outputs": [],
   "source": [
    "import random\n",
    "\n",
    "def linear_regression(features, labels, epochs=100, learning_rate=0.01):\n",
    "    # y = mx + b\n",
    "    m = GradientNumber(random.random())\n",
    "    b = GradientNumber(random.random())\n",
    "\n",
    "    for epoch in range(epochs):\n",
    "        for feature, label in zip(features, labels):\n",
    "            prediction = m * feature + b\n",
    "            loss = (prediction - label) ** 2\n",
    "            loss.backward()\n",
    "            m.value -= learning_rate * m.gradient\n",
    "            b.value -= learning_rate * b.gradient\n",
    "            m.gradient = 0.0\n",
    "            b.gradient = 0.0\n",
    "    return m, b\n"
   ]
  }
 ],
 "metadata": {
  "kernelspec": {
   "display_name": ".venv",
   "language": "python",
   "name": "python3"
  },
  "language_info": {
   "codemirror_mode": {
    "name": "ipython",
    "version": 3
   },
   "file_extension": ".py",
   "mimetype": "text/x-python",
   "name": "python",
   "nbconvert_exporter": "python",
   "pygments_lexer": "ipython3",
   "version": "3.6.9"
  }
 },
 "nbformat": 4,
 "nbformat_minor": 2
}
