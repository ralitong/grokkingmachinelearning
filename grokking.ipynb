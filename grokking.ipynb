{
 "cells": [
  {
   "cell_type": "code",
   "execution_count": 30,
   "metadata": {},
   "outputs": [
    {
     "name": "stdout",
     "output_type": "stream",
     "text": [
      "Requirement already satisfied: numpy in ./.venv/lib/python3.6/site-packages (from -r requirements.txt (line 1)) (1.18.5)\n",
      "Requirement already satisfied: matplotlib in ./.venv/lib/python3.6/site-packages (from -r requirements.txt (line 2)) (3.3.4)\n",
      "Requirement already satisfied: graphviz in ./.venv/lib/python3.6/site-packages (from -r requirements.txt (line 3)) (0.19.1)\n",
      "Requirement already satisfied: turicreate in ./.venv/lib/python3.6/site-packages (from -r requirements.txt (line 4)) (6.4.1)\n",
      "Requirement already satisfied: ipykernel in ./.venv/lib/python3.6/site-packages (from -r requirements.txt (line 5)) (5.5.6)\n",
      "Requirement already satisfied: python-dateutil>=2.1 in ./.venv/lib/python3.6/site-packages (from matplotlib->-r requirements.txt (line 2)) (2.9.0.post0)\n",
      "Requirement already satisfied: pillow>=6.2.0 in ./.venv/lib/python3.6/site-packages (from matplotlib->-r requirements.txt (line 2)) (8.4.0)\n",
      "Requirement already satisfied: kiwisolver>=1.0.1 in ./.venv/lib/python3.6/site-packages (from matplotlib->-r requirements.txt (line 2)) (1.3.1)\n",
      "Requirement already satisfied: pyparsing!=2.0.4,!=2.1.2,!=2.1.6,>=2.0.3 in ./.venv/lib/python3.6/site-packages (from matplotlib->-r requirements.txt (line 2)) (3.1.4)\n",
      "Requirement already satisfied: cycler>=0.10 in ./.venv/lib/python3.6/site-packages (from matplotlib->-r requirements.txt (line 2)) (0.11.0)\n",
      "Requirement already satisfied: six>=1.10.0 in ./.venv/lib/python3.6/site-packages (from turicreate->-r requirements.txt (line 4)) (1.17.0)\n",
      "Requirement already satisfied: scipy>=1.1.0 in ./.venv/lib/python3.6/site-packages (from turicreate->-r requirements.txt (line 4)) (1.5.4)\n",
      "Requirement already satisfied: coremltools==3.3 in ./.venv/lib/python3.6/site-packages (from turicreate->-r requirements.txt (line 4)) (3.3)\n",
      "Requirement already satisfied: requests>=2.9.1 in ./.venv/lib/python3.6/site-packages (from turicreate->-r requirements.txt (line 4)) (2.27.1)\n",
      "Requirement already satisfied: pandas>=0.23.2 in ./.venv/lib/python3.6/site-packages (from turicreate->-r requirements.txt (line 4)) (1.1.5)\n",
      "Requirement already satisfied: prettytable==0.7.2 in ./.venv/lib/python3.6/site-packages (from turicreate->-r requirements.txt (line 4)) (0.7.2)\n",
      "Requirement already satisfied: resampy==0.2.1 in ./.venv/lib/python3.6/site-packages (from turicreate->-r requirements.txt (line 4)) (0.2.1)\n",
      "Requirement already satisfied: tensorflow<2.1.0,>=2.0.0 in ./.venv/lib/python3.6/site-packages (from turicreate->-r requirements.txt (line 4)) (2.0.4)\n",
      "Requirement already satisfied: decorator>=4.0.9 in ./.venv/lib/python3.6/site-packages (from turicreate->-r requirements.txt (line 4)) (5.1.1)\n",
      "Requirement already satisfied: numba<0.51.0 in ./.venv/lib/python3.6/site-packages (from turicreate->-r requirements.txt (line 4)) (0.50.1)\n",
      "Requirement already satisfied: protobuf>=3.1.0 in ./.venv/lib/python3.6/site-packages (from coremltools==3.3->turicreate->-r requirements.txt (line 4)) (3.19.6)\n",
      "Requirement already satisfied: tornado>=4.2 in ./.venv/lib/python3.6/site-packages (from ipykernel->-r requirements.txt (line 5)) (6.1)\n",
      "Requirement already satisfied: ipython>=5.0.0 in ./.venv/lib/python3.6/site-packages (from ipykernel->-r requirements.txt (line 5)) (7.16.3)\n",
      "Requirement already satisfied: jupyter-client in ./.venv/lib/python3.6/site-packages (from ipykernel->-r requirements.txt (line 5)) (7.1.2)\n",
      "Requirement already satisfied: ipython-genutils in ./.venv/lib/python3.6/site-packages (from ipykernel->-r requirements.txt (line 5)) (0.2.0)\n",
      "Requirement already satisfied: traitlets>=4.1.0 in ./.venv/lib/python3.6/site-packages (from ipykernel->-r requirements.txt (line 5)) (4.3.3)\n",
      "Requirement already satisfied: pygments in ./.venv/lib/python3.6/site-packages (from ipython>=5.0.0->ipykernel->-r requirements.txt (line 5)) (2.14.0)\n",
      "Requirement already satisfied: prompt-toolkit!=3.0.0,!=3.0.1,<3.1.0,>=2.0.0 in ./.venv/lib/python3.6/site-packages (from ipython>=5.0.0->ipykernel->-r requirements.txt (line 5)) (3.0.36)\n",
      "Requirement already satisfied: backcall in ./.venv/lib/python3.6/site-packages (from ipython>=5.0.0->ipykernel->-r requirements.txt (line 5)) (0.2.0)\n",
      "Requirement already satisfied: jedi<=0.17.2,>=0.10 in ./.venv/lib/python3.6/site-packages (from ipython>=5.0.0->ipykernel->-r requirements.txt (line 5)) (0.17.2)\n",
      "Requirement already satisfied: pexpect in ./.venv/lib/python3.6/site-packages (from ipython>=5.0.0->ipykernel->-r requirements.txt (line 5)) (4.9.0)\n",
      "Requirement already satisfied: pickleshare in ./.venv/lib/python3.6/site-packages (from ipython>=5.0.0->ipykernel->-r requirements.txt (line 5)) (0.7.5)\n",
      "Requirement already satisfied: setuptools>=18.5 in ./.venv/lib/python3.6/site-packages (from ipython>=5.0.0->ipykernel->-r requirements.txt (line 5)) (59.6.0)\n",
      "Requirement already satisfied: llvmlite<0.34,>=0.33.0.dev0 in ./.venv/lib/python3.6/site-packages (from numba<0.51.0->turicreate->-r requirements.txt (line 4)) (0.33.0)\n",
      "Requirement already satisfied: pytz>=2017.2 in ./.venv/lib/python3.6/site-packages (from pandas>=0.23.2->turicreate->-r requirements.txt (line 4)) (2024.2)\n",
      "Requirement already satisfied: urllib3<1.27,>=1.21.1 in ./.venv/lib/python3.6/site-packages (from requests>=2.9.1->turicreate->-r requirements.txt (line 4)) (1.26.20)\n",
      "Requirement already satisfied: certifi>=2017.4.17 in ./.venv/lib/python3.6/site-packages (from requests>=2.9.1->turicreate->-r requirements.txt (line 4)) (2024.12.14)\n",
      "Requirement already satisfied: idna<4,>=2.5 in ./.venv/lib/python3.6/site-packages (from requests>=2.9.1->turicreate->-r requirements.txt (line 4)) (3.10)\n",
      "Requirement already satisfied: charset-normalizer~=2.0.0 in ./.venv/lib/python3.6/site-packages (from requests>=2.9.1->turicreate->-r requirements.txt (line 4)) (2.0.12)\n",
      "Requirement already satisfied: termcolor>=1.1.0 in ./.venv/lib/python3.6/site-packages (from tensorflow<2.1.0,>=2.0.0->turicreate->-r requirements.txt (line 4)) (1.1.0)\n",
      "Requirement already satisfied: wheel>=0.26 in ./.venv/lib/python3.6/site-packages (from tensorflow<2.1.0,>=2.0.0->turicreate->-r requirements.txt (line 4)) (0.37.1)\n",
      "Requirement already satisfied: wrapt>=1.11.1 in ./.venv/lib/python3.6/site-packages (from tensorflow<2.1.0,>=2.0.0->turicreate->-r requirements.txt (line 4)) (1.16.0)\n",
      "Requirement already satisfied: tensorboard<2.1.0,>=2.0.0 in ./.venv/lib/python3.6/site-packages (from tensorflow<2.1.0,>=2.0.0->turicreate->-r requirements.txt (line 4)) (2.0.2)\n",
      "Requirement already satisfied: astor>=0.6.0 in ./.venv/lib/python3.6/site-packages (from tensorflow<2.1.0,>=2.0.0->turicreate->-r requirements.txt (line 4)) (0.8.1)\n",
      "Requirement already satisfied: keras-preprocessing>=1.0.5 in ./.venv/lib/python3.6/site-packages (from tensorflow<2.1.0,>=2.0.0->turicreate->-r requirements.txt (line 4)) (1.1.2)\n",
      "Requirement already satisfied: absl-py>=0.7.0 in ./.venv/lib/python3.6/site-packages (from tensorflow<2.1.0,>=2.0.0->turicreate->-r requirements.txt (line 4)) (1.4.0)\n",
      "Requirement already satisfied: grpcio>=1.8.6 in ./.venv/lib/python3.6/site-packages (from tensorflow<2.1.0,>=2.0.0->turicreate->-r requirements.txt (line 4)) (1.48.2)\n",
      "Requirement already satisfied: keras-applications>=1.0.8 in ./.venv/lib/python3.6/site-packages (from tensorflow<2.1.0,>=2.0.0->turicreate->-r requirements.txt (line 4)) (1.0.8)\n",
      "Requirement already satisfied: gast==0.2.2 in ./.venv/lib/python3.6/site-packages (from tensorflow<2.1.0,>=2.0.0->turicreate->-r requirements.txt (line 4)) (0.2.2)\n",
      "Requirement already satisfied: opt-einsum>=2.3.2 in ./.venv/lib/python3.6/site-packages (from tensorflow<2.1.0,>=2.0.0->turicreate->-r requirements.txt (line 4)) (3.3.0)\n",
      "Requirement already satisfied: tensorflow-estimator<2.1.0,>=2.0.0 in ./.venv/lib/python3.6/site-packages (from tensorflow<2.1.0,>=2.0.0->turicreate->-r requirements.txt (line 4)) (2.0.1)\n",
      "Requirement already satisfied: h5py<=2.10.0 in ./.venv/lib/python3.6/site-packages (from tensorflow<2.1.0,>=2.0.0->turicreate->-r requirements.txt (line 4)) (2.10.0)\n",
      "Requirement already satisfied: google-pasta>=0.1.6 in ./.venv/lib/python3.6/site-packages (from tensorflow<2.1.0,>=2.0.0->turicreate->-r requirements.txt (line 4)) (0.2.0)\n",
      "Requirement already satisfied: jupyter-core>=4.6.0 in ./.venv/lib/python3.6/site-packages (from jupyter-client->ipykernel->-r requirements.txt (line 5)) (4.9.2)\n",
      "Requirement already satisfied: pyzmq>=13 in ./.venv/lib/python3.6/site-packages (from jupyter-client->ipykernel->-r requirements.txt (line 5)) (25.1.2)\n",
      "Requirement already satisfied: entrypoints in ./.venv/lib/python3.6/site-packages (from jupyter-client->ipykernel->-r requirements.txt (line 5)) (0.4)\n",
      "Requirement already satisfied: nest-asyncio>=1.5 in ./.venv/lib/python3.6/site-packages (from jupyter-client->ipykernel->-r requirements.txt (line 5)) (1.6.0)\n",
      "Requirement already satisfied: parso<0.8.0,>=0.7.0 in ./.venv/lib/python3.6/site-packages (from jedi<=0.17.2,>=0.10->ipython>=5.0.0->ipykernel->-r requirements.txt (line 5)) (0.7.1)\n",
      "Requirement already satisfied: wcwidth in ./.venv/lib/python3.6/site-packages (from prompt-toolkit!=3.0.0,!=3.0.1,<3.1.0,>=2.0.0->ipython>=5.0.0->ipykernel->-r requirements.txt (line 5)) (0.2.13)\n",
      "Requirement already satisfied: google-auth-oauthlib<0.5,>=0.4.1 in ./.venv/lib/python3.6/site-packages (from tensorboard<2.1.0,>=2.0.0->tensorflow<2.1.0,>=2.0.0->turicreate->-r requirements.txt (line 4)) (0.4.6)\n",
      "Requirement already satisfied: markdown>=2.6.8 in ./.venv/lib/python3.6/site-packages (from tensorboard<2.1.0,>=2.0.0->tensorflow<2.1.0,>=2.0.0->turicreate->-r requirements.txt (line 4)) (3.3.7)\n",
      "Requirement already satisfied: werkzeug>=0.11.15 in ./.venv/lib/python3.6/site-packages (from tensorboard<2.1.0,>=2.0.0->tensorflow<2.1.0,>=2.0.0->turicreate->-r requirements.txt (line 4)) (2.0.3)\n",
      "Requirement already satisfied: google-auth<2,>=1.6.3 in ./.venv/lib/python3.6/site-packages (from tensorboard<2.1.0,>=2.0.0->tensorflow<2.1.0,>=2.0.0->turicreate->-r requirements.txt (line 4)) (1.35.0)\n",
      "Requirement already satisfied: ptyprocess>=0.5 in ./.venv/lib/python3.6/site-packages (from pexpect->ipython>=5.0.0->ipykernel->-r requirements.txt (line 5)) (0.7.0)\n",
      "Requirement already satisfied: rsa<5,>=3.1.4 in ./.venv/lib/python3.6/site-packages (from google-auth<2,>=1.6.3->tensorboard<2.1.0,>=2.0.0->tensorflow<2.1.0,>=2.0.0->turicreate->-r requirements.txt (line 4)) (4.9)\n",
      "Requirement already satisfied: pyasn1-modules>=0.2.1 in ./.venv/lib/python3.6/site-packages (from google-auth<2,>=1.6.3->tensorboard<2.1.0,>=2.0.0->tensorflow<2.1.0,>=2.0.0->turicreate->-r requirements.txt (line 4)) (0.3.0)\n",
      "Requirement already satisfied: cachetools<5.0,>=2.0.0 in ./.venv/lib/python3.6/site-packages (from google-auth<2,>=1.6.3->tensorboard<2.1.0,>=2.0.0->tensorflow<2.1.0,>=2.0.0->turicreate->-r requirements.txt (line 4)) (4.2.4)\n",
      "Requirement already satisfied: requests-oauthlib>=0.7.0 in ./.venv/lib/python3.6/site-packages (from google-auth-oauthlib<0.5,>=0.4.1->tensorboard<2.1.0,>=2.0.0->tensorflow<2.1.0,>=2.0.0->turicreate->-r requirements.txt (line 4)) (2.0.0)\n",
      "Requirement already satisfied: importlib-metadata>=4.4 in ./.venv/lib/python3.6/site-packages (from markdown>=2.6.8->tensorboard<2.1.0,>=2.0.0->tensorflow<2.1.0,>=2.0.0->turicreate->-r requirements.txt (line 4)) (4.8.3)\n",
      "Requirement already satisfied: dataclasses in ./.venv/lib/python3.6/site-packages (from werkzeug>=0.11.15->tensorboard<2.1.0,>=2.0.0->tensorflow<2.1.0,>=2.0.0->turicreate->-r requirements.txt (line 4)) (0.8)\n",
      "Requirement already satisfied: typing-extensions>=3.6.4 in ./.venv/lib/python3.6/site-packages (from importlib-metadata>=4.4->markdown>=2.6.8->tensorboard<2.1.0,>=2.0.0->tensorflow<2.1.0,>=2.0.0->turicreate->-r requirements.txt (line 4)) (4.1.1)\n",
      "Requirement already satisfied: zipp>=0.5 in ./.venv/lib/python3.6/site-packages (from importlib-metadata>=4.4->markdown>=2.6.8->tensorboard<2.1.0,>=2.0.0->tensorflow<2.1.0,>=2.0.0->turicreate->-r requirements.txt (line 4)) (3.6.0)\n",
      "Requirement already satisfied: pyasn1<0.6.0,>=0.4.6 in ./.venv/lib/python3.6/site-packages (from pyasn1-modules>=0.2.1->google-auth<2,>=1.6.3->tensorboard<2.1.0,>=2.0.0->tensorflow<2.1.0,>=2.0.0->turicreate->-r requirements.txt (line 4)) (0.5.1)\n",
      "Requirement already satisfied: oauthlib>=3.0.0 in ./.venv/lib/python3.6/site-packages (from requests-oauthlib>=0.7.0->google-auth-oauthlib<0.5,>=0.4.1->tensorboard<2.1.0,>=2.0.0->tensorflow<2.1.0,>=2.0.0->turicreate->-r requirements.txt (line 4)) (3.2.2)\n",
      "Note: you may need to restart the kernel to use updated packages.\n"
     ]
    }
   ],
   "source": [
    "%pip install -r requirements.txt"
   ]
  },
  {
   "cell_type": "code",
   "execution_count": 31,
   "metadata": {},
   "outputs": [],
   "source": [
    "def square_trick(base_price, price_per_room, num_rooms, price, learning_rate):\n",
    "    predicted_price = base_price + price_per_room * num_rooms\n",
    "    base_price += learning_rate * (price - predicted_price)\n",
    "    price_per_room += learning_rate * num_rooms * (price - predicted_price)\n",
    "    return price_per_room, base_price\n",
    "    "
   ]
  },
  {
   "cell_type": "code",
   "execution_count": 32,
   "metadata": {},
   "outputs": [],
   "source": [
    "def absolute_trick(base_price, price_per_room, num_rooms, price, learning_rate):\n",
    "    predicted_price = base_price + price_per_room * num_rooms\n",
    "    # if price - predicted_price is positive\n",
    "    # then price_per_room a.k.a. the slope should be adjusted upwards by a little bit\n",
    "    # also adjust base_price a.k.a. bias upwards\n",
    "    if price > predicted_price:\n",
    "        price_per_room += learning_rate * num_rooms\n",
    "        base_price += learning_rate\n",
    "    # if price - predicted_price is negative\n",
    "    # adjust price_per_room and base_price downwards\n",
    "    else:\n",
    "        price_per_room -= learning_rate * num_rooms\n",
    "        base_price -= learning_rate\n",
    "    return price_per_room, base_price"
   ]
  },
  {
   "cell_type": "code",
   "execution_count": 33,
   "metadata": {},
   "outputs": [],
   "source": [
    "import random\n",
    "import numpy as np\n",
    "\n",
    "np.set_printoptions(precision=3)\n",
    "\n",
    "# Capture the changes in price_per_room\n",
    "# and base_price in a list\n",
    "price_per_room_base_price_list = []\n",
    "root_mean_square_errors = []\n",
    "\n",
    "def linear_regression(features, labels, learning_rate=0.01, epochs=100):\n",
    "    def rmse(labels, predictions):\n",
    "        n = len(labels)\n",
    "        differences = np.subtract(labels, predictions)\n",
    "        return np.sqrt(1.0 / n * (np.dot(differences, differences)))\n",
    "    \n",
    "    price_per_room = random.random()\n",
    "    base_price = random.random()\n",
    "    predictions = [0.0] * len(labels)\n",
    "    for epoch in range(epochs):\n",
    "        i = random.randint(0, len(features) - 1)\n",
    "        num_rooms = features[i]\n",
    "        price = labels[i]\n",
    "        \n",
    "        predicted_price = base_price + price_per_room * num_rooms\n",
    "        predictions[i] = predicted_price\n",
    "\n",
    "        root_mean_square_errors.append(rmse(labels, predictions))\n",
    "\n",
    "        base_price += learning_rate * (price - predicted_price)\n",
    "        price_per_room += learning_rate * num_rooms * (price - predicted_price)\n",
    "        price_per_room_base_price_list.append([price_per_room, base_price])\n",
    "\n",
    "    return price_per_room, base_price"
   ]
  },
  {
   "cell_type": "code",
   "execution_count": 34,
   "metadata": {},
   "outputs": [],
   "source": [
    "import numpy as np\n",
    "features = np.array([1, 2, 3, 5, 6, 7])\n",
    "labels = np.array([155, 197, 244, 356, 407, 448])"
   ]
  },
  {
   "cell_type": "code",
   "execution_count": 35,
   "metadata": {},
   "outputs": [
    {
     "name": "stdout",
     "output_type": "stream",
     "text": [
      "Final price 49.92 and Final base price 99.50\n",
      "Apartments with 4 rooms approximately cost 299.17\n"
     ]
    }
   ],
   "source": [
    "final_price_per_room, final_base_price = linear_regression(features, labels, learning_rate = 0.01, epochs=10000)\n",
    "\n",
    "print(f'Final price {final_price_per_room:.2f} and Final base price {final_base_price:.2f}')\n",
    "final_formula = lambda num_of_rooms : num_of_rooms * final_price_per_room + final_base_price\n",
    "print(f'Apartments with 4 rooms approximately cost {final_formula(4):.2f}')"
   ]
  },
  {
   "cell_type": "code",
   "execution_count": 36,
   "metadata": {},
   "outputs": [
    {
     "data": {
      "image/png": "[encoded data removed]",
      "text/plain": [
       "<Figure size 432x288 with 1 Axes>"
      ]
     },
     "metadata": {
      "needs_background": "light"
     },
     "output_type": "display_data"
    }
   ],
   "source": [
    "import matplotlib.pyplot as plt\n",
    "\n",
    "# Plotting the prices of the apartments\n",
    "plt.title(\"Plotting apartment prices & number of rooms\")\n",
    "plt.xlabel(\"Number of rooms\")\n",
    "plt.ylabel(\"Prices of apartments\")\n",
    "plt.scatter(features, labels, color = \"blue\")\n",
    "\n",
    "index = 0\n",
    "for price_per_room_and_base_price in price_per_room_base_price_list:\n",
    "    price_per_room = price_per_room_and_base_price[0]\n",
    "    base_price = price_per_room_and_base_price[1]\n",
    "    m = price_per_room # slope\n",
    "    b = base_price # y-intercept\n",
    "\n",
    "    y = lambda x : m * x + b # linear function\n",
    "    x = np.linspace(1, 10) # set of x values\n",
    "\n",
    "    if index % 50 == 0:\n",
    "        plt.plot(x, y(x), color = \"black\", alpha = 0.5)\n",
    "    index += 1\n",
    "\n",
    "plt.show()"
   ]
  },
  {
   "cell_type": "code",
   "execution_count": 37,
   "metadata": {},
   "outputs": [
    {
     "data": {
      "text/plain": [
       "<matplotlib.collections.PathCollection at 0x7f5114319128>"
      ]
     },
     "execution_count": 37,
     "metadata": {},
     "output_type": "execute_result"
    },
    {
     "data": {
      "image/png": "[encoded data removed]",
      "text/plain": [
       "<Figure size 432x288 with 1 Axes>"
      ]
     },
     "metadata": {
      "needs_background": "light"
     },
     "output_type": "display_data"
    }
   ],
   "source": [
    "plt.title(\"Plotting root mean square errors and epoch\")\n",
    "plt.xlabel(\"Epochs\")\n",
    "plt.ylabel(\"Root mean square error\")\n",
    "epochs = range(10000)\n",
    "plt.scatter(epochs, root_mean_square_errors, color = \"blue\")"
   ]
  },
  {
   "cell_type": "code",
   "execution_count": 38,
   "metadata": {},
   "outputs": [
    {
     "data": {
      "text/html": [
       "<pre>Finished parsing file /home/ubuntu/grokkingmachinelearning/Hyderabad.csv</pre>"
      ],
      "text/plain": [
       "Finished parsing file /home/ubuntu/grokkingmachinelearning/Hyderabad.csv"
      ]
     },
     "metadata": {},
     "output_type": "display_data"
    },
    {
     "data": {
      "text/html": [
       "<pre>Parsing completed. Parsed 100 lines in 0.013873 secs.</pre>"
      ],
      "text/plain": [
       "Parsing completed. Parsed 100 lines in 0.013873 secs."
      ]
     },
     "metadata": {},
     "output_type": "display_data"
    },
    {
     "name": "stdout",
     "output_type": "stream",
     "text": [
      "------------------------------------------------------\n",
      "Inferred types from first 100 line(s) of file as \n",
      "column_type_hints=[int,int,str,int,int,int,int,int,int,int,int,int,int,int,int,int,int,int,int,int,int,int,int,int,int,int,int,int,int,int,int,int,int,int,int,int,int,int,int,str]\n",
      "If parsing fails due to incorrect types, you can correct\n",
      "the inferred type list above and pass it to read_csv in\n",
      "the column_type_hints argument\n",
      "------------------------------------------------------\n"
     ]
    },
    {
     "data": {
      "text/html": [
       "<pre>Finished parsing file /home/ubuntu/grokkingmachinelearning/Hyderabad.csv</pre>"
      ],
      "text/plain": [
       "Finished parsing file /home/ubuntu/grokkingmachinelearning/Hyderabad.csv"
      ]
     },
     "metadata": {},
     "output_type": "display_data"
    },
    {
     "data": {
      "text/html": [
       "<pre>Parsing completed. Parsed 2518 lines in 0.008232 secs.</pre>"
      ],
      "text/plain": [
       "Parsing completed. Parsed 2518 lines in 0.008232 secs."
      ]
     },
     "metadata": {},
     "output_type": "display_data"
    },
    {
     "name": "stdout",
     "output_type": "stream",
     "text": [
      "PROGRESS: Creating a validation set from 5 percent of training data. This may take a while.\n",
      "          You can set ``validation_set=None`` to disable validation tracking.\n",
      "\n"
     ]
    },
    {
     "data": {
      "text/html": [
       "<pre>Linear regression:</pre>"
      ],
      "text/plain": [
       "Linear regression:"
      ]
     },
     "metadata": {},
     "output_type": "display_data"
    },
    {
     "data": {
      "text/html": [
       "<pre>--------------------------------------------------------</pre>"
      ],
      "text/plain": [
       "--------------------------------------------------------"
      ]
     },
     "metadata": {},
     "output_type": "display_data"
    },
    {
     "data": {
      "text/html": [
       "<pre>Number of examples          : 2392</pre>"
      ],
      "text/plain": [
       "Number of examples          : 2392"
      ]
     },
     "metadata": {},
     "output_type": "display_data"
    },
    {
     "data": {
      "text/html": [
       "<pre>Number of features          : 39</pre>"
      ],
      "text/plain": [
       "Number of features          : 39"
      ]
     },
     "metadata": {},
     "output_type": "display_data"
    },
    {
     "data": {
      "text/html": [
       "<pre>Number of unpacked features : 39</pre>"
      ],
      "text/plain": [
       "Number of unpacked features : 39"
      ]
     },
     "metadata": {},
     "output_type": "display_data"
    },
    {
     "data": {
      "text/html": [
       "<pre>Number of coefficients    : 280</pre>"
      ],
      "text/plain": [
       "Number of coefficients    : 280"
      ]
     },
     "metadata": {},
     "output_type": "display_data"
    },
    {
     "data": {
      "text/html": [
       "<pre>Starting Newton Method</pre>"
      ],
      "text/plain": [
       "Starting Newton Method"
      ]
     },
     "metadata": {},
     "output_type": "display_data"
    },
    {
     "data": {
      "text/html": [
       "<pre>--------------------------------------------------------</pre>"
      ],
      "text/plain": [
       "--------------------------------------------------------"
      ]
     },
     "metadata": {},
     "output_type": "display_data"
    },
    {
     "data": {
      "text/html": [
       "<pre>+-----------+----------+--------------+--------------------+----------------------+---------------------------------+-----------------------------------+</pre>"
      ],
      "text/plain": [
       "+-----------+----------+--------------+--------------------+----------------------+---------------------------------+-----------------------------------+"
      ]
     },
     "metadata": {},
     "output_type": "display_data"
    },
    {
     "data": {
      "text/html": [
       "<pre>| Iteration | Passes   | Elapsed Time | Training Max Error | Validation Max Error | Training Root-Mean-Square Error | Validation Root-Mean-Square Error |</pre>"
      ],
      "text/plain": [
       "| Iteration | Passes   | Elapsed Time | Training Max Error | Validation Max Error | Training Root-Mean-Square Error | Validation Root-Mean-Square Error |"
      ]
     },
     "metadata": {},
     "output_type": "display_data"
    },
    {
     "data": {
      "text/html": [
       "<pre>+-----------+----------+--------------+--------------------+----------------------+---------------------------------+-----------------------------------+</pre>"
      ],
      "text/plain": [
       "+-----------+----------+--------------+--------------------+----------------------+---------------------------------+-----------------------------------+"
      ]
     },
     "metadata": {},
     "output_type": "display_data"
    },
    {
     "data": {
      "text/html": [
       "<pre>| 1         | 2        | 0.021757     | 140629224.981307   | 12638602.867359      | 4273649.943905                  | 2905077.499704                    |</pre>"
      ],
      "text/plain": [
       "| 1         | 2        | 0.021757     | 140629224.981307   | 12638602.867359      | 4273649.943905                  | 2905077.499704                    |"
      ]
     },
     "metadata": {},
     "output_type": "display_data"
    },
    {
     "data": {
      "text/html": [
       "<pre>+-----------+----------+--------------+--------------------+----------------------+---------------------------------+-----------------------------------+</pre>"
      ],
      "text/plain": [
       "+-----------+----------+--------------+--------------------+----------------------+---------------------------------+-----------------------------------+"
      ]
     },
     "metadata": {},
     "output_type": "display_data"
    },
    {
     "data": {
      "text/html": [
       "<pre>SUCCESS: Optimal solution found.</pre>"
      ],
      "text/plain": [
       "SUCCESS: Optimal solution found."
      ]
     },
     "metadata": {},
     "output_type": "display_data"
    },
    {
     "data": {
      "text/html": [
       "<pre></pre>"
      ],
      "text/plain": []
     },
     "metadata": {},
     "output_type": "display_data"
    }
   ],
   "source": [
    "import turicreate as tc\n",
    "\n",
    "data = tc.SFrame('Hyderabad.csv')\n",
    "model = tc.linear_regression.create(data, target='Price')"
   ]
  },
  {
   "cell_type": "code",
   "execution_count": 39,
   "metadata": {},
   "outputs": [
    {
     "data": {
      "text/plain": [
       "dtype: float\n",
       "Rows: 1\n",
       "[2651105.693435888]"
      ]
     },
     "execution_count": 39,
     "metadata": {},
     "output_type": "execute_result"
    }
   ],
   "source": [
    "house = tc.SFrame({'Area' : [1000], 'No. of Bedrooms': [3]})\n",
    "model.predict(house)"
   ]
  },
  {
   "cell_type": "code",
   "execution_count": 40,
   "metadata": {},
   "outputs": [
    {
     "name": "stdout",
     "output_type": "stream",
     "text": [
      "PROGRESS: Creating a validation set from 5 percent of training data. This may take a while.\n",
      "          You can set ``validation_set=None`` to disable validation tracking.\n",
      "\n"
     ]
    },
    {
     "data": {
      "text/html": [
       "<pre>Linear regression:</pre>"
      ],
      "text/plain": [
       "Linear regression:"
      ]
     },
     "metadata": {},
     "output_type": "display_data"
    },
    {
     "data": {
      "text/html": [
       "<pre>--------------------------------------------------------</pre>"
      ],
      "text/plain": [
       "--------------------------------------------------------"
      ]
     },
     "metadata": {},
     "output_type": "display_data"
    },
    {
     "data": {
      "text/html": [
       "<pre>Number of examples          : 2392</pre>"
      ],
      "text/plain": [
       "Number of examples          : 2392"
      ]
     },
     "metadata": {},
     "output_type": "display_data"
    },
    {
     "data": {
      "text/html": [
       "<pre>Number of features          : 1</pre>"
      ],
      "text/plain": [
       "Number of features          : 1"
      ]
     },
     "metadata": {},
     "output_type": "display_data"
    },
    {
     "data": {
      "text/html": [
       "<pre>Number of unpacked features : 1</pre>"
      ],
      "text/plain": [
       "Number of unpacked features : 1"
      ]
     },
     "metadata": {},
     "output_type": "display_data"
    },
    {
     "data": {
      "text/html": [
       "<pre>Number of coefficients    : 2</pre>"
      ],
      "text/plain": [
       "Number of coefficients    : 2"
      ]
     },
     "metadata": {},
     "output_type": "display_data"
    },
    {
     "data": {
      "text/html": [
       "<pre>Starting Newton Method</pre>"
      ],
      "text/plain": [
       "Starting Newton Method"
      ]
     },
     "metadata": {},
     "output_type": "display_data"
    },
    {
     "data": {
      "text/html": [
       "<pre>--------------------------------------------------------</pre>"
      ],
      "text/plain": [
       "--------------------------------------------------------"
      ]
     },
     "metadata": {},
     "output_type": "display_data"
    },
    {
     "data": {
      "text/html": [
       "<pre>+-----------+----------+--------------+--------------------+----------------------+---------------------------------+-----------------------------------+</pre>"
      ],
      "text/plain": [
       "+-----------+----------+--------------+--------------------+----------------------+---------------------------------+-----------------------------------+"
      ]
     },
     "metadata": {},
     "output_type": "display_data"
    },
    {
     "data": {
      "text/html": [
       "<pre>| Iteration | Passes   | Elapsed Time | Training Max Error | Validation Max Error | Training Root-Mean-Square Error | Validation Root-Mean-Square Error |</pre>"
      ],
      "text/plain": [
       "| Iteration | Passes   | Elapsed Time | Training Max Error | Validation Max Error | Training Root-Mean-Square Error | Validation Root-Mean-Square Error |"
      ]
     },
     "metadata": {},
     "output_type": "display_data"
    },
    {
     "data": {
      "text/html": [
       "<pre>+-----------+----------+--------------+--------------------+----------------------+---------------------------------+-----------------------------------+</pre>"
      ],
      "text/plain": [
       "+-----------+----------+--------------+--------------------+----------------------+---------------------------------+-----------------------------------+"
      ]
     },
     "metadata": {},
     "output_type": "display_data"
    },
    {
     "data": {
      "text/html": [
       "<pre>| 1         | 2        | 0.002699     | 144294632.223736   | 23523917.167745      | 4969793.164834                  | 3420971.950011                    |</pre>"
      ],
      "text/plain": [
       "| 1         | 2        | 0.002699     | 144294632.223736   | 23523917.167745      | 4969793.164834                  | 3420971.950011                    |"
      ]
     },
     "metadata": {},
     "output_type": "display_data"
    },
    {
     "data": {
      "text/html": [
       "<pre>+-----------+----------+--------------+--------------------+----------------------+---------------------------------+-----------------------------------+</pre>"
      ],
      "text/plain": [
       "+-----------+----------+--------------+--------------------+----------------------+---------------------------------+-----------------------------------+"
      ]
     },
     "metadata": {},
     "output_type": "display_data"
    },
    {
     "data": {
      "text/html": [
       "<pre>SUCCESS: Optimal solution found.</pre>"
      ],
      "text/plain": [
       "SUCCESS: Optimal solution found."
      ]
     },
     "metadata": {},
     "output_type": "display_data"
    },
    {
     "data": {
      "text/html": [
       "<pre></pre>"
      ],
      "text/plain": []
     },
     "metadata": {},
     "output_type": "display_data"
    },
    {
     "data": {
      "text/html": [
       "<div style=\"max-height:1000px;max-width:1500px;overflow:auto;\"><table frame=\"box\" rules=\"cols\">\n",
       "    <tr>\n",
       "        <th style=\"padding-left: 1em; padding-right: 1em; text-align: center\">name</th>\n",
       "        <th style=\"padding-left: 1em; padding-right: 1em; text-align: center\">index</th>\n",
       "        <th style=\"padding-left: 1em; padding-right: 1em; text-align: center\">value</th>\n",
       "        <th style=\"padding-left: 1em; padding-right: 1em; text-align: center\">stderr</th>\n",
       "    </tr>\n",
       "    <tr>\n",
       "        <td style=\"padding-left: 1em; padding-right: 1em; text-align: center; vertical-align: top\">(intercept)</td>\n",
       "        <td style=\"padding-left: 1em; padding-right: 1em; text-align: center; vertical-align: top\">None</td>\n",
       "        <td style=\"padding-left: 1em; padding-right: 1em; text-align: center; vertical-align: top\">-6301645.489069618</td>\n",
       "        <td style=\"padding-left: 1em; padding-right: 1em; text-align: center; vertical-align: top\">244751.20889583402</td>\n",
       "    </tr>\n",
       "    <tr>\n",
       "        <td style=\"padding-left: 1em; padding-right: 1em; text-align: center; vertical-align: top\">Area</td>\n",
       "        <td style=\"padding-left: 1em; padding-right: 1em; text-align: center; vertical-align: top\">None</td>\n",
       "        <td style=\"padding-left: 1em; padding-right: 1em; text-align: center; vertical-align: top\">9820.73209648485</td>\n",
       "        <td style=\"padding-left: 1em; padding-right: 1em; text-align: center; vertical-align: top\">135.30469477657545</td>\n",
       "    </tr>\n",
       "</table>\n",
       "[2 rows x 4 columns]<br/>\n",
       "</div>"
      ],
      "text/plain": [
       "Columns:\n",
       "\tname\tstr\n",
       "\tindex\tstr\n",
       "\tvalue\tfloat\n",
       "\tstderr\tfloat\n",
       "\n",
       "Rows: 2\n",
       "\n",
       "Data:\n",
       "+-------------+-------+--------------------+--------------------+\n",
       "|     name    | index |       value        |       stderr       |\n",
       "+-------------+-------+--------------------+--------------------+\n",
       "| (intercept) |  None | -6301645.489069618 | 244751.20889583402 |\n",
       "|     Area    |  None |  9820.73209648485  | 135.30469477657545 |\n",
       "+-------------+-------+--------------------+--------------------+\n",
       "[2 rows x 4 columns]"
      ]
     },
     "execution_count": 40,
     "metadata": {},
     "output_type": "execute_result"
    }
   ],
   "source": [
    "simple_model = tc.linear_regression.create(data, features=['Area'],  target='Price')\n",
    "simple_model.coefficients"
   ]
  },
  {
   "cell_type": "code",
   "execution_count": 145,
   "metadata": {},
   "outputs": [
    {
     "name": "stdout",
     "output_type": "stream",
     "text": [
      "Price per size 2.18 and base price 0.57\n",
      "Predictions [218.34  436.114 436.114 545.001 708.331]\n",
      "Actuals [200 475 400 520 735]\n",
      "RMSE 67.00\n",
      "MAE 29.00\n"
     ]
    }
   ],
   "source": [
    "housesize = np.array([100, 200, 200, 250, 325])\n",
    "houseprices = np.array([200, 475, 400, 520, 735])\n",
    "\n",
    "def square_trick(learning_rate, weight, feature, bias, label):\n",
    "    prediction = weight * feature + bias\n",
    "    bias += learning_rate * (label - prediction)\n",
    "    weight += learning_rate * feature * (label - prediction)\n",
    "    return weight, bias\n",
    "\n",
    "def absolute_trick(learning_rate, weight, feature, bias, label):\n",
    "    prediction = weight * feature + bias\n",
    "    if label > prediction:\n",
    "        bias += learning_rate\n",
    "        weight += learning_rate * feature\n",
    "    else:\n",
    "        bias -= learning_rate\n",
    "        weight -= learning_rate * feature\n",
    "    return weight, bias\n",
    "\n",
    "def my_linear_regression(features, labels, learning_rate=0.001, epochs=10000, weight=random.random(), bias=random.random(), learning_method=square_trick):\n",
    "\n",
    "    def rmse(actual, predictions):\n",
    "        differences = np.subtract(actual, predictions)\n",
    "        return np.sqrt(np.mean(np.dot(differences, differences)))\n",
    "    \n",
    "    def mae(actual, predictions):\n",
    "        differences = np.subtract(actual, predictions)\n",
    "        return np.mean(np.abs(differences))\n",
    "\n",
    "    def create_predictions(features, weight, bias):\n",
    "        return np.add(np.multiply(weight, features), bias)\n",
    "\n",
    "    for epoch in range(epochs):\n",
    "        i = random.randint(0, len(features) - 1)\n",
    "        random_label_from_input = labels[i]\n",
    "        random_feature_from_input = features[i]\n",
    "\n",
    "        weight, bias = learning_method(learning_rate, weight, random_feature_from_input, bias, random_label_from_input)\n",
    "\n",
    "    rmse = rmse(labels, create_predictions(features, weight, bias))\n",
    "    mae = mae(labels, create_predictions(features, weight, bias))\n",
    "\n",
    "    return weight, bias, rmse, mae\n",
    "\n",
    "price_per_size, base_price, rmse, mae = my_linear_regression(housesize, houseprices, learning_rate=0.000001)\n",
    "predictions = np.add(np.multiply(price_per_size, housesize), base_price)\n",
    "print(f'Price per size {price_per_size:.2f} and base price {base_price:.2f}')\n",
    "print(f'Predictions {predictions}')\n",
    "print(f'Actuals {houseprices}')\n",
    "print(f'RMSE {rmse:.2f}')\n",
    "print(f'MAE {mae:.2f}')"
   ]
  },
  {
   "cell_type": "code",
   "execution_count": 159,
   "metadata": {},
   "outputs": [
    {
     "name": "stdout",
     "output_type": "stream",
     "text": [
      "======= Square Trick =======\n",
      "Weight 2.38 and bias 3.08\n",
      "Predictions [15.]\n",
      "Actuals [15]\n",
      "RMSE 0.00\n",
      "MAE 0.00\n",
      "======= Absolute Trick =======\n",
      "Weight 2.38 and bias 3.08\n",
      "Predictions [14.976]\n",
      "Actuals [15]\n",
      "RMSE 0.02\n",
      "MAE 0.02\n"
     ]
    }
   ],
   "source": [
    "features = np.array([5])\n",
    "labels = np.array([15])\n",
    "\n",
    "weight, bias, rmse, mae = my_linear_regression(features, labels, weight=2, bias=3)\n",
    "predictions = np.add(np.multiply(weight, features), bias)\n",
    "print(f'======= Square Trick =======')\n",
    "print(f'Weight {weight:.2f} and bias {bias:.2f}')\n",
    "print(f'Predictions {predictions}')\n",
    "print(f'Actuals {labels}')\n",
    "print(f'RMSE {rmse:.2f}')\n",
    "print(f'MAE {mae:.2f}')\n",
    "\n",
    "weight, bias, rmse, mae = my_linear_regression(features, labels, learning_method=absolute_trick, weight=2, bias=3)\n",
    "predictions = np.add(np.multiply(weight, features), bias)\n",
    "print(f'======= Absolute Trick =======')\n",
    "print(f'Weight {weight:.2f} and bias {bias:.2f}')\n",
    "print(f'Predictions {predictions}')\n",
    "print(f'Actuals {labels}')\n",
    "print(f'RMSE {rmse:.2f}')\n",
    "print(f'MAE {mae:.2f}')\n"
   ]
  },
  {
   "cell_type": "code",
   "execution_count": null,
   "metadata": {},
   "outputs": [],
   "source": []
  }
 ],
 "metadata": {
  "kernelspec": {
   "display_name": ".venv",
   "language": "python",
   "name": "python3"
  },
  "language_info": {
   "codemirror_mode": {
    "name": "ipython",
    "version": 3
   },
   "file_extension": ".py",
   "mimetype": "text/x-python",
   "name": "python",
   "nbconvert_exporter": "python",
   "pygments_lexer": "ipython3",
   "version": "3.6.9"
  }
 },
 "nbformat": 4,
 "nbformat_minor": 2
}
